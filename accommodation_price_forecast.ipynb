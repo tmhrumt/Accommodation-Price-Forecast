{
 "cells": [
  {
   "cell_type": "markdown",
   "metadata": {},
   "source": [
    "# 【練習問題】民泊サービスの宿泊価格予測\n",
    "\n",
    "https://signate.jp/competitions/266"
   ]
  },
  {
   "cell_type": "markdown",
   "metadata": {},
   "source": [
    "# メモ\n",
    "\n",
    "* データはアメリカのデータ"
   ]
  },
  {
   "cell_type": "code",
   "execution_count": null,
   "metadata": {},
   "outputs": [],
   "source": [
    "# データダウンロード\n",
    "!signate download -c 266 -p ./data"
   ]
  },
  {
   "cell_type": "code",
   "execution_count": 1,
   "metadata": {},
   "outputs": [
    {
     "data": {
      "text/plain": [
       "'データディレクトリ'"
      ]
     },
     "execution_count": 1,
     "metadata": {},
     "output_type": "execute_result"
    }
   ],
   "source": [
    "# 定数定義\n",
    "\n",
    "DATA_DIRECTORY = \"./data/\"\n",
    "\"\"\"データディレクトリ\"\"\""
   ]
  },
  {
   "cell_type": "code",
   "execution_count": 2,
   "metadata": {},
   "outputs": [],
   "source": [
    "# インポート定義\n",
    "\n",
    "import pandas as pd\n",
    "import numpy as np\n",
    "import matplotlib.pyplot as plt\n",
    "import lightgbm as lgb\n",
    "from lightgbm import early_stopping, log_evaluation\n",
    "from sklearn.preprocessing import LabelEncoder\n",
    "from sklearn.model_selection import KFold\n",
    "import datetime\n",
    "from dateutil import tz\n",
    "import gc\n",
    "import os\n",
    "from pandas.api.types import is_datetime64_any_dtype as is_datetime\n",
    "from pandas.api.types import is_categorical_dtype\n",
    "import collections"
   ]
  },
  {
   "cell_type": "code",
   "execution_count": 3,
   "metadata": {},
   "outputs": [],
   "source": [
    "def load_train_data() -> pd.DataFrame:\n",
    "  \"\"\"学習データ読み込み\n",
    "\n",
    "  Returns:\n",
    "      pd.DataFrame: 学習データを返す \n",
    "  \"\"\"\n",
    "  file_path = os.path.join(DATA_DIRECTORY, \"train.csv\")\n",
    "\n",
    "  return load_data(file_path)"
   ]
  },
  {
   "cell_type": "code",
   "execution_count": 4,
   "metadata": {},
   "outputs": [],
   "source": [
    "def load_test_data() -> pd.DataFrame:\n",
    "  \"\"\"テストデータ読み込み\n",
    "\n",
    "  Returns:\n",
    "      pd.DataFrame: テストデータを返す\n",
    "  \"\"\"\n",
    "  file_path = os.path.join(DATA_DIRECTORY, \"test.csv\")\n",
    "\n",
    "  return load_data(file_path)"
   ]
  },
  {
   "cell_type": "code",
   "execution_count": 31,
   "metadata": {},
   "outputs": [],
   "source": [
    "def load_data(file_path: str) -> pd.DataFrame:\n",
    "  \"\"\"データ読み込み\n",
    "\n",
    "  Args:\n",
    "      file_path (str): データファイルパス\n",
    "\n",
    "  Returns:\n",
    "      pd.DataFrame: 読み込んだデータを返す\n",
    "  \"\"\"\n",
    "\n",
    "  df = pd.read_csv(file_path, header=0)\n",
    "  df = deta_edit(df)\n",
    "#   df = reduce_mem_usage(df)\n",
    "\n",
    "  return df"
   ]
  },
  {
   "cell_type": "code",
   "execution_count": 93,
   "metadata": {},
   "outputs": [],
   "source": [
    "def deta_edit(df: pd.DataFrame) -> pd.DataFrame:\n",
    "  \"\"\"データ編集\n",
    "\n",
    "  Args:\n",
    "      df (pd.DataFrame): ロードデータ\n",
    "\n",
    "  Returns:\n",
    "      pd.DataFrame: 編集後のデータを返す\n",
    "  \"\"\"\n",
    "  \n",
    "  # アメニティーリスト文字列を配列へ展開 \n",
    "  amenities = df.amenities\n",
    "  amenities = amenities.str.replace(\"{|}|\"\"\", \"\", regex=True)\n",
    "  amenities = [ val.split(\",\") for val in amenities ]\n",
    "  df.amenities = amenities\n",
    "  \n",
    "  # アメニティ数\n",
    "  df[\"amenity_count\"] = [ len(val) for val in amenities ]\n",
    "  \n",
    "  # 説明 文字数 TODO:説明の文字数と料金に関係が見られないため、除外\n",
    "  # df[\"description_length\"] = df.description.str.len()\n",
    "\n",
    "\n",
    "  # 不要カラムを削除\n",
    "#   df.drop(columns=[\"amenities\", \"description\", \"first_review\", \"host_has_profile_pic\", \"host_identity_verified\", \"host_response_rate\", \"host_since\", \"instant_bookable\", \"last_review\", \"latitude\", \"longitude\", \"name\", \"neighbourhood\", \"thumbnail_url\", \"zipcode\"])\n",
    "  df.drop(columns=[\"description\", \"first_review\", \"host_has_profile_pic\", \"host_identity_verified\", \"host_response_rate\", \"host_since\", \"instant_bookable\", \"last_review\", \"latitude\", \"longitude\", \"name\", \"neighbourhood\", \"thumbnail_url\", \"zipcode\"])\n",
    "\n",
    "  return df"
   ]
  },
  {
   "cell_type": "code",
   "execution_count": 94,
   "metadata": {},
   "outputs": [],
   "source": [
    "def reduce_mem_usage(df: pd.DataFrame, use_float16: bool = False) -> pd.DataFrame:\n",
    "    \"\"\"ロードしたデータを型変換し、容量を削減する\n",
    "\n",
    "    Args:\n",
    "        df (pd.DataFrame): ロードデータ\n",
    "        use_float16 (bool, optional): float16使用フラグ デフォルト値：False\n",
    "\n",
    "    Returns:\n",
    "        pd.DataFrame: 容量削減後のデータを返す\n",
    "    \"\"\"\n",
    "    \n",
    "    start_mem = df.memory_usage().sum() / 1024**2\n",
    "    print(\"Memory usage of dataframe is {:.2f} MB\".format(start_mem))\n",
    "    \n",
    "    for col in df.columns:\n",
    "        if is_datetime(df[col]) or is_categorical_dtype(df[col]):\n",
    "            continue\n",
    "        col_type = df[col].dtype\n",
    "        \n",
    "        if col_type != object:\n",
    "            c_min = df[col].min()\n",
    "            c_max = df[col].max()\n",
    "            if str(col_type)[:3] == \"int\":\n",
    "                if c_min > np.iinfo(np.int8).min and c_max < np.iinfo(np.int8).max:\n",
    "                    df[col] = df[col].astype(np.int8)\n",
    "                elif c_min > np.iinfo(np.int16).min and c_max < np.iinfo(np.int16).max:\n",
    "                    df[col] = df[col].astype(np.int16)\n",
    "                elif c_min > np.iinfo(np.int32).min and c_max < np.iinfo(np.int32).max:\n",
    "                    df[col] = df[col].astype(np.int32)\n",
    "                elif c_min > np.iinfo(np.int64).min and c_max < np.iinfo(np.int64).max:\n",
    "                    df[col] = df[col].astype(np.int64)  \n",
    "            else:\n",
    "                if use_float16 and c_min > np.finfo(np.float16).min and c_max < np.finfo(np.float16).max:\n",
    "                    df[col] = df[col].astype(np.float16)\n",
    "                elif c_min > np.finfo(np.float32).min and c_max < np.finfo(np.float32).max:\n",
    "                    df[col] = df[col].astype(np.float32)\n",
    "                else:\n",
    "                    df[col] = df[col].astype(np.float64)\n",
    "        else:\n",
    "            df[col] = df[col].astype(\"category\")\n",
    "\n",
    "    end_mem = df.memory_usage().sum() / 1024**2\n",
    "    print(\"Memory usage after optimization is: {:.2f} MB\".format(end_mem))\n",
    "    print(\"Decreased by {:.1f}%\".format(100 * (start_mem - end_mem) / start_mem))\n",
    "    \n",
    "    return df"
   ]
  },
  {
   "cell_type": "code",
   "execution_count": 95,
   "metadata": {},
   "outputs": [],
   "source": [
    "train_df = load_train_data()\n",
    "test_df = load_test_data()"
   ]
  },
  {
   "cell_type": "code",
   "execution_count": 174,
   "metadata": {},
   "outputs": [
    {
     "data": {
      "text/html": [
       "<div>\n",
       "<style scoped>\n",
       "    .dataframe tbody tr th:only-of-type {\n",
       "        vertical-align: middle;\n",
       "    }\n",
       "\n",
       "    .dataframe tbody tr th {\n",
       "        vertical-align: top;\n",
       "    }\n",
       "\n",
       "    .dataframe thead th {\n",
       "        text-align: right;\n",
       "    }\n",
       "</style>\n",
       "<table border=\"1\" class=\"dataframe\">\n",
       "  <thead>\n",
       "    <tr style=\"text-align: right;\">\n",
       "      <th></th>\n",
       "      <th>id</th>\n",
       "      <th>accommodates</th>\n",
       "      <th>bathrooms</th>\n",
       "      <th>bedrooms</th>\n",
       "      <th>beds</th>\n",
       "      <th>latitude</th>\n",
       "      <th>longitude</th>\n",
       "      <th>number_of_reviews</th>\n",
       "      <th>review_scores_rating</th>\n",
       "      <th>y</th>\n",
       "      <th>amenity_count</th>\n",
       "    </tr>\n",
       "  </thead>\n",
       "  <tbody>\n",
       "    <tr>\n",
       "      <th>count</th>\n",
       "      <td>55583.000000</td>\n",
       "      <td>55583.000000</td>\n",
       "      <td>55436.000000</td>\n",
       "      <td>55512.000000</td>\n",
       "      <td>55487.000000</td>\n",
       "      <td>55583.000000</td>\n",
       "      <td>55583.000000</td>\n",
       "      <td>55583.000000</td>\n",
       "      <td>43027.000000</td>\n",
       "      <td>55583.000000</td>\n",
       "      <td>55583.000000</td>\n",
       "    </tr>\n",
       "    <tr>\n",
       "      <th>mean</th>\n",
       "      <td>27791.000000</td>\n",
       "      <td>3.152906</td>\n",
       "      <td>1.236426</td>\n",
       "      <td>1.265312</td>\n",
       "      <td>1.711770</td>\n",
       "      <td>38.450812</td>\n",
       "      <td>-92.342406</td>\n",
       "      <td>20.937283</td>\n",
       "      <td>94.077928</td>\n",
       "      <td>160.163647</td>\n",
       "      <td>17.602432</td>\n",
       "    </tr>\n",
       "    <tr>\n",
       "      <th>std</th>\n",
       "      <td>16045.574343</td>\n",
       "      <td>2.153001</td>\n",
       "      <td>0.583074</td>\n",
       "      <td>0.849319</td>\n",
       "      <td>1.257822</td>\n",
       "      <td>3.080869</td>\n",
       "      <td>21.687844</td>\n",
       "      <td>37.951889</td>\n",
       "      <td>7.802154</td>\n",
       "      <td>168.087140</td>\n",
       "      <td>6.941039</td>\n",
       "    </tr>\n",
       "    <tr>\n",
       "      <th>min</th>\n",
       "      <td>0.000000</td>\n",
       "      <td>1.000000</td>\n",
       "      <td>0.000000</td>\n",
       "      <td>0.000000</td>\n",
       "      <td>0.000000</td>\n",
       "      <td>33.338905</td>\n",
       "      <td>-122.511500</td>\n",
       "      <td>0.000000</td>\n",
       "      <td>20.000000</td>\n",
       "      <td>1.000000</td>\n",
       "      <td>1.000000</td>\n",
       "    </tr>\n",
       "    <tr>\n",
       "      <th>25%</th>\n",
       "      <td>13895.500000</td>\n",
       "      <td>2.000000</td>\n",
       "      <td>1.000000</td>\n",
       "      <td>1.000000</td>\n",
       "      <td>1.000000</td>\n",
       "      <td>34.128205</td>\n",
       "      <td>-118.341876</td>\n",
       "      <td>1.000000</td>\n",
       "      <td>92.000000</td>\n",
       "      <td>74.000000</td>\n",
       "      <td>13.000000</td>\n",
       "    </tr>\n",
       "    <tr>\n",
       "      <th>50%</th>\n",
       "      <td>27791.000000</td>\n",
       "      <td>2.000000</td>\n",
       "      <td>1.000000</td>\n",
       "      <td>1.000000</td>\n",
       "      <td>1.000000</td>\n",
       "      <td>40.663312</td>\n",
       "      <td>-76.995602</td>\n",
       "      <td>6.000000</td>\n",
       "      <td>96.000000</td>\n",
       "      <td>111.000000</td>\n",
       "      <td>17.000000</td>\n",
       "    </tr>\n",
       "    <tr>\n",
       "      <th>75%</th>\n",
       "      <td>41686.500000</td>\n",
       "      <td>4.000000</td>\n",
       "      <td>1.000000</td>\n",
       "      <td>1.000000</td>\n",
       "      <td>2.000000</td>\n",
       "      <td>40.746146</td>\n",
       "      <td>-73.954703</td>\n",
       "      <td>23.000000</td>\n",
       "      <td>100.000000</td>\n",
       "      <td>185.000000</td>\n",
       "      <td>22.000000</td>\n",
       "    </tr>\n",
       "    <tr>\n",
       "      <th>max</th>\n",
       "      <td>55582.000000</td>\n",
       "      <td>16.000000</td>\n",
       "      <td>8.000000</td>\n",
       "      <td>10.000000</td>\n",
       "      <td>18.000000</td>\n",
       "      <td>42.390437</td>\n",
       "      <td>-70.999166</td>\n",
       "      <td>605.000000</td>\n",
       "      <td>100.000000</td>\n",
       "      <td>1999.000000</td>\n",
       "      <td>86.000000</td>\n",
       "    </tr>\n",
       "  </tbody>\n",
       "</table>\n",
       "</div>"
      ],
      "text/plain": [
       "                 id  accommodates     bathrooms      bedrooms          beds  \\\n",
       "count  55583.000000  55583.000000  55436.000000  55512.000000  55487.000000   \n",
       "mean   27791.000000      3.152906      1.236426      1.265312      1.711770   \n",
       "std    16045.574343      2.153001      0.583074      0.849319      1.257822   \n",
       "min        0.000000      1.000000      0.000000      0.000000      0.000000   \n",
       "25%    13895.500000      2.000000      1.000000      1.000000      1.000000   \n",
       "50%    27791.000000      2.000000      1.000000      1.000000      1.000000   \n",
       "75%    41686.500000      4.000000      1.000000      1.000000      2.000000   \n",
       "max    55582.000000     16.000000      8.000000     10.000000     18.000000   \n",
       "\n",
       "           latitude     longitude  number_of_reviews  review_scores_rating  \\\n",
       "count  55583.000000  55583.000000       55583.000000          43027.000000   \n",
       "mean      38.450812    -92.342406          20.937283             94.077928   \n",
       "std        3.080869     21.687844          37.951889              7.802154   \n",
       "min       33.338905   -122.511500           0.000000             20.000000   \n",
       "25%       34.128205   -118.341876           1.000000             92.000000   \n",
       "50%       40.663312    -76.995602           6.000000             96.000000   \n",
       "75%       40.746146    -73.954703          23.000000            100.000000   \n",
       "max       42.390437    -70.999166         605.000000            100.000000   \n",
       "\n",
       "                  y  amenity_count  \n",
       "count  55583.000000   55583.000000  \n",
       "mean     160.163647      17.602432  \n",
       "std      168.087140       6.941039  \n",
       "min        1.000000       1.000000  \n",
       "25%       74.000000      13.000000  \n",
       "50%      111.000000      17.000000  \n",
       "75%      185.000000      22.000000  \n",
       "max     1999.000000      86.000000  "
      ]
     },
     "execution_count": 174,
     "metadata": {},
     "output_type": "execute_result"
    }
   ],
   "source": [
    "train_df.describe()"
   ]
  },
  {
   "cell_type": "code",
   "execution_count": null,
   "metadata": {},
   "outputs": [],
   "source": []
  },
  {
   "cell_type": "code",
   "execution_count": null,
   "metadata": {},
   "outputs": [],
   "source": []
  },
  {
   "cell_type": "markdown",
   "metadata": {},
   "source": [
    "## 以下、調査用"
   ]
  },
  {
   "cell_type": "markdown",
   "metadata": {},
   "source": [
    "### 調査まとめ\n",
    "\n",
    "####　アメニティ\n",
    "\n",
    "* \n",
    "\n",
    "\n"
   ]
  },
  {
   "cell_type": "markdown",
   "metadata": {},
   "source": [
    "### アメニティ項目の確認"
   ]
  },
  {
   "cell_type": "code",
   "execution_count": 12,
   "metadata": {},
   "outputs": [],
   "source": [
    "amenities = train_df.amenities"
   ]
  },
  {
   "cell_type": "code",
   "execution_count": 55,
   "metadata": {},
   "outputs": [],
   "source": [
    "amenities = amenities.str.replace(\"{|}\", \"\", regex=True)"
   ]
  },
  {
   "cell_type": "code",
   "execution_count": 54,
   "metadata": {},
   "outputs": [],
   "source": [
    "def amenity_count(series: pd.Series) -> collections.Counter :\n",
    "  \"\"\"全アメニティーをカウントする\n",
    "\n",
    "  Args:\n",
    "      series (pd.Series): アメニティーデータ\n",
    "\n",
    "  Returns:\n",
    "      collections.Counter: カウント結果を返す\n",
    "  \"\"\"\n",
    "  \n",
    "  ser_vals = []\n",
    "\n",
    "  for row in series:\n",
    "    for val in row.split(\",\"):\n",
    "      ser_vals.append(val.replace('\"',''))\n",
    "\n",
    "  counter = collections.Counter(ser_vals)\n",
    "  \n",
    "  return counter\n"
   ]
  },
  {
   "cell_type": "code",
   "execution_count": 56,
   "metadata": {},
   "outputs": [],
   "source": [
    "count = amenity_count(amenities)"
   ]
  },
  {
   "cell_type": "code",
   "execution_count": 57,
   "metadata": {},
   "outputs": [],
   "source": [
    "count_items = sorted(count.items(), key=lambda x:x[1], reverse=True)"
   ]
  },
  {
   "cell_type": "code",
   "execution_count": 65,
   "metadata": {},
   "outputs": [
    {
     "data": {
      "text/plain": [
       "<matplotlib.collections.PathCollection at 0x177765870>"
      ]
     },
     "execution_count": 65,
     "metadata": {},
     "output_type": "execute_result"
    },
    {
     "data": {
      "image/png": "[encoded data removed]",
      "text/plain": [
       "<Figure size 432x288 with 1 Axes>"
      ]
     },
     "metadata": {
      "needs_background": "light"
     },
     "output_type": "display_data"
    }
   ],
   "source": [
    "plt.scatter(train_df.amenity_count, train_df.y)"
   ]
  },
  {
   "cell_type": "markdown",
   "metadata": {},
   "source": [
    "アメニティの数は価格に直接的な影響は与えていないように見える"
   ]
  },
  {
   "cell_type": "code",
   "execution_count": 13,
   "metadata": {},
   "outputs": [
    {
     "data": {
      "text/plain": [
       "0        {TV,\"Wireless Internet\",Kitchen,\"Free parking ...\n",
       "1        {TV,\"Cable TV\",Internet,\"Wireless Internet\",\"A...\n",
       "2        {TV,Internet,\"Wireless Internet\",Kitchen,\"Indo...\n",
       "3        {TV,\"Cable TV\",Internet,\"Wireless Internet\",\"A...\n",
       "4        {TV,Internet,\"Wireless Internet\",\"Air conditio...\n",
       "                               ...                        \n",
       "55578    {TV,\"Cable TV\",Internet,\"Wireless Internet\",\"A...\n",
       "55579    {TV,Internet,\"Wireless Internet\",\"Air conditio...\n",
       "55580    {TV,Internet,\"Wireless Internet\",Kitchen,Heati...\n",
       "55581    {TV,\"Wireless Internet\",\"Air conditioning\",Poo...\n",
       "55582    {TV,\"Cable TV\",Internet,\"Wireless Internet\",\"A...\n",
       "Name: amenities, Length: 55583, dtype: category\n",
       "Categories (51031, object): ['{\"Air conditioning\",\"Carbon monoxide detector..., '{\"Air conditioning\",\"Elevator in building\",He..., '{\"Air conditioning\",\"Fire extinguisher\",Essen..., '{\"Air conditioning\",\"Free parking on premises..., ..., '{Washer,Dryer,Internet,\"Smoke detector\",\"Wire..., '{Washer,Dryer,Internet,\"Wireless Internet\",Ki..., '{Washer,Dryer}', '{}']"
      ]
     },
     "execution_count": 13,
     "metadata": {},
     "output_type": "execute_result"
    }
   ],
   "source": [
    "train_df.amenities"
   ]
  },
  {
   "cell_type": "code",
   "execution_count": 171,
   "metadata": {},
   "outputs": [],
   "source": [
    "def mean_by_amenities(df):\n",
    "  # 重複しないアメニティのリストを作成\n",
    "  amenities_list = []\n",
    "  for amenities in df.amenities:\n",
    "    amenities_list.extend(amenities)\n",
    "\n",
    "  amenities_set = set(amenities_list)\n",
    "  amenities_set.remove('')\n",
    "\n",
    "  res = pd.DataFrame([],columns=[\"amenity\", \"exist_count\", \"exist_y_mean\",  \"not_exist_y_mean\"])\n",
    "\n",
    "  for amenity in amenities_set:\n",
    "    exist_df = df[[ amenity in amenities for amenities in df.amenities ]]\n",
    "    not_exist_df = df[[ amenity not in amenities for amenities in df.amenities ]]\n",
    "    \n",
    "    exist_y_mean = exist_df.y.mean()\n",
    "    not_exist_y_mean = not_exist_df.y.mean()\n",
    "    \n",
    "    mean_df = {\n",
    "      \"amenity\": amenity,\n",
    "      \"exist_count\": len(exist_df),\n",
    "      \"exist_y_mean\": exist_y_mean,\n",
    "      \"not_exist_y_mean\": not_exist_y_mean\n",
    "    }\n",
    "\n",
    "    res = res.append(mean_df, ignore_index=True)\n",
    "\n",
    "    del exist_df\n",
    "    del not_exist_df\n",
    "    del mean_df\n",
    "\n",
    "  return res"
   ]
  },
  {
   "cell_type": "code",
   "execution_count": 173,
   "metadata": {},
   "outputs": [
    {
     "name": "stderr",
     "output_type": "stream",
     "text": [
      "/var/folders/km/rlhv761j4rqcrksj6ch5bw_r0000gn/T/ipykernel_11669/563486265.py:26: FutureWarning: The frame.append method is deprecated and will be removed from pandas in a future version. Use pandas.concat instead.\n",
      "  res = res.append(mean_df, ignore_index=True)\n",
      "/var/folders/km/rlhv761j4rqcrksj6ch5bw_r0000gn/T/ipykernel_11669/563486265.py:26: FutureWarning: The frame.append method is deprecated and will be removed from pandas in a future version. Use pandas.concat instead.\n",
      "  res = res.append(mean_df, ignore_index=True)\n",
      "/var/folders/km/rlhv761j4rqcrksj6ch5bw_r0000gn/T/ipykernel_11669/563486265.py:26: FutureWarning: The frame.append method is deprecated and will be removed from pandas in a future version. Use pandas.concat instead.\n",
      "  res = res.append(mean_df, ignore_index=True)\n",
      "/var/folders/km/rlhv761j4rqcrksj6ch5bw_r0000gn/T/ipykernel_11669/563486265.py:26: FutureWarning: The frame.append method is deprecated and will be removed from pandas in a future version. Use pandas.concat instead.\n",
      "  res = res.append(mean_df, ignore_index=True)\n",
      "/var/folders/km/rlhv761j4rqcrksj6ch5bw_r0000gn/T/ipykernel_11669/563486265.py:26: FutureWarning: The frame.append method is deprecated and will be removed from pandas in a future version. Use pandas.concat instead.\n",
      "  res = res.append(mean_df, ignore_index=True)\n",
      "/var/folders/km/rlhv761j4rqcrksj6ch5bw_r0000gn/T/ipykernel_11669/563486265.py:26: FutureWarning: The frame.append method is deprecated and will be removed from pandas in a future version. Use pandas.concat instead.\n",
      "  res = res.append(mean_df, ignore_index=True)\n",
      "/var/folders/km/rlhv761j4rqcrksj6ch5bw_r0000gn/T/ipykernel_11669/563486265.py:26: FutureWarning: The frame.append method is deprecated and will be removed from pandas in a future version. Use pandas.concat instead.\n",
      "  res = res.append(mean_df, ignore_index=True)\n",
      "/var/folders/km/rlhv761j4rqcrksj6ch5bw_r0000gn/T/ipykernel_11669/563486265.py:26: FutureWarning: The frame.append method is deprecated and will be removed from pandas in a future version. Use pandas.concat instead.\n",
      "  res = res.append(mean_df, ignore_index=True)\n",
      "/var/folders/km/rlhv761j4rqcrksj6ch5bw_r0000gn/T/ipykernel_11669/563486265.py:26: FutureWarning: The frame.append method is deprecated and will be removed from pandas in a future version. Use pandas.concat instead.\n",
      "  res = res.append(mean_df, ignore_index=True)\n",
      "/var/folders/km/rlhv761j4rqcrksj6ch5bw_r0000gn/T/ipykernel_11669/563486265.py:26: FutureWarning: The frame.append method is deprecated and will be removed from pandas in a future version. Use pandas.concat instead.\n",
      "  res = res.append(mean_df, ignore_index=True)\n",
      "/var/folders/km/rlhv761j4rqcrksj6ch5bw_r0000gn/T/ipykernel_11669/563486265.py:26: FutureWarning: The frame.append method is deprecated and will be removed from pandas in a future version. Use pandas.concat instead.\n",
      "  res = res.append(mean_df, ignore_index=True)\n",
      "/var/folders/km/rlhv761j4rqcrksj6ch5bw_r0000gn/T/ipykernel_11669/563486265.py:26: FutureWarning: The frame.append method is deprecated and will be removed from pandas in a future version. Use pandas.concat instead.\n",
      "  res = res.append(mean_df, ignore_index=True)\n",
      "/var/folders/km/rlhv761j4rqcrksj6ch5bw_r0000gn/T/ipykernel_11669/563486265.py:26: FutureWarning: The frame.append method is deprecated and will be removed from pandas in a future version. Use pandas.concat instead.\n",
      "  res = res.append(mean_df, ignore_index=True)\n",
      "/var/folders/km/rlhv761j4rqcrksj6ch5bw_r0000gn/T/ipykernel_11669/563486265.py:26: FutureWarning: The frame.append method is deprecated and will be removed from pandas in a future version. Use pandas.concat instead.\n",
      "  res = res.append(mean_df, ignore_index=True)\n",
      "/var/folders/km/rlhv761j4rqcrksj6ch5bw_r0000gn/T/ipykernel_11669/563486265.py:26: FutureWarning: The frame.append method is deprecated and will be removed from pandas in a future version. Use pandas.concat instead.\n",
      "  res = res.append(mean_df, ignore_index=True)\n",
      "/var/folders/km/rlhv761j4rqcrksj6ch5bw_r0000gn/T/ipykernel_11669/563486265.py:26: FutureWarning: The frame.append method is deprecated and will be removed from pandas in a future version. Use pandas.concat instead.\n",
      "  res = res.append(mean_df, ignore_index=True)\n",
      "/var/folders/km/rlhv761j4rqcrksj6ch5bw_r0000gn/T/ipykernel_11669/563486265.py:26: FutureWarning: The frame.append method is deprecated and will be removed from pandas in a future version. Use pandas.concat instead.\n",
      "  res = res.append(mean_df, ignore_index=True)\n",
      "/var/folders/km/rlhv761j4rqcrksj6ch5bw_r0000gn/T/ipykernel_11669/563486265.py:26: FutureWarning: The frame.append method is deprecated and will be removed from pandas in a future version. Use pandas.concat instead.\n",
      "  res = res.append(mean_df, ignore_index=True)\n",
      "/var/folders/km/rlhv761j4rqcrksj6ch5bw_r0000gn/T/ipykernel_11669/563486265.py:26: FutureWarning: The frame.append method is deprecated and will be removed from pandas in a future version. Use pandas.concat instead.\n",
      "  res = res.append(mean_df, ignore_index=True)\n",
      "/var/folders/km/rlhv761j4rqcrksj6ch5bw_r0000gn/T/ipykernel_11669/563486265.py:26: FutureWarning: The frame.append method is deprecated and will be removed from pandas in a future version. Use pandas.concat instead.\n",
      "  res = res.append(mean_df, ignore_index=True)\n",
      "/var/folders/km/rlhv761j4rqcrksj6ch5bw_r0000gn/T/ipykernel_11669/563486265.py:26: FutureWarning: The frame.append method is deprecated and will be removed from pandas in a future version. Use pandas.concat instead.\n",
      "  res = res.append(mean_df, ignore_index=True)\n",
      "/var/folders/km/rlhv761j4rqcrksj6ch5bw_r0000gn/T/ipykernel_11669/563486265.py:26: FutureWarning: The frame.append method is deprecated and will be removed from pandas in a future version. Use pandas.concat instead.\n",
      "  res = res.append(mean_df, ignore_index=True)\n",
      "/var/folders/km/rlhv761j4rqcrksj6ch5bw_r0000gn/T/ipykernel_11669/563486265.py:26: FutureWarning: The frame.append method is deprecated and will be removed from pandas in a future version. Use pandas.concat instead.\n",
      "  res = res.append(mean_df, ignore_index=True)\n",
      "/var/folders/km/rlhv761j4rqcrksj6ch5bw_r0000gn/T/ipykernel_11669/563486265.py:26: FutureWarning: The frame.append method is deprecated and will be removed from pandas in a future version. Use pandas.concat instead.\n",
      "  res = res.append(mean_df, ignore_index=True)\n",
      "/var/folders/km/rlhv761j4rqcrksj6ch5bw_r0000gn/T/ipykernel_11669/563486265.py:26: FutureWarning: The frame.append method is deprecated and will be removed from pandas in a future version. Use pandas.concat instead.\n",
      "  res = res.append(mean_df, ignore_index=True)\n",
      "/var/folders/km/rlhv761j4rqcrksj6ch5bw_r0000gn/T/ipykernel_11669/563486265.py:26: FutureWarning: The frame.append method is deprecated and will be removed from pandas in a future version. Use pandas.concat instead.\n",
      "  res = res.append(mean_df, ignore_index=True)\n",
      "/var/folders/km/rlhv761j4rqcrksj6ch5bw_r0000gn/T/ipykernel_11669/563486265.py:26: FutureWarning: The frame.append method is deprecated and will be removed from pandas in a future version. Use pandas.concat instead.\n",
      "  res = res.append(mean_df, ignore_index=True)\n",
      "/var/folders/km/rlhv761j4rqcrksj6ch5bw_r0000gn/T/ipykernel_11669/563486265.py:26: FutureWarning: The frame.append method is deprecated and will be removed from pandas in a future version. Use pandas.concat instead.\n",
      "  res = res.append(mean_df, ignore_index=True)\n",
      "/var/folders/km/rlhv761j4rqcrksj6ch5bw_r0000gn/T/ipykernel_11669/563486265.py:26: FutureWarning: The frame.append method is deprecated and will be removed from pandas in a future version. Use pandas.concat instead.\n",
      "  res = res.append(mean_df, ignore_index=True)\n",
      "/var/folders/km/rlhv761j4rqcrksj6ch5bw_r0000gn/T/ipykernel_11669/563486265.py:26: FutureWarning: The frame.append method is deprecated and will be removed from pandas in a future version. Use pandas.concat instead.\n",
      "  res = res.append(mean_df, ignore_index=True)\n",
      "/var/folders/km/rlhv761j4rqcrksj6ch5bw_r0000gn/T/ipykernel_11669/563486265.py:26: FutureWarning: The frame.append method is deprecated and will be removed from pandas in a future version. Use pandas.concat instead.\n",
      "  res = res.append(mean_df, ignore_index=True)\n",
      "/var/folders/km/rlhv761j4rqcrksj6ch5bw_r0000gn/T/ipykernel_11669/563486265.py:26: FutureWarning: The frame.append method is deprecated and will be removed from pandas in a future version. Use pandas.concat instead.\n",
      "  res = res.append(mean_df, ignore_index=True)\n",
      "/var/folders/km/rlhv761j4rqcrksj6ch5bw_r0000gn/T/ipykernel_11669/563486265.py:26: FutureWarning: The frame.append method is deprecated and will be removed from pandas in a future version. Use pandas.concat instead.\n",
      "  res = res.append(mean_df, ignore_index=True)\n",
      "/var/folders/km/rlhv761j4rqcrksj6ch5bw_r0000gn/T/ipykernel_11669/563486265.py:26: FutureWarning: The frame.append method is deprecated and will be removed from pandas in a future version. Use pandas.concat instead.\n",
      "  res = res.append(mean_df, ignore_index=True)\n",
      "/var/folders/km/rlhv761j4rqcrksj6ch5bw_r0000gn/T/ipykernel_11669/563486265.py:26: FutureWarning: The frame.append method is deprecated and will be removed from pandas in a future version. Use pandas.concat instead.\n",
      "  res = res.append(mean_df, ignore_index=True)\n",
      "/var/folders/km/rlhv761j4rqcrksj6ch5bw_r0000gn/T/ipykernel_11669/563486265.py:26: FutureWarning: The frame.append method is deprecated and will be removed from pandas in a future version. Use pandas.concat instead.\n",
      "  res = res.append(mean_df, ignore_index=True)\n",
      "/var/folders/km/rlhv761j4rqcrksj6ch5bw_r0000gn/T/ipykernel_11669/563486265.py:26: FutureWarning: The frame.append method is deprecated and will be removed from pandas in a future version. Use pandas.concat instead.\n",
      "  res = res.append(mean_df, ignore_index=True)\n",
      "/var/folders/km/rlhv761j4rqcrksj6ch5bw_r0000gn/T/ipykernel_11669/563486265.py:26: FutureWarning: The frame.append method is deprecated and will be removed from pandas in a future version. Use pandas.concat instead.\n",
      "  res = res.append(mean_df, ignore_index=True)\n",
      "/var/folders/km/rlhv761j4rqcrksj6ch5bw_r0000gn/T/ipykernel_11669/563486265.py:26: FutureWarning: The frame.append method is deprecated and will be removed from pandas in a future version. Use pandas.concat instead.\n",
      "  res = res.append(mean_df, ignore_index=True)\n",
      "/var/folders/km/rlhv761j4rqcrksj6ch5bw_r0000gn/T/ipykernel_11669/563486265.py:26: FutureWarning: The frame.append method is deprecated and will be removed from pandas in a future version. Use pandas.concat instead.\n",
      "  res = res.append(mean_df, ignore_index=True)\n",
      "/var/folders/km/rlhv761j4rqcrksj6ch5bw_r0000gn/T/ipykernel_11669/563486265.py:26: FutureWarning: The frame.append method is deprecated and will be removed from pandas in a future version. Use pandas.concat instead.\n",
      "  res = res.append(mean_df, ignore_index=True)\n",
      "/var/folders/km/rlhv761j4rqcrksj6ch5bw_r0000gn/T/ipykernel_11669/563486265.py:26: FutureWarning: The frame.append method is deprecated and will be removed from pandas in a future version. Use pandas.concat instead.\n",
      "  res = res.append(mean_df, ignore_index=True)\n",
      "/var/folders/km/rlhv761j4rqcrksj6ch5bw_r0000gn/T/ipykernel_11669/563486265.py:26: FutureWarning: The frame.append method is deprecated and will be removed from pandas in a future version. Use pandas.concat instead.\n",
      "  res = res.append(mean_df, ignore_index=True)\n",
      "/var/folders/km/rlhv761j4rqcrksj6ch5bw_r0000gn/T/ipykernel_11669/563486265.py:26: FutureWarning: The frame.append method is deprecated and will be removed from pandas in a future version. Use pandas.concat instead.\n",
      "  res = res.append(mean_df, ignore_index=True)\n",
      "/var/folders/km/rlhv761j4rqcrksj6ch5bw_r0000gn/T/ipykernel_11669/563486265.py:26: FutureWarning: The frame.append method is deprecated and will be removed from pandas in a future version. Use pandas.concat instead.\n",
      "  res = res.append(mean_df, ignore_index=True)\n",
      "/var/folders/km/rlhv761j4rqcrksj6ch5bw_r0000gn/T/ipykernel_11669/563486265.py:26: FutureWarning: The frame.append method is deprecated and will be removed from pandas in a future version. Use pandas.concat instead.\n",
      "  res = res.append(mean_df, ignore_index=True)\n",
      "/var/folders/km/rlhv761j4rqcrksj6ch5bw_r0000gn/T/ipykernel_11669/563486265.py:26: FutureWarning: The frame.append method is deprecated and will be removed from pandas in a future version. Use pandas.concat instead.\n",
      "  res = res.append(mean_df, ignore_index=True)\n",
      "/var/folders/km/rlhv761j4rqcrksj6ch5bw_r0000gn/T/ipykernel_11669/563486265.py:26: FutureWarning: The frame.append method is deprecated and will be removed from pandas in a future version. Use pandas.concat instead.\n",
      "  res = res.append(mean_df, ignore_index=True)\n",
      "/var/folders/km/rlhv761j4rqcrksj6ch5bw_r0000gn/T/ipykernel_11669/563486265.py:26: FutureWarning: The frame.append method is deprecated and will be removed from pandas in a future version. Use pandas.concat instead.\n",
      "  res = res.append(mean_df, ignore_index=True)\n",
      "/var/folders/km/rlhv761j4rqcrksj6ch5bw_r0000gn/T/ipykernel_11669/563486265.py:26: FutureWarning: The frame.append method is deprecated and will be removed from pandas in a future version. Use pandas.concat instead.\n",
      "  res = res.append(mean_df, ignore_index=True)\n",
      "/var/folders/km/rlhv761j4rqcrksj6ch5bw_r0000gn/T/ipykernel_11669/563486265.py:26: FutureWarning: The frame.append method is deprecated and will be removed from pandas in a future version. Use pandas.concat instead.\n",
      "  res = res.append(mean_df, ignore_index=True)\n",
      "/var/folders/km/rlhv761j4rqcrksj6ch5bw_r0000gn/T/ipykernel_11669/563486265.py:26: FutureWarning: The frame.append method is deprecated and will be removed from pandas in a future version. Use pandas.concat instead.\n",
      "  res = res.append(mean_df, ignore_index=True)\n",
      "/var/folders/km/rlhv761j4rqcrksj6ch5bw_r0000gn/T/ipykernel_11669/563486265.py:26: FutureWarning: The frame.append method is deprecated and will be removed from pandas in a future version. Use pandas.concat instead.\n",
      "  res = res.append(mean_df, ignore_index=True)\n",
      "/var/folders/km/rlhv761j4rqcrksj6ch5bw_r0000gn/T/ipykernel_11669/563486265.py:26: FutureWarning: The frame.append method is deprecated and will be removed from pandas in a future version. Use pandas.concat instead.\n",
      "  res = res.append(mean_df, ignore_index=True)\n",
      "/var/folders/km/rlhv761j4rqcrksj6ch5bw_r0000gn/T/ipykernel_11669/563486265.py:26: FutureWarning: The frame.append method is deprecated and will be removed from pandas in a future version. Use pandas.concat instead.\n",
      "  res = res.append(mean_df, ignore_index=True)\n",
      "/var/folders/km/rlhv761j4rqcrksj6ch5bw_r0000gn/T/ipykernel_11669/563486265.py:26: FutureWarning: The frame.append method is deprecated and will be removed from pandas in a future version. Use pandas.concat instead.\n",
      "  res = res.append(mean_df, ignore_index=True)\n",
      "/var/folders/km/rlhv761j4rqcrksj6ch5bw_r0000gn/T/ipykernel_11669/563486265.py:26: FutureWarning: The frame.append method is deprecated and will be removed from pandas in a future version. Use pandas.concat instead.\n",
      "  res = res.append(mean_df, ignore_index=True)\n",
      "/var/folders/km/rlhv761j4rqcrksj6ch5bw_r0000gn/T/ipykernel_11669/563486265.py:26: FutureWarning: The frame.append method is deprecated and will be removed from pandas in a future version. Use pandas.concat instead.\n",
      "  res = res.append(mean_df, ignore_index=True)\n",
      "/var/folders/km/rlhv761j4rqcrksj6ch5bw_r0000gn/T/ipykernel_11669/563486265.py:26: FutureWarning: The frame.append method is deprecated and will be removed from pandas in a future version. Use pandas.concat instead.\n",
      "  res = res.append(mean_df, ignore_index=True)\n",
      "/var/folders/km/rlhv761j4rqcrksj6ch5bw_r0000gn/T/ipykernel_11669/563486265.py:26: FutureWarning: The frame.append method is deprecated and will be removed from pandas in a future version. Use pandas.concat instead.\n",
      "  res = res.append(mean_df, ignore_index=True)\n",
      "/var/folders/km/rlhv761j4rqcrksj6ch5bw_r0000gn/T/ipykernel_11669/563486265.py:26: FutureWarning: The frame.append method is deprecated and will be removed from pandas in a future version. Use pandas.concat instead.\n",
      "  res = res.append(mean_df, ignore_index=True)\n",
      "/var/folders/km/rlhv761j4rqcrksj6ch5bw_r0000gn/T/ipykernel_11669/563486265.py:26: FutureWarning: The frame.append method is deprecated and will be removed from pandas in a future version. Use pandas.concat instead.\n",
      "  res = res.append(mean_df, ignore_index=True)\n",
      "/var/folders/km/rlhv761j4rqcrksj6ch5bw_r0000gn/T/ipykernel_11669/563486265.py:26: FutureWarning: The frame.append method is deprecated and will be removed from pandas in a future version. Use pandas.concat instead.\n",
      "  res = res.append(mean_df, ignore_index=True)\n",
      "/var/folders/km/rlhv761j4rqcrksj6ch5bw_r0000gn/T/ipykernel_11669/563486265.py:26: FutureWarning: The frame.append method is deprecated and will be removed from pandas in a future version. Use pandas.concat instead.\n",
      "  res = res.append(mean_df, ignore_index=True)\n",
      "/var/folders/km/rlhv761j4rqcrksj6ch5bw_r0000gn/T/ipykernel_11669/563486265.py:26: FutureWarning: The frame.append method is deprecated and will be removed from pandas in a future version. Use pandas.concat instead.\n",
      "  res = res.append(mean_df, ignore_index=True)\n",
      "/var/folders/km/rlhv761j4rqcrksj6ch5bw_r0000gn/T/ipykernel_11669/563486265.py:26: FutureWarning: The frame.append method is deprecated and will be removed from pandas in a future version. Use pandas.concat instead.\n",
      "  res = res.append(mean_df, ignore_index=True)\n",
      "/var/folders/km/rlhv761j4rqcrksj6ch5bw_r0000gn/T/ipykernel_11669/563486265.py:26: FutureWarning: The frame.append method is deprecated and will be removed from pandas in a future version. Use pandas.concat instead.\n",
      "  res = res.append(mean_df, ignore_index=True)\n",
      "/var/folders/km/rlhv761j4rqcrksj6ch5bw_r0000gn/T/ipykernel_11669/563486265.py:26: FutureWarning: The frame.append method is deprecated and will be removed from pandas in a future version. Use pandas.concat instead.\n",
      "  res = res.append(mean_df, ignore_index=True)\n",
      "/var/folders/km/rlhv761j4rqcrksj6ch5bw_r0000gn/T/ipykernel_11669/563486265.py:26: FutureWarning: The frame.append method is deprecated and will be removed from pandas in a future version. Use pandas.concat instead.\n",
      "  res = res.append(mean_df, ignore_index=True)\n",
      "/var/folders/km/rlhv761j4rqcrksj6ch5bw_r0000gn/T/ipykernel_11669/563486265.py:26: FutureWarning: The frame.append method is deprecated and will be removed from pandas in a future version. Use pandas.concat instead.\n",
      "  res = res.append(mean_df, ignore_index=True)\n",
      "/var/folders/km/rlhv761j4rqcrksj6ch5bw_r0000gn/T/ipykernel_11669/563486265.py:26: FutureWarning: The frame.append method is deprecated and will be removed from pandas in a future version. Use pandas.concat instead.\n",
      "  res = res.append(mean_df, ignore_index=True)\n",
      "/var/folders/km/rlhv761j4rqcrksj6ch5bw_r0000gn/T/ipykernel_11669/563486265.py:26: FutureWarning: The frame.append method is deprecated and will be removed from pandas in a future version. Use pandas.concat instead.\n",
      "  res = res.append(mean_df, ignore_index=True)\n",
      "/var/folders/km/rlhv761j4rqcrksj6ch5bw_r0000gn/T/ipykernel_11669/563486265.py:26: FutureWarning: The frame.append method is deprecated and will be removed from pandas in a future version. Use pandas.concat instead.\n",
      "  res = res.append(mean_df, ignore_index=True)\n",
      "/var/folders/km/rlhv761j4rqcrksj6ch5bw_r0000gn/T/ipykernel_11669/563486265.py:26: FutureWarning: The frame.append method is deprecated and will be removed from pandas in a future version. Use pandas.concat instead.\n",
      "  res = res.append(mean_df, ignore_index=True)\n",
      "/var/folders/km/rlhv761j4rqcrksj6ch5bw_r0000gn/T/ipykernel_11669/563486265.py:26: FutureWarning: The frame.append method is deprecated and will be removed from pandas in a future version. Use pandas.concat instead.\n",
      "  res = res.append(mean_df, ignore_index=True)\n",
      "/var/folders/km/rlhv761j4rqcrksj6ch5bw_r0000gn/T/ipykernel_11669/563486265.py:26: FutureWarning: The frame.append method is deprecated and will be removed from pandas in a future version. Use pandas.concat instead.\n",
      "  res = res.append(mean_df, ignore_index=True)\n",
      "/var/folders/km/rlhv761j4rqcrksj6ch5bw_r0000gn/T/ipykernel_11669/563486265.py:26: FutureWarning: The frame.append method is deprecated and will be removed from pandas in a future version. Use pandas.concat instead.\n",
      "  res = res.append(mean_df, ignore_index=True)\n",
      "/var/folders/km/rlhv761j4rqcrksj6ch5bw_r0000gn/T/ipykernel_11669/563486265.py:26: FutureWarning: The frame.append method is deprecated and will be removed from pandas in a future version. Use pandas.concat instead.\n",
      "  res = res.append(mean_df, ignore_index=True)\n",
      "/var/folders/km/rlhv761j4rqcrksj6ch5bw_r0000gn/T/ipykernel_11669/563486265.py:26: FutureWarning: The frame.append method is deprecated and will be removed from pandas in a future version. Use pandas.concat instead.\n",
      "  res = res.append(mean_df, ignore_index=True)\n",
      "/var/folders/km/rlhv761j4rqcrksj6ch5bw_r0000gn/T/ipykernel_11669/563486265.py:26: FutureWarning: The frame.append method is deprecated and will be removed from pandas in a future version. Use pandas.concat instead.\n",
      "  res = res.append(mean_df, ignore_index=True)\n",
      "/var/folders/km/rlhv761j4rqcrksj6ch5bw_r0000gn/T/ipykernel_11669/563486265.py:26: FutureWarning: The frame.append method is deprecated and will be removed from pandas in a future version. Use pandas.concat instead.\n",
      "  res = res.append(mean_df, ignore_index=True)\n",
      "/var/folders/km/rlhv761j4rqcrksj6ch5bw_r0000gn/T/ipykernel_11669/563486265.py:26: FutureWarning: The frame.append method is deprecated and will be removed from pandas in a future version. Use pandas.concat instead.\n",
      "  res = res.append(mean_df, ignore_index=True)\n",
      "/var/folders/km/rlhv761j4rqcrksj6ch5bw_r0000gn/T/ipykernel_11669/563486265.py:26: FutureWarning: The frame.append method is deprecated and will be removed from pandas in a future version. Use pandas.concat instead.\n",
      "  res = res.append(mean_df, ignore_index=True)\n",
      "/var/folders/km/rlhv761j4rqcrksj6ch5bw_r0000gn/T/ipykernel_11669/563486265.py:26: FutureWarning: The frame.append method is deprecated and will be removed from pandas in a future version. Use pandas.concat instead.\n",
      "  res = res.append(mean_df, ignore_index=True)\n",
      "/var/folders/km/rlhv761j4rqcrksj6ch5bw_r0000gn/T/ipykernel_11669/563486265.py:26: FutureWarning: The frame.append method is deprecated and will be removed from pandas in a future version. Use pandas.concat instead.\n",
      "  res = res.append(mean_df, ignore_index=True)\n",
      "/var/folders/km/rlhv761j4rqcrksj6ch5bw_r0000gn/T/ipykernel_11669/563486265.py:26: FutureWarning: The frame.append method is deprecated and will be removed from pandas in a future version. Use pandas.concat instead.\n",
      "  res = res.append(mean_df, ignore_index=True)\n",
      "/var/folders/km/rlhv761j4rqcrksj6ch5bw_r0000gn/T/ipykernel_11669/563486265.py:26: FutureWarning: The frame.append method is deprecated and will be removed from pandas in a future version. Use pandas.concat instead.\n",
      "  res = res.append(mean_df, ignore_index=True)\n",
      "/var/folders/km/rlhv761j4rqcrksj6ch5bw_r0000gn/T/ipykernel_11669/563486265.py:26: FutureWarning: The frame.append method is deprecated and will be removed from pandas in a future version. Use pandas.concat instead.\n",
      "  res = res.append(mean_df, ignore_index=True)\n",
      "/var/folders/km/rlhv761j4rqcrksj6ch5bw_r0000gn/T/ipykernel_11669/563486265.py:26: FutureWarning: The frame.append method is deprecated and will be removed from pandas in a future version. Use pandas.concat instead.\n",
      "  res = res.append(mean_df, ignore_index=True)\n",
      "/var/folders/km/rlhv761j4rqcrksj6ch5bw_r0000gn/T/ipykernel_11669/563486265.py:26: FutureWarning: The frame.append method is deprecated and will be removed from pandas in a future version. Use pandas.concat instead.\n",
      "  res = res.append(mean_df, ignore_index=True)\n",
      "/var/folders/km/rlhv761j4rqcrksj6ch5bw_r0000gn/T/ipykernel_11669/563486265.py:26: FutureWarning: The frame.append method is deprecated and will be removed from pandas in a future version. Use pandas.concat instead.\n",
      "  res = res.append(mean_df, ignore_index=True)\n",
      "/var/folders/km/rlhv761j4rqcrksj6ch5bw_r0000gn/T/ipykernel_11669/563486265.py:26: FutureWarning: The frame.append method is deprecated and will be removed from pandas in a future version. Use pandas.concat instead.\n",
      "  res = res.append(mean_df, ignore_index=True)\n",
      "/var/folders/km/rlhv761j4rqcrksj6ch5bw_r0000gn/T/ipykernel_11669/563486265.py:26: FutureWarning: The frame.append method is deprecated and will be removed from pandas in a future version. Use pandas.concat instead.\n",
      "  res = res.append(mean_df, ignore_index=True)\n",
      "/var/folders/km/rlhv761j4rqcrksj6ch5bw_r0000gn/T/ipykernel_11669/563486265.py:26: FutureWarning: The frame.append method is deprecated and will be removed from pandas in a future version. Use pandas.concat instead.\n",
      "  res = res.append(mean_df, ignore_index=True)\n",
      "/var/folders/km/rlhv761j4rqcrksj6ch5bw_r0000gn/T/ipykernel_11669/563486265.py:26: FutureWarning: The frame.append method is deprecated and will be removed from pandas in a future version. Use pandas.concat instead.\n",
      "  res = res.append(mean_df, ignore_index=True)\n",
      "/var/folders/km/rlhv761j4rqcrksj6ch5bw_r0000gn/T/ipykernel_11669/563486265.py:26: FutureWarning: The frame.append method is deprecated and will be removed from pandas in a future version. Use pandas.concat instead.\n",
      "  res = res.append(mean_df, ignore_index=True)\n",
      "/var/folders/km/rlhv761j4rqcrksj6ch5bw_r0000gn/T/ipykernel_11669/563486265.py:26: FutureWarning: The frame.append method is deprecated and will be removed from pandas in a future version. Use pandas.concat instead.\n",
      "  res = res.append(mean_df, ignore_index=True)\n",
      "/var/folders/km/rlhv761j4rqcrksj6ch5bw_r0000gn/T/ipykernel_11669/563486265.py:26: FutureWarning: The frame.append method is deprecated and will be removed from pandas in a future version. Use pandas.concat instead.\n",
      "  res = res.append(mean_df, ignore_index=True)\n",
      "/var/folders/km/rlhv761j4rqcrksj6ch5bw_r0000gn/T/ipykernel_11669/563486265.py:26: FutureWarning: The frame.append method is deprecated and will be removed from pandas in a future version. Use pandas.concat instead.\n",
      "  res = res.append(mean_df, ignore_index=True)\n",
      "/var/folders/km/rlhv761j4rqcrksj6ch5bw_r0000gn/T/ipykernel_11669/563486265.py:26: FutureWarning: The frame.append method is deprecated and will be removed from pandas in a future version. Use pandas.concat instead.\n",
      "  res = res.append(mean_df, ignore_index=True)\n",
      "/var/folders/km/rlhv761j4rqcrksj6ch5bw_r0000gn/T/ipykernel_11669/563486265.py:26: FutureWarning: The frame.append method is deprecated and will be removed from pandas in a future version. Use pandas.concat instead.\n",
      "  res = res.append(mean_df, ignore_index=True)\n",
      "/var/folders/km/rlhv761j4rqcrksj6ch5bw_r0000gn/T/ipykernel_11669/563486265.py:26: FutureWarning: The frame.append method is deprecated and will be removed from pandas in a future version. Use pandas.concat instead.\n",
      "  res = res.append(mean_df, ignore_index=True)\n",
      "/var/folders/km/rlhv761j4rqcrksj6ch5bw_r0000gn/T/ipykernel_11669/563486265.py:26: FutureWarning: The frame.append method is deprecated and will be removed from pandas in a future version. Use pandas.concat instead.\n",
      "  res = res.append(mean_df, ignore_index=True)\n",
      "/var/folders/km/rlhv761j4rqcrksj6ch5bw_r0000gn/T/ipykernel_11669/563486265.py:26: FutureWarning: The frame.append method is deprecated and will be removed from pandas in a future version. Use pandas.concat instead.\n",
      "  res = res.append(mean_df, ignore_index=True)\n",
      "/var/folders/km/rlhv761j4rqcrksj6ch5bw_r0000gn/T/ipykernel_11669/563486265.py:26: FutureWarning: The frame.append method is deprecated and will be removed from pandas in a future version. Use pandas.concat instead.\n",
      "  res = res.append(mean_df, ignore_index=True)\n",
      "/var/folders/km/rlhv761j4rqcrksj6ch5bw_r0000gn/T/ipykernel_11669/563486265.py:26: FutureWarning: The frame.append method is deprecated and will be removed from pandas in a future version. Use pandas.concat instead.\n",
      "  res = res.append(mean_df, ignore_index=True)\n",
      "/var/folders/km/rlhv761j4rqcrksj6ch5bw_r0000gn/T/ipykernel_11669/563486265.py:26: FutureWarning: The frame.append method is deprecated and will be removed from pandas in a future version. Use pandas.concat instead.\n",
      "  res = res.append(mean_df, ignore_index=True)\n",
      "/var/folders/km/rlhv761j4rqcrksj6ch5bw_r0000gn/T/ipykernel_11669/563486265.py:26: FutureWarning: The frame.append method is deprecated and will be removed from pandas in a future version. Use pandas.concat instead.\n",
      "  res = res.append(mean_df, ignore_index=True)\n",
      "/var/folders/km/rlhv761j4rqcrksj6ch5bw_r0000gn/T/ipykernel_11669/563486265.py:26: FutureWarning: The frame.append method is deprecated and will be removed from pandas in a future version. Use pandas.concat instead.\n",
      "  res = res.append(mean_df, ignore_index=True)\n",
      "/var/folders/km/rlhv761j4rqcrksj6ch5bw_r0000gn/T/ipykernel_11669/563486265.py:26: FutureWarning: The frame.append method is deprecated and will be removed from pandas in a future version. Use pandas.concat instead.\n",
      "  res = res.append(mean_df, ignore_index=True)\n",
      "/var/folders/km/rlhv761j4rqcrksj6ch5bw_r0000gn/T/ipykernel_11669/563486265.py:26: FutureWarning: The frame.append method is deprecated and will be removed from pandas in a future version. Use pandas.concat instead.\n",
      "  res = res.append(mean_df, ignore_index=True)\n",
      "/var/folders/km/rlhv761j4rqcrksj6ch5bw_r0000gn/T/ipykernel_11669/563486265.py:26: FutureWarning: The frame.append method is deprecated and will be removed from pandas in a future version. Use pandas.concat instead.\n",
      "  res = res.append(mean_df, ignore_index=True)\n",
      "/var/folders/km/rlhv761j4rqcrksj6ch5bw_r0000gn/T/ipykernel_11669/563486265.py:26: FutureWarning: The frame.append method is deprecated and will be removed from pandas in a future version. Use pandas.concat instead.\n",
      "  res = res.append(mean_df, ignore_index=True)\n",
      "/var/folders/km/rlhv761j4rqcrksj6ch5bw_r0000gn/T/ipykernel_11669/563486265.py:26: FutureWarning: The frame.append method is deprecated and will be removed from pandas in a future version. Use pandas.concat instead.\n",
      "  res = res.append(mean_df, ignore_index=True)\n",
      "/var/folders/km/rlhv761j4rqcrksj6ch5bw_r0000gn/T/ipykernel_11669/563486265.py:26: FutureWarning: The frame.append method is deprecated and will be removed from pandas in a future version. Use pandas.concat instead.\n",
      "  res = res.append(mean_df, ignore_index=True)\n",
      "/var/folders/km/rlhv761j4rqcrksj6ch5bw_r0000gn/T/ipykernel_11669/563486265.py:26: FutureWarning: The frame.append method is deprecated and will be removed from pandas in a future version. Use pandas.concat instead.\n",
      "  res = res.append(mean_df, ignore_index=True)\n",
      "/var/folders/km/rlhv761j4rqcrksj6ch5bw_r0000gn/T/ipykernel_11669/563486265.py:26: FutureWarning: The frame.append method is deprecated and will be removed from pandas in a future version. Use pandas.concat instead.\n",
      "  res = res.append(mean_df, ignore_index=True)\n",
      "/var/folders/km/rlhv761j4rqcrksj6ch5bw_r0000gn/T/ipykernel_11669/563486265.py:26: FutureWarning: The frame.append method is deprecated and will be removed from pandas in a future version. Use pandas.concat instead.\n",
      "  res = res.append(mean_df, ignore_index=True)\n",
      "/var/folders/km/rlhv761j4rqcrksj6ch5bw_r0000gn/T/ipykernel_11669/563486265.py:26: FutureWarning: The frame.append method is deprecated and will be removed from pandas in a future version. Use pandas.concat instead.\n",
      "  res = res.append(mean_df, ignore_index=True)\n",
      "/var/folders/km/rlhv761j4rqcrksj6ch5bw_r0000gn/T/ipykernel_11669/563486265.py:26: FutureWarning: The frame.append method is deprecated and will be removed from pandas in a future version. Use pandas.concat instead.\n",
      "  res = res.append(mean_df, ignore_index=True)\n",
      "/var/folders/km/rlhv761j4rqcrksj6ch5bw_r0000gn/T/ipykernel_11669/563486265.py:26: FutureWarning: The frame.append method is deprecated and will be removed from pandas in a future version. Use pandas.concat instead.\n",
      "  res = res.append(mean_df, ignore_index=True)\n",
      "/var/folders/km/rlhv761j4rqcrksj6ch5bw_r0000gn/T/ipykernel_11669/563486265.py:26: FutureWarning: The frame.append method is deprecated and will be removed from pandas in a future version. Use pandas.concat instead.\n",
      "  res = res.append(mean_df, ignore_index=True)\n",
      "/var/folders/km/rlhv761j4rqcrksj6ch5bw_r0000gn/T/ipykernel_11669/563486265.py:26: FutureWarning: The frame.append method is deprecated and will be removed from pandas in a future version. Use pandas.concat instead.\n",
      "  res = res.append(mean_df, ignore_index=True)\n",
      "/var/folders/km/rlhv761j4rqcrksj6ch5bw_r0000gn/T/ipykernel_11669/563486265.py:26: FutureWarning: The frame.append method is deprecated and will be removed from pandas in a future version. Use pandas.concat instead.\n",
      "  res = res.append(mean_df, ignore_index=True)\n",
      "/var/folders/km/rlhv761j4rqcrksj6ch5bw_r0000gn/T/ipykernel_11669/563486265.py:26: FutureWarning: The frame.append method is deprecated and will be removed from pandas in a future version. Use pandas.concat instead.\n",
      "  res = res.append(mean_df, ignore_index=True)\n",
      "/var/folders/km/rlhv761j4rqcrksj6ch5bw_r0000gn/T/ipykernel_11669/563486265.py:26: FutureWarning: The frame.append method is deprecated and will be removed from pandas in a future version. Use pandas.concat instead.\n",
      "  res = res.append(mean_df, ignore_index=True)\n",
      "/var/folders/km/rlhv761j4rqcrksj6ch5bw_r0000gn/T/ipykernel_11669/563486265.py:26: FutureWarning: The frame.append method is deprecated and will be removed from pandas in a future version. Use pandas.concat instead.\n",
      "  res = res.append(mean_df, ignore_index=True)\n",
      "/var/folders/km/rlhv761j4rqcrksj6ch5bw_r0000gn/T/ipykernel_11669/563486265.py:26: FutureWarning: The frame.append method is deprecated and will be removed from pandas in a future version. Use pandas.concat instead.\n",
      "  res = res.append(mean_df, ignore_index=True)\n",
      "/var/folders/km/rlhv761j4rqcrksj6ch5bw_r0000gn/T/ipykernel_11669/563486265.py:26: FutureWarning: The frame.append method is deprecated and will be removed from pandas in a future version. Use pandas.concat instead.\n",
      "  res = res.append(mean_df, ignore_index=True)\n"
     ]
    }
   ],
   "source": [
    "price_mean_by_amenity = mean_by_amenities(train_df)"
   ]
  },
  {
   "cell_type": "markdown",
   "metadata": {},
   "source": [
    "#### 価格に影響がありそうなアメニティリスト\n",
    "※平均価格から20ドル程度以上乖離があり、ある程度対象設定されている件数が存在するものを対象にする\n",
    "\n",
    "##### 料金が高いアメニティ\n",
    "* \"Private entrance\"\n",
    "* \"Hair dryer\"\n",
    "* TV\n",
    "* Gym\n",
    "* \"Family/kid friendly\"\n",
    "* Dryer\n",
    "* Washer\n",
    "* \"Cable TV\"\n",
    "* \"Pets allowed\"\n",
    "* Pool\n",
    "* \"Indoor fireplace\"\n",
    "* Elevator\n",
    "\n",
    "##### 料金が安いアメニティ\n",
    "* \"Smoking allowed\"\n",
    "* \"translation missing: en.hosting_amenity_50\"\n",
    "* \"translation missing: en.hosting_amenity_49\"\n"
   ]
  },
  {
   "cell_type": "markdown",
   "metadata": {},
   "source": [
    "### 都市項目の確認"
   ]
  },
  {
   "cell_type": "code",
   "execution_count": 64,
   "metadata": {},
   "outputs": [
    {
     "data": {
      "text/plain": [
       "0             LA\n",
       "1             DC\n",
       "2            NYC\n",
       "3             SF\n",
       "4            NYC\n",
       "          ...   \n",
       "55578        NYC\n",
       "55579    Chicago\n",
       "55580         SF\n",
       "55581         LA\n",
       "55582         LA\n",
       "Name: city, Length: 55583, dtype: category\n",
       "Categories (6, object): ['Boston', 'Chicago', 'DC', 'LA', 'NYC', 'SF']"
      ]
     },
     "execution_count": 64,
     "metadata": {},
     "output_type": "execute_result"
    }
   ],
   "source": [
    "train_df.city"
   ]
  },
  {
   "cell_type": "markdown",
   "metadata": {},
   "source": [
    "アメリカの6都市が設定されている"
   ]
  },
  {
   "cell_type": "code",
   "execution_count": 63,
   "metadata": {},
   "outputs": [
    {
     "data": {
      "text/plain": [
       "0         Boston\n",
       "1             LA\n",
       "2            NYC\n",
       "3            NYC\n",
       "4             LA\n",
       "          ...   \n",
       "18523        NYC\n",
       "18524    Chicago\n",
       "18525    Chicago\n",
       "18526        NYC\n",
       "18527         LA\n",
       "Name: city, Length: 18528, dtype: category\n",
       "Categories (6, object): ['Boston', 'Chicago', 'DC', 'LA', 'NYC', 'SF']"
      ]
     },
     "execution_count": 63,
     "metadata": {},
     "output_type": "execute_result"
    }
   ],
   "source": [
    "test_df.city"
   ]
  },
  {
   "cell_type": "markdown",
   "metadata": {},
   "source": [
    "テストデータについても同様の都市のみが設定されている"
   ]
  },
  {
   "cell_type": "code",
   "execution_count": 72,
   "metadata": {},
   "outputs": [],
   "source": [
    "train_city_counter = collections.Counter(train_df.city)\n",
    "test_city_counter = collections.Counter(test_df.city)"
   ]
  },
  {
   "cell_type": "code",
   "execution_count": 74,
   "metadata": {},
   "outputs": [
    {
     "data": {
      "text/plain": [
       "dict_items([('LA', 16828), ('DC', 4259), ('NYC', 24326), ('SF', 4768), ('Chicago', 2807), ('Boston', 2595)])"
      ]
     },
     "execution_count": 74,
     "metadata": {},
     "output_type": "execute_result"
    }
   ],
   "source": [
    "train_city_counter.items()"
   ]
  },
  {
   "cell_type": "code",
   "execution_count": 75,
   "metadata": {},
   "outputs": [
    {
     "data": {
      "text/plain": [
       "dict_items([('Boston', 873), ('LA', 5625), ('NYC', 8023), ('DC', 1429), ('SF', 1666), ('Chicago', 912)])"
      ]
     },
     "execution_count": 75,
     "metadata": {},
     "output_type": "execute_result"
    }
   ],
   "source": [
    "test_city_counter.items()"
   ]
  },
  {
   "cell_type": "markdown",
   "metadata": {},
   "source": [
    "都市データの分布は学習データ、テストデータでほとんど同じ\n",
    "\n",
    "| 都市 | 学習データ件数 | 学習データ割合 | テストデータ件数 | テストデータ割合 |\n",
    "| - | - | - | - | - |\n",
    "| LA | 16828 | 30.28% | 5625 | 30.36% |\n",
    "| DC | 4259 | 7.66% | 1429 | 7.71% |\n",
    "| NYC | 24326 | 43.77% | 8023 | 43.30% |\n",
    "| SF | 4768 | 8.58% | 1666 | 8.99% |\n",
    "| Chicago | 2807 | 5.05% | 912 | 4.92% |\n",
    "| Boston | 2595 | 4.67% | 873 | 4.71% |\n",
    "| 合計 | 55583 | - | 18528 | - |"
   ]
  },
  {
   "cell_type": "code",
   "execution_count": 10,
   "metadata": {},
   "outputs": [
    {
     "data": {
      "text/plain": [
       "<AxesSubplot:xlabel='y', ylabel='Count'>"
      ]
     },
     "execution_count": 10,
     "metadata": {},
     "output_type": "execute_result"
    },
    {
     "data": {
      "image/png": "[encoded data removed]",
      "text/plain": [
       "<Figure size 432x288 with 1 Axes>"
      ]
     },
     "metadata": {
      "needs_background": "light"
     },
     "output_type": "display_data"
    }
   ],
   "source": [
    "import seaborn as sns\n",
    "sns.histplot(x=\"y\", data=train_df, bins=range(0, 2000, 50), hue=\"city\")"
   ]
  },
  {
   "cell_type": "code",
   "execution_count": 11,
   "metadata": {},
   "outputs": [],
   "source": [
    "def plot_hist_by_city(df: pd.DataFrame):\n",
    "  \"\"\"都市毎の宿泊価格ヒストグラム出力\n",
    "\n",
    "  Args:\n",
    "      df (pd.DataFrame): ロードデータ\n",
    "  \"\"\"\n",
    "  cities = df.city.unique()\n",
    "\n",
    "  for city in cities:\n",
    "    plot_data = df[df.city == city]\n",
    "    plt.hist(plot_data.y, bins=range(0, 2000, 50))\n",
    "    plt.title(city)\n",
    "    plt.show()"
   ]
  },
  {
   "cell_type": "code",
   "execution_count": 12,
   "metadata": {},
   "outputs": [
    {
     "data": {
      "image/png": "[encoded data removed]",
      "text/plain": [
       "<Figure size 432x288 with 1 Axes>"
      ]
     },
     "metadata": {
      "needs_background": "light"
     },
     "output_type": "display_data"
    },
    {
     "data": {
      "image/png": "[encoded data removed]",
      "text/plain": [
       "<Figure size 432x288 with 1 Axes>"
      ]
     },
     "metadata": {
      "needs_background": "light"
     },
     "output_type": "display_data"
    },
    {
     "data": {
      "image/png": "[encoded data removed]",
      "text/plain": [
       "<Figure size 432x288 with 1 Axes>"
      ]
     },
     "metadata": {
      "needs_background": "light"
     },
     "output_type": "display_data"
    },
    {
     "data": {
      "image/png": "[encoded data removed]",
      "text/plain": [
       "<Figure size 432x288 with 1 Axes>"
      ]
     },
     "metadata": {
      "needs_background": "light"
     },
     "output_type": "display_data"
    },
    {
     "data": {
      "image/png": "[encoded data removed]",
      "text/plain": [
       "<Figure size 432x288 with 1 Axes>"
      ]
     },
     "metadata": {
      "needs_background": "light"
     },
     "output_type": "display_data"
    },
    {
     "data": {
      "image/png": "[encoded data removed]",
      "text/plain": [
       "<Figure size 432x288 with 1 Axes>"
      ]
     },
     "metadata": {
      "needs_background": "light"
     },
     "output_type": "display_data"
    }
   ],
   "source": [
    "plot_hist_by_city(train_df)"
   ]
  },
  {
   "cell_type": "markdown",
   "metadata": {},
   "source": [
    "都市毎の価格分布の形状はほとんど同じ  \n",
    "サンフランシスコが若干、価格が高い  "
   ]
  },
  {
   "cell_type": "markdown",
   "metadata": {},
   "source": [
    "### ベッドの種類"
   ]
  },
  {
   "cell_type": "code",
   "execution_count": 13,
   "metadata": {},
   "outputs": [
    {
     "data": {
      "text/plain": [
       "0        Real Bed\n",
       "1        Real Bed\n",
       "2        Real Bed\n",
       "3        Real Bed\n",
       "4        Real Bed\n",
       "           ...   \n",
       "55578    Real Bed\n",
       "55579    Real Bed\n",
       "55580    Real Bed\n",
       "55581    Real Bed\n",
       "55582    Real Bed\n",
       "Name: bed_type, Length: 55583, dtype: category\n",
       "Categories (5, object): ['Airbed', 'Couch', 'Futon', 'Pull-out Sofa', 'Real Bed']"
      ]
     },
     "execution_count": 13,
     "metadata": {},
     "output_type": "execute_result"
    }
   ],
   "source": [
    "train_df.bed_type"
   ]
  },
  {
   "cell_type": "code",
   "execution_count": 16,
   "metadata": {},
   "outputs": [],
   "source": [
    "def plot_hist_by_bed_type(df: pd.DataFrame):\n",
    "  \"\"\"ベッドの種類毎の宿泊価格ヒストグラム出力\n",
    "\n",
    "  Args:\n",
    "      df (pd.DataFrame): ロードデータ\n",
    "  \"\"\"\n",
    "  bed_types = df.bed_type.unique()\n",
    "\n",
    "  for bed_type in bed_types:\n",
    "    plot_data = df[df.bed_type == bed_type]\n",
    "    plt.hist(plot_data.y, bins=range(0, 2000, 50))\n",
    "    plt.title(bed_type)\n",
    "    plt.show()"
   ]
  },
  {
   "cell_type": "code",
   "execution_count": 17,
   "metadata": {},
   "outputs": [
    {
     "data": {
      "image/png": "[encoded data removed]",
      "text/plain": [
       "<Figure size 432x288 with 1 Axes>"
      ]
     },
     "metadata": {
      "needs_background": "light"
     },
     "output_type": "display_data"
    },
    {
     "data": {
      "image/png": "[encoded data removed]",
      "text/plain": [
       "<Figure size 432x288 with 1 Axes>"
      ]
     },
     "metadata": {
      "needs_background": "light"
     },
     "output_type": "display_data"
    },
    {
     "data": {
      "image/png": "[encoded data removed]",
      "text/plain": [
       "<Figure size 432x288 with 1 Axes>"
      ]
     },
     "metadata": {
      "needs_background": "light"
     },
     "output_type": "display_data"
    },
    {
     "data": {
      "image/png": "[encoded data removed]",
      "text/plain": [
       "<Figure size 432x288 with 1 Axes>"
      ]
     },
     "metadata": {
      "needs_background": "light"
     },
     "output_type": "display_data"
    },
    {
     "data": {
      "image/png": "[encoded data removed]",
      "text/plain": [
       "<Figure size 432x288 with 1 Axes>"
      ]
     },
     "metadata": {
      "needs_background": "light"
     },
     "output_type": "display_data"
    }
   ],
   "source": [
    "plot_hist_by_bed_type(train_df)"
   ]
  },
  {
   "cell_type": "code",
   "execution_count": 20,
   "metadata": {},
   "outputs": [],
   "source": [
    "bed_type_counter = collections.Counter(train_df.bed_type)"
   ]
  },
  {
   "cell_type": "code",
   "execution_count": 21,
   "metadata": {},
   "outputs": [
    {
     "data": {
      "text/plain": [
       "dict_items([('Real Bed', 53989), ('Pull-out Sofa', 453), ('Airbed', 364), ('Futon', 569), ('Couch', 208)])"
      ]
     },
     "execution_count": 21,
     "metadata": {},
     "output_type": "execute_result"
    }
   ],
   "source": [
    "bed_type_counter.items()"
   ]
  },
  {
   "cell_type": "markdown",
   "metadata": {},
   "source": [
    "ベッドの物件の方が価格が高い傾向にある  \n",
    "※ヒストグラムの中心から右側(価格が高い方)の変化がなだらかであるため  \n",
    "データのほとんどがベッドの物件のため、モデルに設定しても、あまり効果が薄いと思われる  \n",
    "※やるならベッドか否かのダミー変数にする  "
   ]
  },
  {
   "cell_type": "markdown",
   "metadata": {},
   "source": [
    "### 物件の種類"
   ]
  },
  {
   "cell_type": "code",
   "execution_count": 30,
   "metadata": {},
   "outputs": [
    {
     "data": {
      "text/plain": [
       "0        Apartment\n",
       "1            House\n",
       "2        Apartment\n",
       "3        Apartment\n",
       "4        Apartment\n",
       "           ...    \n",
       "55578    Apartment\n",
       "55579    Apartment\n",
       "55580    Apartment\n",
       "55581    Townhouse\n",
       "55582    Apartment\n",
       "Name: property_type, Length: 55583, dtype: category\n",
       "Categories (34, object): ['Apartment', 'Bed & Breakfast', 'Boat', 'Boutique hotel', ..., 'Treehouse', 'Vacation home', 'Villa', 'Yurt']"
      ]
     },
     "execution_count": 30,
     "metadata": {},
     "output_type": "execute_result"
    }
   ],
   "source": [
    "train_df.property_type"
   ]
  },
  {
   "cell_type": "code",
   "execution_count": 31,
   "metadata": {},
   "outputs": [],
   "source": [
    "train_property_type_counter = collections.Counter(train_df.property_type)"
   ]
  },
  {
   "cell_type": "code",
   "execution_count": 32,
   "metadata": {},
   "outputs": [
    {
     "data": {
      "text/plain": [
       "Counter({'Apartment': 36826,\n",
       "         'House': 12326,\n",
       "         'Townhouse': 1249,\n",
       "         'Loft': 914,\n",
       "         'Cabin': 47,\n",
       "         'Condominium': 1983,\n",
       "         'Guest suite': 96,\n",
       "         'Guesthouse': 392,\n",
       "         'Other': 448,\n",
       "         'Bungalow': 281,\n",
       "         'Villa': 131,\n",
       "         'Bed & Breakfast': 349,\n",
       "         'Dorm': 112,\n",
       "         'Timeshare': 55,\n",
       "         'Camper/RV': 71,\n",
       "         'Cave': 1,\n",
       "         'Hostel': 51,\n",
       "         'Earth House': 4,\n",
       "         'In-law': 60,\n",
       "         'Serviced apartment': 16,\n",
       "         'Boat': 53,\n",
       "         'Tent': 14,\n",
       "         'Castle': 9,\n",
       "         'Boutique hotel': 50,\n",
       "         'Vacation home': 11,\n",
       "         'Hut': 7,\n",
       "         'Treehouse': 7,\n",
       "         'Yurt': 8,\n",
       "         'Chalet': 4,\n",
       "         'Island': 1,\n",
       "         'Tipi': 3,\n",
       "         'Train': 2,\n",
       "         'Parking Space': 1,\n",
       "         'Casa particular': 1})"
      ]
     },
     "execution_count": 32,
     "metadata": {},
     "output_type": "execute_result"
    }
   ],
   "source": [
    "train_property_type_counter"
   ]
  },
  {
   "cell_type": "markdown",
   "metadata": {},
   "source": [
    "### 説明\n",
    "\n",
    "物件の説明が設定されている。\n",
    "最大で1000文字まで設定されている。\n",
    "※説明が1000文字以上の場合は先頭1000文字まで設定されている\n",
    "\n",
    "ex. id=8 のデータ\n",
    "```\n",
    "Very bright & cozy private room right in the heart of North Beach- a very short walking distance from Fisherman's Wharf, Pier 39, Coit Tower, Lombard Street, Pier 33 (Alcatraz Pier), Chinatown, & cruise/ferry terminals; one block from all public transportation, including cable cars, with a relaxing, beautiful garden! Built in 1907, this house on Greenwich Street is on the grounds of the first cemetery in San Francisco. The room is comfortable & cozy & you are assured a great night's rest. The building comes with the charms of one erected over 100 years ago, so please keep that in mind. With one of the best & most relaxing gardens in all of North Beach. The pictures speak for themselves as far as describing the room. I am happy to try to accommodate anything you need. Please ask if I may do anything to make your time here more enjoyable. There are no laundry facilities on site, however, there is a laundromat & two wash & fold drop-off establishments within one block of the house. I am t\n",
    "```"
   ]
  },
  {
   "cell_type": "code",
   "execution_count": 13,
   "metadata": {},
   "outputs": [
    {
     "data": {
      "text/plain": [
       "0         379\n",
       "1         406\n",
       "2         467\n",
       "3        1000\n",
       "4        1000\n",
       "         ... \n",
       "55578    1000\n",
       "55579    1000\n",
       "55580     239\n",
       "55581     756\n",
       "55582     131\n",
       "Name: description, Length: 55583, dtype: int64"
      ]
     },
     "execution_count": 13,
     "metadata": {},
     "output_type": "execute_result"
    }
   ],
   "source": [
    "train_df.description.str.len()"
   ]
  },
  {
   "cell_type": "code",
   "execution_count": 22,
   "metadata": {},
   "outputs": [],
   "source": [
    "def plot_hist_by_description_lengh(df: pd.DataFrame):\n",
    "  \"\"\"説明文字数のヒストグラム出力\n",
    "\n",
    "  Args:\n",
    "      df (pd.DataFrame): ロードデータ\n",
    "  \"\"\"\n",
    "\n",
    "  plt.hist(df.description_length, bins=range(0, 1000, 50))\n",
    "  plt.title(\"description_length\")\n",
    "  plt.show()"
   ]
  },
  {
   "cell_type": "code",
   "execution_count": 23,
   "metadata": {},
   "outputs": [
    {
     "data": {
      "image/png": "[encoded data removed]",
      "text/plain": [
       "<Figure size 432x288 with 1 Axes>"
      ]
     },
     "metadata": {
      "needs_background": "light"
     },
     "output_type": "display_data"
    }
   ],
   "source": [
    "plot_hist_by_description_lengh(train_df)"
   ]
  },
  {
   "cell_type": "code",
   "execution_count": 19,
   "metadata": {},
   "outputs": [],
   "source": [
    "def plot_scatter_by_description_lengh(df: pd.DataFrame):\n",
    "  \"\"\"説明文字数の宿泊価格散布図出力\n",
    "\n",
    "  Args:\n",
    "      df (pd.DataFrame): ロードデータ\n",
    "  \"\"\"\n",
    "\n",
    "  plt.scatter(df.description_length, df.y)\n",
    "  plt.title(\"description_length\")\n",
    "  plt.show()"
   ]
  },
  {
   "cell_type": "code",
   "execution_count": 20,
   "metadata": {},
   "outputs": [
    {
     "data": {
      "image/png": "[encoded data removed]",
      "text/plain": [
       "<Figure size 432x288 with 1 Axes>"
      ]
     },
     "metadata": {
      "needs_background": "light"
     },
     "output_type": "display_data"
    }
   ],
   "source": [
    "plot_scatter_by_description_lengh(train_df)"
   ]
  },
  {
   "cell_type": "markdown",
   "metadata": {},
   "source": [
    "説明文の文字数と価格は直接的な関係は関係は無い様に見える"
   ]
  },
  {
   "cell_type": "markdown",
   "metadata": {},
   "source": [
    "### キャンセル料"
   ]
  },
  {
   "cell_type": "code",
   "execution_count": 24,
   "metadata": {},
   "outputs": [],
   "source": [
    "cancellation_policy_counter = collections.Counter(train_df.cancellation_policy)"
   ]
  },
  {
   "cell_type": "code",
   "execution_count": 25,
   "metadata": {},
   "outputs": [
    {
     "data": {
      "text/plain": [
       "dict_items([('flexible', 16886), ('strict', 24318), ('moderate', 14288), ('super_strict_30', 78), ('super_strict_60', 13)])"
      ]
     },
     "execution_count": 25,
     "metadata": {},
     "output_type": "execute_result"
    }
   ],
   "source": [
    "cancellation_policy_counter.items()"
   ]
  },
  {
   "cell_type": "code",
   "execution_count": 32,
   "metadata": {},
   "outputs": [],
   "source": [
    "def plot_hist_by_cancellation_policy(df: pd.DataFrame):\n",
    "  \"\"\"キャンセル料の宿泊価格ヒストグラム出力\n",
    "\n",
    "  Args:\n",
    "      df (pd.DataFrame): ロードデータ\n",
    "  \"\"\"\n",
    "  cancellation_policies = df.cancellation_policy.unique()\n",
    "\n",
    "  for cancellation_policy in cancellation_policies:\n",
    "    plot_data = df[df.cancellation_policy == cancellation_policy]\n",
    "    plt.hist(plot_data.y, bins=range(0, 2000, 50))\n",
    "    plt.title(cancellation_policy)\n",
    "    plt.show()"
   ]
  },
  {
   "cell_type": "code",
   "execution_count": 33,
   "metadata": {},
   "outputs": [
    {
     "data": {
      "image/png": "[encoded data removed]",
      "text/plain": [
       "<Figure size 432x288 with 1 Axes>"
      ]
     },
     "metadata": {
      "needs_background": "light"
     },
     "output_type": "display_data"
    },
    {
     "data": {
      "image/png": "[encoded data removed]",
      "text/plain": [
       "<Figure size 432x288 with 1 Axes>"
      ]
     },
     "metadata": {
      "needs_background": "light"
     },
     "output_type": "display_data"
    },
    {
     "data": {
      "image/png": "[encoded data removed]",
      "text/plain": [
       "<Figure size 432x288 with 1 Axes>"
      ]
     },
     "metadata": {
      "needs_background": "light"
     },
     "output_type": "display_data"
    },
    {
     "data": {
      "image/png": "[encoded data removed]",
      "text/plain": [
       "<Figure size 432x288 with 1 Axes>"
      ]
     },
     "metadata": {
      "needs_background": "light"
     },
     "output_type": "display_data"
    },
    {
     "data": {
      "image/png": "[encoded data removed]",
      "text/plain": [
       "<Figure size 432x288 with 1 Axes>"
      ]
     },
     "metadata": {
      "needs_background": "light"
     },
     "output_type": "display_data"
    }
   ],
   "source": [
    "plot_hist_by_cancellation_policy(train_df)"
   ]
  },
  {
   "cell_type": "code",
   "execution_count": null,
   "metadata": {},
   "outputs": [],
   "source": []
  },
  {
   "cell_type": "markdown",
   "metadata": {},
   "source": [
    "おおよそ下記のような傾向が見られた。  \n",
    "```\n",
    "flexible　< strict < moderate < super_strict_30 < super_strict_60\n",
    "```  \n",
    "順序変数として扱うことができれば、良さそう。  "
   ]
  },
  {
   "cell_type": "markdown",
   "metadata": {},
   "source": [
    "### ホストの情報"
   ]
  },
  {
   "cell_type": "code",
   "execution_count": 34,
   "metadata": {},
   "outputs": [],
   "source": [
    "host_has_profile_pic_counter = collections.Counter(train_df.host_has_profile_pic)\n",
    "host_identity_verified_counter = collections.Counter(train_df.host_identity_verified)"
   ]
  },
  {
   "cell_type": "code",
   "execution_count": 35,
   "metadata": {},
   "outputs": [
    {
     "data": {
      "text/plain": [
       "Counter({'t': 55265, nan: 148, 'f': 170})"
      ]
     },
     "execution_count": 35,
     "metadata": {},
     "output_type": "execute_result"
    }
   ],
   "source": [
    "host_has_profile_pic_counter"
   ]
  },
  {
   "cell_type": "code",
   "execution_count": 36,
   "metadata": {},
   "outputs": [
    {
     "data": {
      "text/plain": [
       "Counter({'f': 18171, 't': 37264, nan: 148})"
      ]
     },
     "execution_count": 36,
     "metadata": {},
     "output_type": "execute_result"
    }
   ],
   "source": [
    "host_identity_verified_counter"
   ]
  },
  {
   "cell_type": "code",
   "execution_count": 37,
   "metadata": {},
   "outputs": [],
   "source": [
    "def plot_hist_by_host_has_profile_pic(df: pd.DataFrame):\n",
    "  \"\"\"ホストの写真有無の宿泊価格ヒストグラム出力\n",
    "\n",
    "  Args:\n",
    "      df (pd.DataFrame): ロードデータ\n",
    "  \"\"\"\n",
    "  has_host_pic_flags = df.host_has_profile_pic.unique()\n",
    "\n",
    "  for has_host_pic_flag in has_host_pic_flags:\n",
    "    plot_data = df[df.host_has_profile_pic == has_host_pic_flag]\n",
    "    plt.hist(plot_data.y, bins=range(0, 2000, 50))\n",
    "    plt.title(has_host_pic_flag)\n",
    "    plt.show()"
   ]
  },
  {
   "cell_type": "code",
   "execution_count": 39,
   "metadata": {},
   "outputs": [
    {
     "data": {
      "image/png": "[encoded data removed]",
      "text/plain": [
       "<Figure size 432x288 with 1 Axes>"
      ]
     },
     "metadata": {
      "needs_background": "light"
     },
     "output_type": "display_data"
    },
    {
     "data": {
      "image/png": "[encoded data removed]",
      "text/plain": [
       "<Figure size 432x288 with 1 Axes>"
      ]
     },
     "metadata": {
      "needs_background": "light"
     },
     "output_type": "display_data"
    },
    {
     "data": {
      "image/png": "[encoded data removed]",
      "text/plain": [
       "<Figure size 432x288 with 1 Axes>"
      ]
     },
     "metadata": {
      "needs_background": "light"
     },
     "output_type": "display_data"
    }
   ],
   "source": [
    "plot_hist_by_host_has_profile_pic(train_df)"
   ]
  },
  {
   "cell_type": "markdown",
   "metadata": {},
   "source": [
    "ホストの写真の有無は価格に影響していない様に見える"
   ]
  },
  {
   "cell_type": "code",
   "execution_count": 40,
   "metadata": {},
   "outputs": [],
   "source": [
    "def plot_hist_by_host_identity_verified(df: pd.DataFrame):\n",
    "  \"\"\"ホストの写真有無の宿泊価格ヒストグラム出力\n",
    "\n",
    "  Args:\n",
    "      df (pd.DataFrame): ロードデータ\n",
    "  \"\"\"\n",
    "  host_identity_verified_flags = df.host_identity_verified.unique()\n",
    "\n",
    "  for host_identity_verified_flag in host_identity_verified_flags:\n",
    "    plot_data = df[df.host_identity_verified == host_identity_verified_flag]\n",
    "    plt.hist(plot_data.y, bins=range(0, 2000, 50))\n",
    "    plt.title(host_identity_verified_flag)\n",
    "    plt.show()"
   ]
  },
  {
   "cell_type": "code",
   "execution_count": 41,
   "metadata": {},
   "outputs": [
    {
     "data": {
      "image/png": "[encoded data removed]",
      "text/plain": [
       "<Figure size 432x288 with 1 Axes>"
      ]
     },
     "metadata": {
      "needs_background": "light"
     },
     "output_type": "display_data"
    },
    {
     "data": {
      "image/png": "[encoded data removed]",
      "text/plain": [
       "<Figure size 432x288 with 1 Axes>"
      ]
     },
     "metadata": {
      "needs_background": "light"
     },
     "output_type": "display_data"
    },
    {
     "data": {
      "image/png": "[encoded data removed]",
      "text/plain": [
       "<Figure size 432x288 with 1 Axes>"
      ]
     },
     "metadata": {
      "needs_background": "light"
     },
     "output_type": "display_data"
    }
   ],
   "source": [
    "plot_hist_by_host_identity_verified(train_df)"
   ]
  },
  {
   "cell_type": "markdown",
   "metadata": {},
   "source": [
    "ホストの写真の有無は価格に影響していない様に見える"
   ]
  },
  {
   "cell_type": "markdown",
   "metadata": {},
   "source": [
    "### 即時予約可否"
   ]
  },
  {
   "cell_type": "code",
   "execution_count": 42,
   "metadata": {},
   "outputs": [],
   "source": [
    "instant_bookable_counter = collections.Counter(train_df.instant_bookable)"
   ]
  },
  {
   "cell_type": "code",
   "execution_count": 43,
   "metadata": {},
   "outputs": [
    {
     "data": {
      "text/plain": [
       "Counter({'f': 41034, 't': 14549})"
      ]
     },
     "execution_count": 43,
     "metadata": {},
     "output_type": "execute_result"
    }
   ],
   "source": [
    "instant_bookable_counter"
   ]
  },
  {
   "cell_type": "code",
   "execution_count": 44,
   "metadata": {},
   "outputs": [],
   "source": [
    "def plot_hist_by_instant_bookable(df: pd.DataFrame):\n",
    "  \"\"\"即時予約可否の宿泊価格ヒストグラム出力\n",
    "\n",
    "  Args:\n",
    "      df (pd.DataFrame): ロードデータ\n",
    "  \"\"\"\n",
    "  instant_bookable_flags = df.instant_bookable.unique()\n",
    "\n",
    "  for instant_bookable_flag in instant_bookable_flags:\n",
    "    plot_data = df[df.instant_bookable == instant_bookable_flag]\n",
    "    plt.hist(plot_data.y, bins=range(0, 2000, 50))\n",
    "    plt.title(instant_bookable_flag)\n",
    "    plt.show()"
   ]
  },
  {
   "cell_type": "code",
   "execution_count": 45,
   "metadata": {},
   "outputs": [
    {
     "data": {
      "image/png": "[encoded data removed]",
      "text/plain": [
       "<Figure size 432x288 with 1 Axes>"
      ]
     },
     "metadata": {
      "needs_background": "light"
     },
     "output_type": "display_data"
    },
    {
     "data": {
      "image/png": "[encoded data removed]",
      "text/plain": [
       "<Figure size 432x288 with 1 Axes>"
      ]
     },
     "metadata": {
      "needs_background": "light"
     },
     "output_type": "display_data"
    }
   ],
   "source": [
    "plot_hist_by_instant_bookable(train_df)"
   ]
  },
  {
   "cell_type": "markdown",
   "metadata": {},
   "source": [
    "即時予約の有無は価格に影響はなさそう"
   ]
  },
  {
   "cell_type": "markdown",
   "metadata": {},
   "source": [
    "### レビュー数"
   ]
  },
  {
   "cell_type": "code",
   "execution_count": 52,
   "metadata": {},
   "outputs": [],
   "source": [
    "def plot_scatter_by_number_of_reviews(df: pd.DataFrame):\n",
    "  \"\"\"レビュー数の宿泊価格散布図出力\n",
    "\n",
    "  Args:\n",
    "      df (pd.DataFrame): ロードデータ\n",
    "  \"\"\"\n",
    "\n",
    "  plt.scatter(df.number_of_reviews, df.y)\n",
    "  plt.title(\"number_of_reviews\")\n",
    "  plt.show()"
   ]
  },
  {
   "cell_type": "code",
   "execution_count": 51,
   "metadata": {},
   "outputs": [
    {
     "data": {
      "image/png": "[encoded data removed]",
      "text/plain": [
       "<Figure size 432x288 with 1 Axes>"
      ]
     },
     "metadata": {
      "needs_background": "light"
     },
     "output_type": "display_data"
    }
   ],
   "source": [
    "plot_scatter_by_number_of_reviews(train_df)"
   ]
  },
  {
   "cell_type": "markdown",
   "metadata": {},
   "source": [
    "価格が低い物件はレビュー数が多いものから少ないものまで幅広く分布しているが、  \n",
    "価格が高い物件はレビュー数が少ないはレビューが低いものがほとんど  \n",
    "⇨価格が低い物件は利用者が多く、その分レビュワーが多くなっている  \n",
    "⇨⇨価格が低いからレビュー数が多いという因果関係のため、レビュー数はモデルに組み込まない方が良さそう"
   ]
  },
  {
   "cell_type": "markdown",
   "metadata": {},
   "source": [
    "### レビュースコア"
   ]
  },
  {
   "cell_type": "code",
   "execution_count": 55,
   "metadata": {},
   "outputs": [],
   "source": [
    "def plot_scatter_by_review_scores_rating(df: pd.DataFrame):\n",
    "  \"\"\"レビュースコアの宿泊価格散布図出力\n",
    "\n",
    "  Args:\n",
    "      df (pd.DataFrame): ロードデータ\n",
    "  \"\"\"\n",
    "\n",
    "  plt.scatter(df.review_scores_rating, df.y)\n",
    "  plt.title(\"review_scores_rating\")\n",
    "  plt.show()"
   ]
  },
  {
   "cell_type": "code",
   "execution_count": 56,
   "metadata": {},
   "outputs": [
    {
     "data": {
      "image/png": "[encoded data removed]",
      "text/plain": [
       "<Figure size 432x288 with 1 Axes>"
      ]
     },
     "metadata": {
      "needs_background": "light"
     },
     "output_type": "display_data"
    }
   ],
   "source": [
    "plot_scatter_by_review_scores_rating(train_df)"
   ]
  },
  {
   "cell_type": "markdown",
   "metadata": {},
   "source": [
    "レビュースコアと価格は直接的な関係は見られなかった  \n",
    "⇨スコアは満足度を表すため、コストパフォーマンスを表す値になっていそう\n",
    "\n"
   ]
  },
  {
   "cell_type": "markdown",
   "metadata": {},
   "source": [
    "### 部屋の種類"
   ]
  },
  {
   "cell_type": "code",
   "execution_count": 57,
   "metadata": {},
   "outputs": [],
   "source": [
    "room_type_counter = collections.Counter(train_df.room_type)"
   ]
  },
  {
   "cell_type": "code",
   "execution_count": 58,
   "metadata": {},
   "outputs": [
    {
     "data": {
      "text/plain": [
       "dict_items([('Private room', 23023), ('Entire home/apt', 30939), ('Shared room', 1621)])"
      ]
     },
     "execution_count": 58,
     "metadata": {},
     "output_type": "execute_result"
    }
   ],
   "source": [
    "room_type_counter.items()"
   ]
  },
  {
   "cell_type": "code",
   "execution_count": 59,
   "metadata": {},
   "outputs": [],
   "source": [
    "def plot_hist_by_room_type(df: pd.DataFrame):\n",
    "  \"\"\"部屋の種類の宿泊価格ヒストグラム出力\n",
    "\n",
    "  Args:\n",
    "      df (pd.DataFrame): ロードデータ\n",
    "  \"\"\"\n",
    "  \n",
    "  room_types = df.room_type.unique()\n",
    "\n",
    "  for room_type in room_types:\n",
    "    plot_data = df[df.room_type == room_type]\n",
    "    plt.hist(plot_data.y, bins=range(0, 2000, 50))\n",
    "    plt.title(room_type)\n",
    "    plt.show()"
   ]
  },
  {
   "cell_type": "code",
   "execution_count": 60,
   "metadata": {},
   "outputs": [
    {
     "data": {
      "image/png": "[encoded data removed]",
      "text/plain": [
       "<Figure size 432x288 with 1 Axes>"
      ]
     },
     "metadata": {
      "needs_background": "light"
     },
     "output_type": "display_data"
    },
    {
     "data": {
      "image/png": "[encoded data removed]",
      "text/plain": [
       "<Figure size 432x288 with 1 Axes>"
      ]
     },
     "metadata": {
      "needs_background": "light"
     },
     "output_type": "display_data"
    },
    {
     "data": {
      "image/png": "[encoded data removed]",
      "text/plain": [
       "<Figure size 432x288 with 1 Axes>"
      ]
     },
     "metadata": {
      "needs_background": "light"
     },
     "output_type": "display_data"
    }
   ],
   "source": [
    "plot_hist_by_room_type(train_df)"
   ]
  },
  {
   "cell_type": "markdown",
   "metadata": {},
   "source": [
    "価格順は下記の傾向が見られた\n",
    "```\n",
    "Shared room < Private room < Entire home\n",
    "```"
   ]
  }
 ],
 "metadata": {
  "interpreter": {
   "hash": "74c7c3687703664997f19149f5445e423068aa826b97a36d943ea9f2cd8004e5"
  },
  "kernelspec": {
   "display_name": "Python 3.10.4 ('python_3.10')",
   "language": "python",
   "name": "python3"
  },
  "language_info": {
   "codemirror_mode": {
    "name": "ipython",
    "version": 3
   },
   "file_extension": ".py",
   "mimetype": "text/x-python",
   "name": "python",
   "nbconvert_exporter": "python",
   "pygments_lexer": "ipython3",
   "version": "3.10.4"
  },
  "orig_nbformat": 4
 },
 "nbformat": 4,
 "nbformat_minor": 2
}
