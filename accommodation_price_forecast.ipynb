{
 "cells": [
  {
   "cell_type": "markdown",
   "metadata": {},
   "source": [
    "# 【練習問題】民泊サービスの宿泊価格予測\n",
    "\n",
    "https://signate.jp/competitions/266"
   ]
  },
  {
   "cell_type": "markdown",
   "metadata": {},
   "source": [
    "### メモ\n",
    "\n",
    "* データはアメリカのデータ"
   ]
  },
  {
   "cell_type": "markdown",
   "metadata": {},
   "source": [
    "## データダウンロード"
   ]
  },
  {
   "cell_type": "code",
   "execution_count": null,
   "metadata": {},
   "outputs": [],
   "source": [
    "# データダウンロード\n",
    "!signate download -c 266 -p ./data"
   ]
  },
  {
   "cell_type": "markdown",
   "metadata": {},
   "source": [
    "## 定数、インポート定義"
   ]
  },
  {
   "cell_type": "code",
   "execution_count": 1,
   "metadata": {},
   "outputs": [
    {
     "data": {
      "text/plain": [
       "'データディレクトリ'"
      ]
     },
     "execution_count": 1,
     "metadata": {},
     "output_type": "execute_result"
    }
   ],
   "source": [
    "# 定数定義\n",
    "\n",
    "DATA_DIRECTORY = \"./data/\"\n",
    "\"\"\"データディレクトリ\"\"\""
   ]
  },
  {
   "cell_type": "code",
   "execution_count": 2,
   "metadata": {},
   "outputs": [],
   "source": [
    "# インポート定義\n",
    "\n",
    "import pandas as pd\n",
    "import numpy as np\n",
    "import matplotlib.pyplot as plt\n",
    "import lightgbm as lgb\n",
    "from lightgbm import early_stopping, log_evaluation\n",
    "from sklearn.preprocessing import LabelEncoder\n",
    "from sklearn.model_selection import KFold\n",
    "import datetime\n",
    "from dateutil import tz\n",
    "import gc\n",
    "import os\n",
    "from pandas.api.types import is_datetime64_any_dtype as is_datetime\n",
    "from pandas.api.types import is_categorical_dtype\n",
    "import collections"
   ]
  },
  {
   "cell_type": "markdown",
   "metadata": {},
   "source": [
    "## メソッド定義"
   ]
  },
  {
   "cell_type": "code",
   "execution_count": 3,
   "metadata": {},
   "outputs": [],
   "source": [
    "def load_train_data() -> pd.DataFrame:\n",
    "  \"\"\"学習データ読み込み\n",
    "\n",
    "  Returns:\n",
    "      pd.DataFrame: 学習データを返す \n",
    "  \"\"\"\n",
    "  file_path = os.path.join(DATA_DIRECTORY, \"train.csv\")\n",
    "\n",
    "  return load_data(file_path)"
   ]
  },
  {
   "cell_type": "code",
   "execution_count": 4,
   "metadata": {},
   "outputs": [],
   "source": [
    "def load_test_data() -> pd.DataFrame:\n",
    "  \"\"\"テストデータ読み込み\n",
    "\n",
    "  Returns:\n",
    "      pd.DataFrame: テストデータを返す\n",
    "  \"\"\"\n",
    "  file_path = os.path.join(DATA_DIRECTORY, \"test.csv\")\n",
    "\n",
    "  return load_data(file_path)"
   ]
  },
  {
   "cell_type": "code",
   "execution_count": 5,
   "metadata": {},
   "outputs": [],
   "source": [
    "def load_data(file_path: str) -> pd.DataFrame:\n",
    "  \"\"\"データ読み込み\n",
    "\n",
    "  Args:\n",
    "      file_path (str): データファイルパス\n",
    "\n",
    "  Returns:\n",
    "      pd.DataFrame: 読み込んだデータを返す\n",
    "  \"\"\"\n",
    "\n",
    "  df = pd.read_csv(file_path, header=0)\n",
    "  df = deta_edit(df)\n",
    "  df = reduce_mem_usage(df)\n",
    "\n",
    "  return df"
   ]
  },
  {
   "cell_type": "code",
   "execution_count": 6,
   "metadata": {},
   "outputs": [],
   "source": [
    "def deta_edit(df: pd.DataFrame) -> pd.DataFrame:\n",
    "  \"\"\"データ編集\n",
    "\n",
    "  Args:\n",
    "      df (pd.DataFrame): ロードデータ\n",
    "\n",
    "  Returns:\n",
    "      pd.DataFrame: 編集後のデータを返す\n",
    "  \"\"\"\n",
    "\n",
    "  df[\"bathrooms\"] = df[\"bathrooms\"].fillna(0)\n",
    "  df[\"bedrooms\"] = df[\"bedrooms\"].fillna(0)\n",
    "  df[\"beds\"] = df[\"beds\"].fillna(0)\n",
    "  \n",
    "  # ベッドの種類\n",
    "  # df.bed_type = [1 if \"Real Bed\" == val else 0 for val in df.bed_type ]\n",
    "  df[\"bed_type\"] = [ edit_bed_type(val) for val in df.bed_type ]\n",
    "\n",
    "  # キャンセル料\n",
    "  df[\"cancellation_policy\"] = [ edit_cancellation_policy(val) for val in df.cancellation_policy]\n",
    "\n",
    "  # 部屋の種類\n",
    "  df[\"room_type\"] = [ edit_room_type(val) for val in df.room_type ]\n",
    "\n",
    "  # 都市\n",
    "  df[\"city\"] = [ edit_city(val) for val in df.city ]\n",
    "\n",
    "  # 清掃料\n",
    "  df[\"cleaning_fee\"] = [ 1 if \"t\" == val else 0 for val in df.cleaning_fee ]\n",
    "\n",
    "  # ホストの顔写真有無\n",
    "  df[\"host_has_profile_pic\"] = [ 1 if \"t\" == val else 0 for val in df.host_has_profile_pic ]\n",
    "\n",
    "  # ホストの身元確認有無\n",
    "  df[\"host_identity_verified\"] = [ 1 if \"t\" == val else 0 for val in df.host_identity_verified ]\n",
    "\n",
    "  # ホストの返信率\n",
    "  df[\"host_response_rate\"] = df.host_response_rate.fillna(\"0%\")\n",
    "  df[\"host_response_rate\"] = df.host_response_rate.str.replace(\"%\", \"\")\n",
    "  df[\"host_response_rate\"] = df.host_response_rate.astype(int)\n",
    "\n",
    "  # ホストの登録日\n",
    "  init_date = datetime.datetime(1900, 1, 1)\n",
    "  df[\"host_since\"] = df.host_since.fillna(\"1900-01-01\")\n",
    "  df[\"host_since\"] = [ datetime.datetime.strptime(val, \"%Y-%m-%d\") - init_date for val in df.host_since ]\n",
    "  df[\"host_since\"] = [ val.days for val in df.host_since ]\n",
    "\n",
    "  # 即時予約可否\n",
    "  df[\"instant_bookable\"] = [ 1 if \"t\" == val else 0 for val in df.instant_bookable ]\n",
    "\n",
    "  # 最終レビュー日\n",
    "  df[\"last_review\"] = df.last_review.fillna(\"1900-01-01\")\n",
    "  df[\"last_review\"] = [ datetime.datetime.strptime(val, \"%Y-%m-%d\") - init_date for val in df.last_review ]\n",
    "  df[\"last_review\"] = [ val.days for val in df.last_review ]\n",
    "\n",
    "  # 物件の種類\n",
    "  df[\"property_type\"] = [ edit_property_type(val) for val in df.property_type ]\n",
    "\n",
    "  # レビュースコア\n",
    "  df[\"review_scores_rating\"] = df.review_scores_rating.fillna(0)\n",
    "\n",
    "  # アメニティーリスト文字列を配列へ展開 \n",
    "  amenities = df.amenities\n",
    "  amenities = amenities.str.replace(\"{|}|\\\"\", \"\", regex=True)\n",
    "  amenities = [ val.split(\",\") for val in amenities ]\n",
    "  df.amenities = amenities\n",
    "  \n",
    "  # アメニティ(Private entrance)\n",
    "  df[\"am_private_entrance\"] = [ 1 if \"Private entrance\" in val else 0 for val in df.amenities ]\n",
    "\n",
    "  # アメニティ(Hair dryer)\n",
    "  df[\"am_hair_dryer\"] = [ 1 if \"Hair dryer\" in val else 0 for val in df.amenities ]\n",
    "\n",
    "  # アメニティ(TV)\n",
    "  df[\"am_tv\"] = [ 1 if \"TV\" in val else 0 for val in df.amenities ]\n",
    "\n",
    "  # アメニティ(Gym)\n",
    "  df[\"am_gym\"] = [ 1 if \"Gym\" in val else 0 for val in df.amenities ]\n",
    "\n",
    "  # アメニティ(Family/kid friendly)\n",
    "  df[\"am_family_friendly\"] = [ 1 if \"Family/kid friendly\" in val else 0 for val in df.amenities ]\n",
    "\n",
    "  # アメニティ(Dryer)\n",
    "  df[\"am_dryer\"] = [ 1 if \"Dryer\" in val else 0 for val in df.amenities ]\n",
    "\n",
    "  # アメニティ(Washer)\n",
    "  df[\"am_washer\"] = [ 1 if \"Washer\" in val else 0 for val in df.amenities ]\n",
    "\n",
    "  # アメニティ(Cable TV)\n",
    "  df[\"am_cable_tv\"] = [ 1 if \"Cable TV\" in val else 0 for val in df.amenities ]\n",
    "\n",
    "  # アメニティ(Pets allowed)\n",
    "  df[\"am_pets_allowed\"] = [ 1 if \"Pets allowed\" in val else 0 for val in df.amenities ]\n",
    "\n",
    "  # アメニティ(Pool)\n",
    "  df[\"am_pool\"] = [ 1 if \"Pool\" in val else 0 for val in df.amenities ]\n",
    "\n",
    "  # アメニティ(Indoor fireplace)\n",
    "  df[\"am_indoor_fireplace\"] = [ 1 if \"Indoor fireplace\" in val else 0 for val in df.amenities ]\n",
    "\n",
    "  # アメニティ(Elevator)\n",
    "  df[\"am_elevator\"] = [ 1 if \"Elevator\" in val else 0 for val in df.amenities ]\n",
    "\n",
    "  # アメニティ(Smoking allowed)\n",
    "  df[\"am_smoking_allowed\"] = [ 1 if \"Smoking allowed\" in val else 0 for val in df.amenities ]\n",
    "\n",
    "  # アメニティ(translation missing: en.hosting_amenity_50)\n",
    "  df[\"am_missing50\"] = [ 1 if \"translation missing: en.hosting_amenity_50\" in val else 0 for val in df.amenities ]\n",
    "  \n",
    "  # アメニティ(translation missing: en.hosting_amenity_49)\n",
    "  df[\"am_missing49\"] = [ 1 if \"translation missing: en.hosting_amenity_49\" in val else 0 for val in df.amenities ]\n",
    "  \n",
    "  # 説明 文字数 TODO:説明の文字数と料金に関係が見られないため、除外\n",
    "  # df[\"description_length\"] = df.description.str.len()\n",
    "\n",
    "  # 不要カラムを削除\n",
    "  # df.drop(columns=[\"room_type\", \"review_scores_rating\", \"property_type\", \"cleaning_fee\", \"city\", \"number_of_reviews\", \"instant_bookable\", \"host_has_profile_pic\", \"cancellation_policy\", \"amenities\", \"description\", \"first_review\", \"host_has_profile_pic\", \"host_identity_verified\", \"host_response_rate\", \"host_since\", \"instant_bookable\", \"last_review\", \"latitude\", \"longitude\", \"name\", \"neighbourhood\", \"thumbnail_url\", \"zipcode\"], inplace=True)\n",
    "  # df.drop(columns=[\"review_scores_rating\", \"cleaning_fee\", \"number_of_reviews\", \"instant_bookable\", \"host_has_profile_pic\", \"amenities\", \"description\", \"first_review\", \"host_has_profile_pic\", \"host_identity_verified\", \"host_response_rate\", \"host_since\", \"instant_bookable\", \"last_review\", \"latitude\", \"longitude\", \"name\", \"neighbourhood\", \"thumbnail_url\", \"zipcode\"], inplace=True)\n",
    "\n",
    "  df.drop(columns=[\"description\", \"first_review\", \"amenities\",  \"name\", \"neighbourhood\", \"latitude\", \"longitude\", \"thumbnail_url\", \"zipcode\"], inplace=True)\n",
    "\n",
    "  return df"
   ]
  },
  {
   "cell_type": "code",
   "execution_count": 7,
   "metadata": {},
   "outputs": [],
   "source": [
    "def edit_bed_type(bed_type: str) -> int:\n",
    "  \"\"\"ベットの種類 カテゴリ化\n",
    "\n",
    "  Args:\n",
    "      bed_type (str): ベッドの種類名\n",
    "\n",
    "  Returns:\n",
    "      int: ベッドの種類毎のカテゴリ値を返す\n",
    "  \"\"\"\n",
    "\n",
    "  if \"Airbed\" == bed_type:\n",
    "    return 1\n",
    "  \n",
    "  if \"Couch\" == bed_type:\n",
    "    return 2\n",
    "\n",
    "  if \"Futon\" == bed_type:\n",
    "    return 3\n",
    "\n",
    "  if \"Pull-out Sofa\" == bed_type:\n",
    "    return 4\n",
    "  \n",
    "  if \"Real Bed\" == bed_type:\n",
    "    return 5\n",
    "  \n",
    "  return 0"
   ]
  },
  {
   "cell_type": "code",
   "execution_count": 8,
   "metadata": {},
   "outputs": [],
   "source": [
    "def edit_room_type(room_type: str) -> int:\n",
    "  \"\"\"部屋の種類 カテゴリ化\n",
    "\n",
    "  Args:\n",
    "      room_type (str): 部屋の種類名\n",
    "\n",
    "  Returns:\n",
    "      int: 部屋の種類毎のカテゴリ値を返す\n",
    "  \"\"\"\n",
    "\n",
    "  if \"Shared room\" == room_type:\n",
    "    return 1\n",
    "  \n",
    "  if \"Private room\" == room_type:\n",
    "    return 2\n",
    "  \n",
    "  if \"Entire home\" == room_type:\n",
    "    return 3\n",
    "  \n",
    "  return 0\n"
   ]
  },
  {
   "cell_type": "code",
   "execution_count": 9,
   "metadata": {},
   "outputs": [],
   "source": [
    "def edit_city(city_name: str) -> int:\n",
    "  \"\"\"都市 カテゴリ化\n",
    "\n",
    "  Args:\n",
    "      city_name (str): 都市名\n",
    "\n",
    "  Returns:\n",
    "      int: 都市名毎のカテゴリ値を返す\n",
    "  \"\"\"\n",
    "  \n",
    "  if \"Boston\" == city_name:\n",
    "    return 1\n",
    "  \n",
    "  if \"LA\" == city_name:\n",
    "    return 2\n",
    "  \n",
    "  if \"NYC\" == city_name:\n",
    "    return 3\n",
    "  \n",
    "  if \"DC\" == city_name:\n",
    "    return 4\n",
    "  \n",
    "  if \"SF\" == city_name:\n",
    "    return 5\n",
    "  \n",
    "  if \"Chicago\" == city_name:\n",
    "    return 6\n",
    "  \n",
    "  return 0"
   ]
  },
  {
   "cell_type": "code",
   "execution_count": 10,
   "metadata": {},
   "outputs": [],
   "source": [
    "def edit_cancellation_policy(cancellation_policy: str) -> int:\n",
    "  \"\"\"キャンセル料 カテゴリ化\n",
    "\n",
    "  Args:\n",
    "      cancellation_policy (str): キャンセル料名\n",
    "\n",
    "  Returns:\n",
    "      int: キャンセル料名毎のカテゴリ値を返す\n",
    "  \"\"\"\n",
    "\n",
    "  if \"flexible\" == cancellation_policy:\n",
    "    return 1\n",
    "\n",
    "  if \"strict\" == cancellation_policy:\n",
    "    return 2\n",
    "  \n",
    "  if \"moderate\" == cancellation_policy:\n",
    "    return 3\n",
    "\n",
    "  if \"super_strict_30\" == cancellation_policy:\n",
    "    return 4\n",
    "\n",
    "  if \"super_strict_60\" == cancellation_policy:\n",
    "    return 5\n",
    "  \n",
    "  return 0"
   ]
  },
  {
   "cell_type": "code",
   "execution_count": 11,
   "metadata": {},
   "outputs": [],
   "source": [
    "def edit_property_type(property_type: str) -> int:\n",
    "  \"\"\"物件の種類 カテゴリ化\n",
    "\n",
    "  Args:\n",
    "      property_type (str): 物件の種類名\n",
    "\n",
    "  Returns:\n",
    "      int: 物件の種類毎のカテゴリ値\n",
    "  \"\"\"\n",
    "\n",
    "  if \"Apartment\" == property_type:\n",
    "    return 1\n",
    "\n",
    "  if \"House\" == property_type:\n",
    "    return 2\n",
    "  \n",
    "  if \"Townhouse\" == property_type:\n",
    "    return 3\n",
    "\n",
    "  if \"Loft\" == property_type:\n",
    "    return 4\n",
    "\n",
    "  if \"Cabin\" == property_type:\n",
    "    return 5\n",
    "\n",
    "  if \"Condominium\" == property_type:\n",
    "    return 6\n",
    "\n",
    "  if \"Guest suite\" == property_type:\n",
    "    return 7\n",
    "\n",
    "  if \"Guesthouse\" == property_type:\n",
    "    return 8\n",
    "\n",
    "  if \"Other\" == property_type:\n",
    "    return 9\n",
    "\n",
    "  if \"Bungalow\" == property_type:\n",
    "    return 10\n",
    "\n",
    "  if \"Villa\" == property_type:\n",
    "    return 11\n",
    "\n",
    "  if \"Bed & Breakfast\" == property_type:\n",
    "    return 12\n",
    "\n",
    "  if \"Dorm\" == property_type:\n",
    "    return 13\n",
    "\n",
    "  if \"Timeshare\" == property_type:\n",
    "    return 14\n",
    "\n",
    "  if \"Camper/RV\" == property_type:\n",
    "    return 15\n",
    "\n",
    "  if \"Cave\" == property_type:\n",
    "    return 16\n",
    "\n",
    "  if \"Hostel\" == property_type:\n",
    "    return 17\n",
    "\n",
    "  if \"Earth House\" == property_type:\n",
    "    return 18\n",
    "\n",
    "  if \"In-law\" == property_type:\n",
    "    return 19\n",
    "\n",
    "  if \"Serviced apartment\" == property_type:\n",
    "    return 20\n",
    "\n",
    "  if \"Boat\" == property_type:\n",
    "    return 21\n",
    "\n",
    "  if \"Tent\" == property_type:\n",
    "    return 22\n",
    "\n",
    "  if \"Castle\" == property_type:\n",
    "    return 23\n",
    "\n",
    "  if \"Boutique hotel\" == property_type:\n",
    "    return 24\n",
    "\n",
    "  if \"Vacation home\" == property_type:\n",
    "    return 25\n",
    "\n",
    "  if \"Hut\" == property_type:\n",
    "    return 26\n",
    "\n",
    "  if \"Treehouse\" == property_type:\n",
    "    return 27\n",
    "\n",
    "  if \"Yurt\" == property_type:\n",
    "    return 28\n",
    "\n",
    "  if \"Chalet\" == property_type:\n",
    "    return 29\n",
    "\n",
    "  if \"Island\" == property_type:\n",
    "    return 30\n",
    "\n",
    "  if \"Tipi\" == property_type:\n",
    "    return 31\n",
    "\n",
    "  if \"Train\" == property_type:\n",
    "    return 32\n",
    "\n",
    "  if \"Parking Space\" == property_type:\n",
    "    return 33\n",
    "\n",
    "  if \"Casa particular\" == property_type:\n",
    "    return 34\n",
    "  \n",
    "  return 0"
   ]
  },
  {
   "cell_type": "code",
   "execution_count": 12,
   "metadata": {},
   "outputs": [],
   "source": [
    "def reduce_mem_usage(df: pd.DataFrame, use_float16: bool = False) -> pd.DataFrame:\n",
    "    \"\"\"ロードしたデータを型変換し、容量を削減する\n",
    "\n",
    "    Args:\n",
    "        df (pd.DataFrame): ロードデータ\n",
    "        use_float16 (bool, optional): float16使用フラグ デフォルト値：False\n",
    "\n",
    "    Returns:\n",
    "        pd.DataFrame: 容量削減後のデータを返す\n",
    "    \"\"\"\n",
    "    \n",
    "    start_mem = df.memory_usage().sum() / 1024**2\n",
    "    print(\"Memory usage of dataframe is {:.2f} MB\".format(start_mem))\n",
    "    \n",
    "    for col in df.columns:\n",
    "        if is_datetime(df[col]) or is_categorical_dtype(df[col]):\n",
    "            continue\n",
    "        col_type = df[col].dtype\n",
    "        \n",
    "        if col_type != object:\n",
    "            c_min = df[col].min()\n",
    "            c_max = df[col].max()\n",
    "            if str(col_type)[:3] == \"int\":\n",
    "                if c_min > np.iinfo(np.int8).min and c_max < np.iinfo(np.int8).max:\n",
    "                    df[col] = df[col].astype(np.int8)\n",
    "                elif c_min > np.iinfo(np.int16).min and c_max < np.iinfo(np.int16).max:\n",
    "                    df[col] = df[col].astype(np.int16)\n",
    "                elif c_min > np.iinfo(np.int32).min and c_max < np.iinfo(np.int32).max:\n",
    "                    df[col] = df[col].astype(np.int32)\n",
    "                elif c_min > np.iinfo(np.int64).min and c_max < np.iinfo(np.int64).max:\n",
    "                    df[col] = df[col].astype(np.int64)  \n",
    "            else:\n",
    "                if use_float16 and c_min > np.finfo(np.float16).min and c_max < np.finfo(np.float16).max:\n",
    "                    df[col] = df[col].astype(np.float16)\n",
    "                elif c_min > np.finfo(np.float32).min and c_max < np.finfo(np.float32).max:\n",
    "                    df[col] = df[col].astype(np.float32)\n",
    "                else:\n",
    "                    df[col] = df[col].astype(np.float64)\n",
    "        else:\n",
    "            df[col] = df[col].astype(\"category\")\n",
    "\n",
    "    end_mem = df.memory_usage().sum() / 1024**2\n",
    "    print(\"Memory usage after optimization is: {:.2f} MB\".format(end_mem))\n",
    "    print(\"Decreased by {:.1f}%\".format(100 * (start_mem - end_mem) / start_mem))\n",
    "    \n",
    "    return df"
   ]
  },
  {
   "cell_type": "markdown",
   "metadata": {},
   "source": [
    "## 学習実行"
   ]
  },
  {
   "cell_type": "code",
   "execution_count": 13,
   "metadata": {},
   "outputs": [
    {
     "name": "stdout",
     "output_type": "stream",
     "text": [
      "Memory usage of dataframe is 14.84 MB\n",
      "Memory usage after optimization is: 3.18 MB\n",
      "Decreased by 78.6%\n",
      "Memory usage of dataframe is 4.81 MB\n",
      "Memory usage after optimization is: 0.95 MB\n",
      "Decreased by 80.1%\n"
     ]
    }
   ],
   "source": [
    "train_df = load_train_data()\n",
    "test_df = load_test_data()"
   ]
  },
  {
   "cell_type": "code",
   "execution_count": 14,
   "metadata": {},
   "outputs": [
    {
     "data": {
      "text/html": [
       "<div>\n",
       "<style scoped>\n",
       "    .dataframe tbody tr th:only-of-type {\n",
       "        vertical-align: middle;\n",
       "    }\n",
       "\n",
       "    .dataframe tbody tr th {\n",
       "        vertical-align: top;\n",
       "    }\n",
       "\n",
       "    .dataframe thead th {\n",
       "        text-align: right;\n",
       "    }\n",
       "</style>\n",
       "<table border=\"1\" class=\"dataframe\">\n",
       "  <thead>\n",
       "    <tr style=\"text-align: right;\">\n",
       "      <th></th>\n",
       "      <th>id</th>\n",
       "      <th>accommodates</th>\n",
       "      <th>bathrooms</th>\n",
       "      <th>bed_type</th>\n",
       "      <th>bedrooms</th>\n",
       "      <th>beds</th>\n",
       "      <th>cancellation_policy</th>\n",
       "      <th>city</th>\n",
       "      <th>cleaning_fee</th>\n",
       "      <th>host_has_profile_pic</th>\n",
       "      <th>...</th>\n",
       "      <th>am_dryer</th>\n",
       "      <th>am_washer</th>\n",
       "      <th>am_cable_tv</th>\n",
       "      <th>am_pets_allowed</th>\n",
       "      <th>am_pool</th>\n",
       "      <th>am_indoor_fireplace</th>\n",
       "      <th>am_elevator</th>\n",
       "      <th>am_smoking_allowed</th>\n",
       "      <th>am_missing50</th>\n",
       "      <th>am_missing49</th>\n",
       "    </tr>\n",
       "  </thead>\n",
       "  <tbody>\n",
       "    <tr>\n",
       "      <th>count</th>\n",
       "      <td>55583.000000</td>\n",
       "      <td>55583.000000</td>\n",
       "      <td>55583.000000</td>\n",
       "      <td>55583.000000</td>\n",
       "      <td>55583.000000</td>\n",
       "      <td>55583.000000</td>\n",
       "      <td>55583.000000</td>\n",
       "      <td>55583.000000</td>\n",
       "      <td>55583.000000</td>\n",
       "      <td>55583.000000</td>\n",
       "      <td>...</td>\n",
       "      <td>55583.000000</td>\n",
       "      <td>55583.000000</td>\n",
       "      <td>55583.000000</td>\n",
       "      <td>55583.000000</td>\n",
       "      <td>55583.000000</td>\n",
       "      <td>55583.000000</td>\n",
       "      <td>55583.000000</td>\n",
       "      <td>55583.000000</td>\n",
       "      <td>55583.000000</td>\n",
       "      <td>55583.000000</td>\n",
       "    </tr>\n",
       "    <tr>\n",
       "      <th>mean</th>\n",
       "      <td>27791.000000</td>\n",
       "      <td>3.152906</td>\n",
       "      <td>1.233156</td>\n",
       "      <td>4.933955</td>\n",
       "      <td>1.263696</td>\n",
       "      <td>1.708814</td>\n",
       "      <td>1.956767</td>\n",
       "      <td>3.003562</td>\n",
       "      <td>0.734415</td>\n",
       "      <td>0.994279</td>\n",
       "      <td>...</td>\n",
       "      <td>0.576561</td>\n",
       "      <td>0.582174</td>\n",
       "      <td>0.326665</td>\n",
       "      <td>0.137776</td>\n",
       "      <td>0.084558</td>\n",
       "      <td>0.125326</td>\n",
       "      <td>0.146394</td>\n",
       "      <td>0.049404</td>\n",
       "      <td>0.339492</td>\n",
       "      <td>0.275570</td>\n",
       "    </tr>\n",
       "    <tr>\n",
       "      <th>std</th>\n",
       "      <td>16045.574343</td>\n",
       "      <td>2.153001</td>\n",
       "      <td>0.585755</td>\n",
       "      <td>0.428017</td>\n",
       "      <td>0.849979</td>\n",
       "      <td>1.258744</td>\n",
       "      <td>0.752804</td>\n",
       "      <td>1.167807</td>\n",
       "      <td>0.441648</td>\n",
       "      <td>0.075422</td>\n",
       "      <td>...</td>\n",
       "      <td>0.494108</td>\n",
       "      <td>0.493206</td>\n",
       "      <td>0.468998</td>\n",
       "      <td>0.344668</td>\n",
       "      <td>0.278226</td>\n",
       "      <td>0.331091</td>\n",
       "      <td>0.353504</td>\n",
       "      <td>0.216711</td>\n",
       "      <td>0.473541</td>\n",
       "      <td>0.446805</td>\n",
       "    </tr>\n",
       "    <tr>\n",
       "      <th>min</th>\n",
       "      <td>0.000000</td>\n",
       "      <td>1.000000</td>\n",
       "      <td>0.000000</td>\n",
       "      <td>1.000000</td>\n",
       "      <td>0.000000</td>\n",
       "      <td>0.000000</td>\n",
       "      <td>1.000000</td>\n",
       "      <td>1.000000</td>\n",
       "      <td>0.000000</td>\n",
       "      <td>0.000000</td>\n",
       "      <td>...</td>\n",
       "      <td>0.000000</td>\n",
       "      <td>0.000000</td>\n",
       "      <td>0.000000</td>\n",
       "      <td>0.000000</td>\n",
       "      <td>0.000000</td>\n",
       "      <td>0.000000</td>\n",
       "      <td>0.000000</td>\n",
       "      <td>0.000000</td>\n",
       "      <td>0.000000</td>\n",
       "      <td>0.000000</td>\n",
       "    </tr>\n",
       "    <tr>\n",
       "      <th>25%</th>\n",
       "      <td>13895.500000</td>\n",
       "      <td>2.000000</td>\n",
       "      <td>1.000000</td>\n",
       "      <td>5.000000</td>\n",
       "      <td>1.000000</td>\n",
       "      <td>1.000000</td>\n",
       "      <td>1.000000</td>\n",
       "      <td>2.000000</td>\n",
       "      <td>0.000000</td>\n",
       "      <td>1.000000</td>\n",
       "      <td>...</td>\n",
       "      <td>0.000000</td>\n",
       "      <td>0.000000</td>\n",
       "      <td>0.000000</td>\n",
       "      <td>0.000000</td>\n",
       "      <td>0.000000</td>\n",
       "      <td>0.000000</td>\n",
       "      <td>0.000000</td>\n",
       "      <td>0.000000</td>\n",
       "      <td>0.000000</td>\n",
       "      <td>0.000000</td>\n",
       "    </tr>\n",
       "    <tr>\n",
       "      <th>50%</th>\n",
       "      <td>27791.000000</td>\n",
       "      <td>2.000000</td>\n",
       "      <td>1.000000</td>\n",
       "      <td>5.000000</td>\n",
       "      <td>1.000000</td>\n",
       "      <td>1.000000</td>\n",
       "      <td>2.000000</td>\n",
       "      <td>3.000000</td>\n",
       "      <td>1.000000</td>\n",
       "      <td>1.000000</td>\n",
       "      <td>...</td>\n",
       "      <td>1.000000</td>\n",
       "      <td>1.000000</td>\n",
       "      <td>0.000000</td>\n",
       "      <td>0.000000</td>\n",
       "      <td>0.000000</td>\n",
       "      <td>0.000000</td>\n",
       "      <td>0.000000</td>\n",
       "      <td>0.000000</td>\n",
       "      <td>0.000000</td>\n",
       "      <td>0.000000</td>\n",
       "    </tr>\n",
       "    <tr>\n",
       "      <th>75%</th>\n",
       "      <td>41686.500000</td>\n",
       "      <td>4.000000</td>\n",
       "      <td>1.000000</td>\n",
       "      <td>5.000000</td>\n",
       "      <td>1.000000</td>\n",
       "      <td>2.000000</td>\n",
       "      <td>3.000000</td>\n",
       "      <td>3.000000</td>\n",
       "      <td>1.000000</td>\n",
       "      <td>1.000000</td>\n",
       "      <td>...</td>\n",
       "      <td>1.000000</td>\n",
       "      <td>1.000000</td>\n",
       "      <td>1.000000</td>\n",
       "      <td>0.000000</td>\n",
       "      <td>0.000000</td>\n",
       "      <td>0.000000</td>\n",
       "      <td>0.000000</td>\n",
       "      <td>0.000000</td>\n",
       "      <td>1.000000</td>\n",
       "      <td>1.000000</td>\n",
       "    </tr>\n",
       "    <tr>\n",
       "      <th>max</th>\n",
       "      <td>55582.000000</td>\n",
       "      <td>16.000000</td>\n",
       "      <td>8.000000</td>\n",
       "      <td>5.000000</td>\n",
       "      <td>10.000000</td>\n",
       "      <td>18.000000</td>\n",
       "      <td>5.000000</td>\n",
       "      <td>6.000000</td>\n",
       "      <td>1.000000</td>\n",
       "      <td>1.000000</td>\n",
       "      <td>...</td>\n",
       "      <td>1.000000</td>\n",
       "      <td>1.000000</td>\n",
       "      <td>1.000000</td>\n",
       "      <td>1.000000</td>\n",
       "      <td>1.000000</td>\n",
       "      <td>1.000000</td>\n",
       "      <td>1.000000</td>\n",
       "      <td>1.000000</td>\n",
       "      <td>1.000000</td>\n",
       "      <td>1.000000</td>\n",
       "    </tr>\n",
       "  </tbody>\n",
       "</table>\n",
       "<p>8 rows × 35 columns</p>\n",
       "</div>"
      ],
      "text/plain": [
       "                 id  accommodates     bathrooms      bed_type      bedrooms  \\\n",
       "count  55583.000000  55583.000000  55583.000000  55583.000000  55583.000000   \n",
       "mean   27791.000000      3.152906      1.233156      4.933955      1.263696   \n",
       "std    16045.574343      2.153001      0.585755      0.428017      0.849979   \n",
       "min        0.000000      1.000000      0.000000      1.000000      0.000000   \n",
       "25%    13895.500000      2.000000      1.000000      5.000000      1.000000   \n",
       "50%    27791.000000      2.000000      1.000000      5.000000      1.000000   \n",
       "75%    41686.500000      4.000000      1.000000      5.000000      1.000000   \n",
       "max    55582.000000     16.000000      8.000000      5.000000     10.000000   \n",
       "\n",
       "               beds  cancellation_policy          city  cleaning_fee  \\\n",
       "count  55583.000000         55583.000000  55583.000000  55583.000000   \n",
       "mean       1.708814             1.956767      3.003562      0.734415   \n",
       "std        1.258744             0.752804      1.167807      0.441648   \n",
       "min        0.000000             1.000000      1.000000      0.000000   \n",
       "25%        1.000000             1.000000      2.000000      0.000000   \n",
       "50%        1.000000             2.000000      3.000000      1.000000   \n",
       "75%        2.000000             3.000000      3.000000      1.000000   \n",
       "max       18.000000             5.000000      6.000000      1.000000   \n",
       "\n",
       "       host_has_profile_pic  ...      am_dryer     am_washer   am_cable_tv  \\\n",
       "count          55583.000000  ...  55583.000000  55583.000000  55583.000000   \n",
       "mean               0.994279  ...      0.576561      0.582174      0.326665   \n",
       "std                0.075422  ...      0.494108      0.493206      0.468998   \n",
       "min                0.000000  ...      0.000000      0.000000      0.000000   \n",
       "25%                1.000000  ...      0.000000      0.000000      0.000000   \n",
       "50%                1.000000  ...      1.000000      1.000000      0.000000   \n",
       "75%                1.000000  ...      1.000000      1.000000      1.000000   \n",
       "max                1.000000  ...      1.000000      1.000000      1.000000   \n",
       "\n",
       "       am_pets_allowed       am_pool  am_indoor_fireplace   am_elevator  \\\n",
       "count     55583.000000  55583.000000         55583.000000  55583.000000   \n",
       "mean          0.137776      0.084558             0.125326      0.146394   \n",
       "std           0.344668      0.278226             0.331091      0.353504   \n",
       "min           0.000000      0.000000             0.000000      0.000000   \n",
       "25%           0.000000      0.000000             0.000000      0.000000   \n",
       "50%           0.000000      0.000000             0.000000      0.000000   \n",
       "75%           0.000000      0.000000             0.000000      0.000000   \n",
       "max           1.000000      1.000000             1.000000      1.000000   \n",
       "\n",
       "       am_smoking_allowed  am_missing50  am_missing49  \n",
       "count        55583.000000  55583.000000  55583.000000  \n",
       "mean             0.049404      0.339492      0.275570  \n",
       "std              0.216711      0.473541      0.446805  \n",
       "min              0.000000      0.000000      0.000000  \n",
       "25%              0.000000      0.000000      0.000000  \n",
       "50%              0.000000      0.000000      0.000000  \n",
       "75%              0.000000      1.000000      1.000000  \n",
       "max              1.000000      1.000000      1.000000  \n",
       "\n",
       "[8 rows x 35 columns]"
      ]
     },
     "execution_count": 14,
     "metadata": {},
     "output_type": "execute_result"
    }
   ],
   "source": [
    "train_df.describe()"
   ]
  },
  {
   "cell_type": "code",
   "execution_count": 28,
   "metadata": {},
   "outputs": [],
   "source": [
    "# データを目的変数と特徴量変数に分割する\n",
    "target = train_df.y\n",
    "features = train_df.drop(columns=[\"y\", \"id\"])\n",
    "# del train_df\n",
    "# gc.collect()"
   ]
  },
  {
   "cell_type": "code",
   "execution_count": 29,
   "metadata": {},
   "outputs": [
    {
     "name": "stderr",
     "output_type": "stream",
     "text": [
      "/opt/homebrew/Caskroom/miniforge/base/envs/python_3.10/lib/python3.10/site-packages/lightgbm/basic.py:2068: UserWarning: categorical_feature in Dataset is overridden.\n",
      "New categorical_feature is ['bed_type', 'cancellation_policy', 'city', 'cleaning_fee', 'host_has_profile_pic', 'host_identity_verified', 'instant_bookable', 'property_type']\n",
      "  _log_warning('categorical_feature in Dataset is overridden.\\n'\n",
      "/opt/homebrew/Caskroom/miniforge/base/envs/python_3.10/lib/python3.10/site-packages/lightgbm/basic.py:1780: UserWarning: Overriding the parameters from Reference Dataset.\n",
      "  _log_warning('Overriding the parameters from Reference Dataset.')\n",
      "/opt/homebrew/Caskroom/miniforge/base/envs/python_3.10/lib/python3.10/site-packages/lightgbm/basic.py:1513: UserWarning: categorical_column in param dict is overridden.\n",
      "  _log_warning(f'{cat_alias} in param dict is overridden.')\n"
     ]
    },
    {
     "name": "stdout",
     "output_type": "stream",
     "text": [
      "Training until validation scores don't improve for 10 rounds\n",
      "[5]\ttraining's rmse: 135.495\tvalid_1's rmse: 135.799\n",
      "[10]\ttraining's rmse: 117.661\tvalid_1's rmse: 122.65\n",
      "[15]\ttraining's rmse: 107.595\tvalid_1's rmse: 116.61\n",
      "[20]\ttraining's rmse: 101.262\tvalid_1's rmse: 114.022\n",
      "[25]\ttraining's rmse: 96.2572\tvalid_1's rmse: 112.803\n",
      "[30]\ttraining's rmse: 92.3658\tvalid_1's rmse: 112.309\n",
      "[35]\ttraining's rmse: 89.2027\tvalid_1's rmse: 111.992\n",
      "[40]\ttraining's rmse: 86.4619\tvalid_1's rmse: 111.9\n",
      "[45]\ttraining's rmse: 83.9213\tvalid_1's rmse: 111.994\n",
      "Early stopping, best iteration is:\n",
      "[38]\ttraining's rmse: 87.6143\tvalid_1's rmse: 111.874\n"
     ]
    },
    {
     "name": "stderr",
     "output_type": "stream",
     "text": [
      "/opt/homebrew/Caskroom/miniforge/base/envs/python_3.10/lib/python3.10/site-packages/lightgbm/basic.py:2068: UserWarning: categorical_feature in Dataset is overridden.\n",
      "New categorical_feature is ['bed_type', 'cancellation_policy', 'city', 'cleaning_fee', 'host_has_profile_pic', 'host_identity_verified', 'instant_bookable', 'property_type']\n",
      "  _log_warning('categorical_feature in Dataset is overridden.\\n'\n",
      "/opt/homebrew/Caskroom/miniforge/base/envs/python_3.10/lib/python3.10/site-packages/lightgbm/basic.py:1780: UserWarning: Overriding the parameters from Reference Dataset.\n",
      "  _log_warning('Overriding the parameters from Reference Dataset.')\n",
      "/opt/homebrew/Caskroom/miniforge/base/envs/python_3.10/lib/python3.10/site-packages/lightgbm/basic.py:1513: UserWarning: categorical_column in param dict is overridden.\n",
      "  _log_warning(f'{cat_alias} in param dict is overridden.')\n"
     ]
    },
    {
     "name": "stdout",
     "output_type": "stream",
     "text": [
      "[5]\ttraining's rmse: 133.601\tvalid_1's rmse: 141.968\n",
      "[10]\ttraining's rmse: 115.965\tvalid_1's rmse: 127.724\n",
      "[15]\ttraining's rmse: 105.812\tvalid_1's rmse: 121.099\n",
      "[20]\ttraining's rmse: 99.6921\tvalid_1's rmse: 117.888\n",
      "[25]\ttraining's rmse: 95.0877\tvalid_1's rmse: 115.98\n",
      "[30]\ttraining's rmse: 91.5342\tvalid_1's rmse: 115.137\n",
      "[35]\ttraining's rmse: 88.2882\tvalid_1's rmse: 114.7\n",
      "[40]\ttraining's rmse: 85.5395\tvalid_1's rmse: 114.482\n",
      "[45]\ttraining's rmse: 83.044\tvalid_1's rmse: 114.25\n",
      "Early stopping, best iteration is:\n",
      "[38]\ttraining's rmse: 87.6143\tvalid_1's rmse: 111.874\n"
     ]
    },
    {
     "name": "stderr",
     "output_type": "stream",
     "text": [
      "/opt/homebrew/Caskroom/miniforge/base/envs/python_3.10/lib/python3.10/site-packages/lightgbm/basic.py:2068: UserWarning: categorical_feature in Dataset is overridden.\n",
      "New categorical_feature is ['bed_type', 'cancellation_policy', 'city', 'cleaning_fee', 'host_has_profile_pic', 'host_identity_verified', 'instant_bookable', 'property_type']\n",
      "  _log_warning('categorical_feature in Dataset is overridden.\\n'\n",
      "/opt/homebrew/Caskroom/miniforge/base/envs/python_3.10/lib/python3.10/site-packages/lightgbm/basic.py:1780: UserWarning: Overriding the parameters from Reference Dataset.\n",
      "  _log_warning('Overriding the parameters from Reference Dataset.')\n",
      "/opt/homebrew/Caskroom/miniforge/base/envs/python_3.10/lib/python3.10/site-packages/lightgbm/basic.py:1513: UserWarning: categorical_column in param dict is overridden.\n",
      "  _log_warning(f'{cat_alias} in param dict is overridden.')\n"
     ]
    },
    {
     "name": "stdout",
     "output_type": "stream",
     "text": [
      "[5]\ttraining's rmse: 134.832\tvalid_1's rmse: 136.575\n",
      "[10]\ttraining's rmse: 117.103\tvalid_1's rmse: 123.023\n",
      "[15]\ttraining's rmse: 106.944\tvalid_1's rmse: 117.043\n",
      "[20]\ttraining's rmse: 100.574\tvalid_1's rmse: 114.429\n",
      "[25]\ttraining's rmse: 95.8142\tvalid_1's rmse: 113.274\n",
      "[30]\ttraining's rmse: 91.972\tvalid_1's rmse: 112.836\n",
      "[35]\ttraining's rmse: 88.8232\tvalid_1's rmse: 112.91\n",
      "[40]\ttraining's rmse: 85.8941\tvalid_1's rmse: 112.934\n",
      "[45]\ttraining's rmse: 83.2624\tvalid_1's rmse: 113.048\n",
      "Early stopping, best iteration is:\n",
      "[38]\ttraining's rmse: 87.6143\tvalid_1's rmse: 111.874\n"
     ]
    }
   ],
   "source": [
    "# カテゴリ変数リスト\n",
    "categorical_features = [\"bed_type\", \"cancellation_policy\", \"city\", \"cleaning_fee\", \"host_has_profile_pic\", \"host_identity_verified\", \"instant_bookable\", \"property_type\" ]\n",
    "\n",
    "# パラメーター設定\n",
    "params = {\n",
    "    \"objective\": \"regression\", # 目的関数：回帰\n",
    "    \"boosting\": \"gbdt\", # 勾配ブースティング\n",
    "    # \"seed\": 314, #シード値\n",
    "    \"num_leaves\": 300, # 決定木の端末ノードの数\n",
    "    # \"max_depth\": 7, #決定木の深さ\n",
    "    \"learning_rate\": 0.1, # 学習率\n",
    "    \"feature_fraction\": 0.85, # 特徴量の削減率 ※1未満の場合、特徴量を削減して学習される\n",
    "    \"reg_lambda\": 2, # L2正則化項の係数 ※過学習を防ぐために用いる関数のパラメータ\n",
    "    \"metric\": \"rmse\", # モデルの性能を測る指標 ※二乗平均平方根誤差\n",
    "    \"force_row_wise\": True, # 行ベースのヒストグラムを生成する\n",
    "    \"verbose\": -1\n",
    "}\n",
    "\n",
    "# シード値\n",
    "seeds = [438,5848, 37]\n",
    "\n",
    "# 早期停止\n",
    "earlyStoppingcallback = early_stopping(10)\n",
    "\n",
    "# ログ出力頻度\n",
    "logEvaluationCallback = log_evaluation(5)\n",
    "\n",
    "# 学習実行\n",
    "cnt = 0\n",
    "shuffle_seed = 4398\n",
    "kf = KFold(n_splits=3, shuffle=True, random_state=shuffle_seed)\n",
    "models = []\n",
    "for train_index, test_index in kf.split(features):\n",
    "    train_features = features.loc[train_index]\n",
    "    train_target = target.loc[train_index]\n",
    "    \n",
    "    test_features = features.loc[test_index]\n",
    "    test_target = target.loc[test_index]\n",
    "\n",
    "    # データセット作成    \n",
    "    d_training = lgb.Dataset(train_features, label=train_target, free_raw_data=False)\n",
    "    d_test = lgb.Dataset(test_features, label=test_target, free_raw_data=False)\n",
    "    \n",
    "    params[\"seed\"] = seeds[cnt]\n",
    "\n",
    "    # 学習実行\n",
    "    model = lgb.train(\n",
    "        params,\n",
    "        train_set=d_training,\n",
    "        num_boost_round=200,\n",
    "        valid_sets=[d_training, d_test],\n",
    "        categorical_feature=categorical_features,\n",
    "        callbacks=[\n",
    "            earlyStoppingcallback,\n",
    "            logEvaluationCallback\n",
    "        ]\n",
    "    )\n",
    "    \n",
    "    models.append(model)\n",
    "    cnt += 1\n",
    "    \n",
    "    del train_features, train_target, test_features, test_target, d_training, d_test\n",
    "    gc.collect()\n",
    "\n"
   ]
  },
  {
   "cell_type": "code",
   "execution_count": 30,
   "metadata": {},
   "outputs": [
    {
     "data": {
      "image/png": "[encoded data removed]",
      "text/plain": [
       "<Figure size 432x288 with 1 Axes>"
      ]
     },
     "metadata": {
      "needs_background": "light"
     },
     "output_type": "display_data"
    },
    {
     "data": {
      "image/png": "[encoded data removed]",
      "text/plain": [
       "<Figure size 432x288 with 1 Axes>"
      ]
     },
     "metadata": {
      "needs_background": "light"
     },
     "output_type": "display_data"
    },
    {
     "data": {
      "image/png": "[encoded data removed]",
      "text/plain": [
       "<Figure size 432x288 with 1 Axes>"
      ]
     },
     "metadata": {
      "needs_background": "light"
     },
     "output_type": "display_data"
    }
   ],
   "source": [
    "# 学習結果をプロット\n",
    "for model in models:\n",
    "    lgb.plot_importance(model)\n",
    "    plt.show()\n",
    "    # lgb.create_tree_digraph(model)"
   ]
  },
  {
   "cell_type": "markdown",
   "metadata": {},
   "source": [
    "## 推定実行"
   ]
  },
  {
   "cell_type": "code",
   "execution_count": 31,
   "metadata": {},
   "outputs": [],
   "source": [
    "test_id = test_df.id\n",
    "test_features = test_df.drop(columns=[\"id\"])"
   ]
  },
  {
   "cell_type": "code",
   "execution_count": 32,
   "metadata": {},
   "outputs": [
    {
     "name": "stderr",
     "output_type": "stream",
     "text": [
      "/var/folders/km/rlhv761j4rqcrksj6ch5bw_r0000gn/T/ipykernel_9837/2352902196.py:7: DeprecationWarning: elementwise comparison failed; this will raise an error in the future.\n",
      "  if  results == []:\n"
     ]
    }
   ],
   "source": [
    "results = []\n",
    "for model in models:\n",
    "    # 推定\n",
    "    predicts = pd.Series(model.predict(test_features, num_iteration=model.best_iteration) / len(models), name=\"y\")\n",
    "\n",
    "    # 推定結果を集計\n",
    "    if  results == []:\n",
    "        results = predicts.values / len(models)\n",
    "    else:\n",
    "        results += predicts.values / len(models)\n",
    "    \n",
    "    # del model\n",
    "    del predicts\n",
    "    gc.collect()"
   ]
  },
  {
   "cell_type": "code",
   "execution_count": 33,
   "metadata": {},
   "outputs": [],
   "source": [
    "results_df = pd.DataFrame({\"id\": test_id, \"y\": np.clip(results, 0, a_max=None)})\n",
    "results_df.to_csv(\"submission.csv\", index=False, header=False)"
   ]
  },
  {
   "cell_type": "code",
   "execution_count": 71,
   "metadata": {},
   "outputs": [
    {
     "name": "stdout",
     "output_type": "stream",
     "text": [
      "\u001b[32mYou have successfully submitted your predictions.We will send you the submission result to your email address.\u001b[0m\n"
     ]
    }
   ],
   "source": [
    "# 結果提出\n",
    "!signate submit -c 266 ./submission.csv"
   ]
  },
  {
   "cell_type": "markdown",
   "metadata": {},
   "source": [
    "---"
   ]
  },
  {
   "cell_type": "markdown",
   "metadata": {},
   "source": [
    "## モデル追加"
   ]
  },
  {
   "cell_type": "code",
   "execution_count": 22,
   "metadata": {},
   "outputs": [],
   "source": [
    "from sklearn.tree import DecisionTreeRegressor\n",
    "from sklearn.model_selection import train_test_split\n",
    "from dtreeviz.trees import dtreeviz\n",
    "from IPython.display import SVG"
   ]
  },
  {
   "cell_type": "code",
   "execution_count": 16,
   "metadata": {},
   "outputs": [],
   "source": [
    "# データ編集\n",
    "tree_target = train_df.y\n",
    "tree_features = train_df.drop(columns=[\"y\", \"id\"])"
   ]
  },
  {
   "cell_type": "code",
   "execution_count": 35,
   "metadata": {},
   "outputs": [
    {
     "name": "stderr",
     "output_type": "stream",
     "text": [
      "/opt/homebrew/Caskroom/miniforge/base/envs/python_3.10/lib/python3.10/site-packages/sklearn/tree/_classes.py:359: FutureWarning: Criterion 'mse' was deprecated in v1.0 and will be removed in version 1.2. Use `criterion='squared_error'` which is equivalent.\n",
      "  warnings.warn(\n"
     ]
    },
    {
     "data": {
      "text/plain": [
       "DecisionTreeRegressor(criterion='mse', max_depth=1000)"
      ]
     },
     "execution_count": 35,
     "metadata": {},
     "output_type": "execute_result"
    }
   ],
   "source": [
    "# 回帰木作成\n",
    "model_tree = DecisionTreeRegressor(\n",
    "              criterion='mse', # RMSEではないが、ルートを取るかの違いのため、一旦良しとする\n",
    "              splitter='best',\n",
    "              max_depth=1000,\n",
    "              # min_samples_split=2,\n",
    "              # min_samples_leaf=1,\n",
    "              # min_weight_fraction_leaf=0.0,\n",
    "              # max_features=None,\n",
    "              random_state=None,\n",
    "              # max_leaf_nodes=None,\n",
    "              # min_impurity_decrease=0.0,\n",
    "              # ccp_alpha=0.0\n",
    "            )\n",
    "\n",
    "model_tree.fit(tree_features, tree_target)"
   ]
  },
  {
   "cell_type": "markdown",
   "metadata": {},
   "source": [
    "こんな対応が必要そう  \n",
    "https://qiita.com/onodism/items/329efd2aeeef54937794"
   ]
  },
  {
   "cell_type": "code",
   "execution_count": 23,
   "metadata": {},
   "outputs": [
    {
     "name": "stderr",
     "output_type": "stream",
     "text": [
      "/opt/homebrew/Caskroom/miniforge/base/envs/python_3.10/lib/python3.10/site-packages/sklearn/base.py:450: UserWarning: X does not have valid feature names, but DecisionTreeRegressor was fitted with feature names\n",
      "  warnings.warn(\n",
      "/opt/homebrew/Caskroom/miniforge/base/envs/python_3.10/lib/python3.10/site-packages/sklearn/base.py:450: UserWarning: X does not have valid feature names, but DecisionTreeRegressor was fitted with feature names\n",
      "  warnings.warn(\n",
      "dyld[9887]: Library not loaded: '/usr/local/lib/libgvc.6.dylib'\n",
      "  Referenced from: '/usr/local/bin/dot'\n",
      "  Reason: tried: '/usr/local/lib/libgvc.6.dylib' (no such file), '/usr/lib/libgvc.6.dylib' (no such file)\n"
     ]
    },
    {
     "ename": "CalledProcessError",
     "evalue": "Command '['dot', '-Tsvg', '-o', '/var/folders/km/rlhv761j4rqcrksj6ch5bw_r0000gn/T/DTreeViz_9837.svg', '/var/folders/km/rlhv761j4rqcrksj6ch5bw_r0000gn/T/DTreeViz_9837']' died with <Signals.SIGABRT: 6>. [stderr: b\"dyld[9887]: Library not loaded: '/usr/local/lib/libgvc.6.dylib'\\n  Referenced from: '/usr/local/bin/dot'\\n  Reason: tried: '/usr/local/lib/libgvc.6.dylib' (no such file), '/usr/lib/libgvc.6.dylib' (no such file)\\n\"]",
     "output_type": "error",
     "traceback": [
      "\u001b[0;31m---------------------------------------------------------------------------\u001b[0m",
      "\u001b[0;31mCalledProcessError\u001b[0m                        Traceback (most recent call last)",
      "File \u001b[0;32m/opt/homebrew/Caskroom/miniforge/base/envs/python_3.10/lib/python3.10/site-packages/graphviz/backend/execute.py:91\u001b[0m, in \u001b[0;36mrun_check\u001b[0;34m(cmd, input_lines, encoding, quiet, **kwargs)\u001b[0m\n\u001b[1;32m     90\u001b[0m \u001b[39mtry\u001b[39;00m:\n\u001b[0;32m---> 91\u001b[0m     proc\u001b[39m.\u001b[39;49mcheck_returncode()\n\u001b[1;32m     92\u001b[0m \u001b[39mexcept\u001b[39;00m subprocess\u001b[39m.\u001b[39mCalledProcessError \u001b[39mas\u001b[39;00m e:\n",
      "File \u001b[0;32m/opt/homebrew/Caskroom/miniforge/base/envs/python_3.10/lib/python3.10/subprocess.py:456\u001b[0m, in \u001b[0;36mCompletedProcess.check_returncode\u001b[0;34m(self)\u001b[0m\n\u001b[1;32m    455\u001b[0m \u001b[39mif\u001b[39;00m \u001b[39mself\u001b[39m\u001b[39m.\u001b[39mreturncode:\n\u001b[0;32m--> 456\u001b[0m     \u001b[39mraise\u001b[39;00m CalledProcessError(\u001b[39mself\u001b[39m\u001b[39m.\u001b[39mreturncode, \u001b[39mself\u001b[39m\u001b[39m.\u001b[39margs, \u001b[39mself\u001b[39m\u001b[39m.\u001b[39mstdout,\n\u001b[1;32m    457\u001b[0m                              \u001b[39mself\u001b[39m\u001b[39m.\u001b[39mstderr)\n",
      "\u001b[0;31mCalledProcessError\u001b[0m: Command '['dot', '-Tsvg', '-o', '/var/folders/km/rlhv761j4rqcrksj6ch5bw_r0000gn/T/DTreeViz_9837.svg', '/var/folders/km/rlhv761j4rqcrksj6ch5bw_r0000gn/T/DTreeViz_9837']' died with <Signals.SIGABRT: 6>.",
      "\nDuring handling of the above exception, another exception occurred:\n",
      "\u001b[0;31mCalledProcessError\u001b[0m                        Traceback (most recent call last)",
      "\u001b[1;32mセル35 を /Users/Tomohiro/signate/Accommodation-Price-Forecast/accommodation_price_forecast.ipynb\u001b[0m in \u001b[0;36m<cell line: 9>\u001b[0;34m()\u001b[0m\n\u001b[1;32m      <a href='vscode-notebook-cell:/Users/Tomohiro/signate/Accommodation-Price-Forecast/accommodation_price_forecast.ipynb#X46sZmlsZQ%3D%3D?line=1'>2</a>\u001b[0m viz \u001b[39m=\u001b[39m dtreeviz(model_tree, tree_features, tree_target, target_name\u001b[39m=\u001b[39m\u001b[39m\"\u001b[39m\u001b[39my\u001b[39m\u001b[39m\"\u001b[39m)\n\u001b[1;32m      <a href='vscode-notebook-cell:/Users/Tomohiro/signate/Accommodation-Price-Forecast/accommodation_price_forecast.ipynb#X46sZmlsZQ%3D%3D?line=4'>5</a>\u001b[0m viz \u001b[39m=\u001b[39m dtreeviz(model_tree,\n\u001b[1;32m      <a href='vscode-notebook-cell:/Users/Tomohiro/signate/Accommodation-Price-Forecast/accommodation_price_forecast.ipynb#X46sZmlsZQ%3D%3D?line=5'>6</a>\u001b[0m                tree_features,\n\u001b[1;32m      <a href='vscode-notebook-cell:/Users/Tomohiro/signate/Accommodation-Price-Forecast/accommodation_price_forecast.ipynb#X46sZmlsZQ%3D%3D?line=6'>7</a>\u001b[0m                tree_target,\n\u001b[1;32m      <a href='vscode-notebook-cell:/Users/Tomohiro/signate/Accommodation-Price-Forecast/accommodation_price_forecast.ipynb#X46sZmlsZQ%3D%3D?line=7'>8</a>\u001b[0m                target_name\u001b[39m=\u001b[39m\u001b[39m'\u001b[39m\u001b[39mprice\u001b[39m\u001b[39m'\u001b[39m)\n\u001b[0;32m----> <a href='vscode-notebook-cell:/Users/Tomohiro/signate/Accommodation-Price-Forecast/accommodation_price_forecast.ipynb#X46sZmlsZQ%3D%3D?line=8'>9</a>\u001b[0m viz\u001b[39m.\u001b[39;49mview()\n",
      "File \u001b[0;32m/opt/homebrew/Caskroom/miniforge/base/envs/python_3.10/lib/python3.10/site-packages/dtreeviz/trees.py:56\u001b[0m, in \u001b[0;36mDTreeViz.view\u001b[0;34m(self)\u001b[0m\n\u001b[1;32m     55\u001b[0m \u001b[39mdef\u001b[39;00m \u001b[39mview\u001b[39m(\u001b[39mself\u001b[39m):\n\u001b[0;32m---> 56\u001b[0m     svgfilename \u001b[39m=\u001b[39m \u001b[39mself\u001b[39;49m\u001b[39m.\u001b[39;49msave_svg()\n\u001b[1;32m     57\u001b[0m     graphviz\u001b[39m.\u001b[39mbackend\u001b[39m.\u001b[39mview(svgfilename)\n",
      "File \u001b[0;32m/opt/homebrew/Caskroom/miniforge/base/envs/python_3.10/lib/python3.10/site-packages/dtreeviz/trees.py:63\u001b[0m, in \u001b[0;36mDTreeViz.save_svg\u001b[0;34m(self)\u001b[0m\n\u001b[1;32m     61\u001b[0m tmp \u001b[39m=\u001b[39m tempfile\u001b[39m.\u001b[39mgettempdir()\n\u001b[1;32m     62\u001b[0m svgfilename \u001b[39m=\u001b[39m os\u001b[39m.\u001b[39mpath\u001b[39m.\u001b[39mjoin(tmp, \u001b[39mf\u001b[39m\u001b[39m\"\u001b[39m\u001b[39mDTreeViz_\u001b[39m\u001b[39m{\u001b[39;00mos\u001b[39m.\u001b[39mgetpid()\u001b[39m}\u001b[39;00m\u001b[39m.svg\u001b[39m\u001b[39m\"\u001b[39m)\n\u001b[0;32m---> 63\u001b[0m \u001b[39mself\u001b[39;49m\u001b[39m.\u001b[39;49msave(svgfilename)\n\u001b[1;32m     64\u001b[0m \u001b[39mreturn\u001b[39;00m svgfilename\n",
      "File \u001b[0;32m/opt/homebrew/Caskroom/miniforge/base/envs/python_3.10/lib/python3.10/site-packages/dtreeviz/trees.py:91\u001b[0m, in \u001b[0;36mDTreeViz.save\u001b[0;34m(self, filename)\u001b[0m\n\u001b[1;32m     89\u001b[0m     graphviz\u001b[39m.\u001b[39mbackend\u001b[39m.\u001b[39mrun(cmd, capture_output\u001b[39m=\u001b[39m\u001b[39mTrue\u001b[39;00m, check\u001b[39m=\u001b[39m\u001b[39mTrue\u001b[39;00m, quiet\u001b[39m=\u001b[39m\u001b[39mFalse\u001b[39;00m)\n\u001b[1;32m     90\u001b[0m \u001b[39melse\u001b[39;00m:\n\u001b[0;32m---> 91\u001b[0m     graphviz\u001b[39m.\u001b[39;49mbackend\u001b[39m.\u001b[39;49mexecute\u001b[39m.\u001b[39;49mrun_check(cmd, capture_output\u001b[39m=\u001b[39;49m\u001b[39mTrue\u001b[39;49;00m, check\u001b[39m=\u001b[39;49m\u001b[39mTrue\u001b[39;49;00m, quiet\u001b[39m=\u001b[39;49m\u001b[39mFalse\u001b[39;49;00m)\n\u001b[1;32m     93\u001b[0m \u001b[39mif\u001b[39;00m filename\u001b[39m.\u001b[39mendswith(\u001b[39m\"\u001b[39m\u001b[39m.svg\u001b[39m\u001b[39m\"\u001b[39m):\n\u001b[1;32m     94\u001b[0m     \u001b[39m# now merge in referenced SVG images to make all-in-one file\u001b[39;00m\n\u001b[1;32m     95\u001b[0m     \u001b[39mwith\u001b[39;00m \u001b[39mopen\u001b[39m(filename, encoding\u001b[39m=\u001b[39m\u001b[39m'\u001b[39m\u001b[39mUTF-8\u001b[39m\u001b[39m'\u001b[39m) \u001b[39mas\u001b[39;00m f:\n",
      "File \u001b[0;32m/opt/homebrew/Caskroom/miniforge/base/envs/python_3.10/lib/python3.10/site-packages/graphviz/backend/execute.py:93\u001b[0m, in \u001b[0;36mrun_check\u001b[0;34m(cmd, input_lines, encoding, quiet, **kwargs)\u001b[0m\n\u001b[1;32m     91\u001b[0m     proc\u001b[39m.\u001b[39mcheck_returncode()\n\u001b[1;32m     92\u001b[0m \u001b[39mexcept\u001b[39;00m subprocess\u001b[39m.\u001b[39mCalledProcessError \u001b[39mas\u001b[39;00m e:\n\u001b[0;32m---> 93\u001b[0m     \u001b[39mraise\u001b[39;00m CalledProcessError(\u001b[39m*\u001b[39me\u001b[39m.\u001b[39margs)\n\u001b[1;32m     95\u001b[0m \u001b[39mreturn\u001b[39;00m proc\n",
      "\u001b[0;31mCalledProcessError\u001b[0m: Command '['dot', '-Tsvg', '-o', '/var/folders/km/rlhv761j4rqcrksj6ch5bw_r0000gn/T/DTreeViz_9837.svg', '/var/folders/km/rlhv761j4rqcrksj6ch5bw_r0000gn/T/DTreeViz_9837']' died with <Signals.SIGABRT: 6>. [stderr: b\"dyld[9887]: Library not loaded: '/usr/local/lib/libgvc.6.dylib'\\n  Referenced from: '/usr/local/bin/dot'\\n  Reason: tried: '/usr/local/lib/libgvc.6.dylib' (no such file), '/usr/lib/libgvc.6.dylib' (no such file)\\n\"]"
     ]
    }
   ],
   "source": [
    "# 回帰木の分岐の仕方を可視化\n",
    "viz = dtreeviz(model_tree, tree_features, tree_target, target_name=\"y\")\n",
    "\n",
    "\n",
    "viz = dtreeviz(model_tree,\n",
    "               tree_features,\n",
    "               tree_target,\n",
    "               target_name='price')\n",
    "viz.view()\n"
   ]
  },
  {
   "cell_type": "code",
   "execution_count": 36,
   "metadata": {},
   "outputs": [],
   "source": [
    "# 推定データ編集\n",
    "tree_test_features = test_df.drop(columns=[\"id\"])"
   ]
  },
  {
   "cell_type": "code",
   "execution_count": 38,
   "metadata": {},
   "outputs": [],
   "source": [
    "# 推定実行\n",
    "tree_pred = model_tree.predict(tree_test_features)"
   ]
  },
  {
   "cell_type": "code",
   "execution_count": 39,
   "metadata": {},
   "outputs": [],
   "source": [
    "# 提出データ作成\n",
    "results_df = pd.DataFrame({\"id\": test_id, \"y\": np.clip(tree_pred, 0, a_max=None)})\n",
    "results_df.to_csv(\"submission.csv\", index=False, header=False)"
   ]
  },
  {
   "cell_type": "code",
   "execution_count": 40,
   "metadata": {},
   "outputs": [
    {
     "name": "stdout",
     "output_type": "stream",
     "text": [
      "\u001b[32mYou have successfully submitted your predictions.We will send you the submission result to your email address.\u001b[0m\n"
     ]
    }
   ],
   "source": [
    "# 結果提出\n",
    "!signate submit -c 266 ./submission.csv"
   ]
  },
  {
   "cell_type": "markdown",
   "metadata": {},
   "source": [
    "---"
   ]
  },
  {
   "cell_type": "markdown",
   "metadata": {},
   "source": [
    "## 以下、調査用"
   ]
  },
  {
   "cell_type": "markdown",
   "metadata": {},
   "source": [
    "### アメニティ項目の確認"
   ]
  },
  {
   "cell_type": "code",
   "execution_count": 12,
   "metadata": {},
   "outputs": [],
   "source": [
    "amenities = train_df.amenities"
   ]
  },
  {
   "cell_type": "code",
   "execution_count": 55,
   "metadata": {},
   "outputs": [],
   "source": [
    "amenities = amenities.str.replace(\"{|}\", \"\", regex=True)"
   ]
  },
  {
   "cell_type": "code",
   "execution_count": 54,
   "metadata": {},
   "outputs": [],
   "source": [
    "def amenity_count(series: pd.Series) -> collections.Counter :\n",
    "  \"\"\"全アメニティーをカウントする\n",
    "\n",
    "  Args:\n",
    "      series (pd.Series): アメニティーデータ\n",
    "\n",
    "  Returns:\n",
    "      collections.Counter: カウント結果を返す\n",
    "  \"\"\"\n",
    "  \n",
    "  ser_vals = []\n",
    "\n",
    "  for row in series:\n",
    "    for val in row.split(\",\"):\n",
    "      ser_vals.append(val.replace('\"',''))\n",
    "\n",
    "  counter = collections.Counter(ser_vals)\n",
    "  \n",
    "  return counter\n"
   ]
  },
  {
   "cell_type": "code",
   "execution_count": 56,
   "metadata": {},
   "outputs": [],
   "source": [
    "count = amenity_count(amenities)"
   ]
  },
  {
   "cell_type": "code",
   "execution_count": 57,
   "metadata": {},
   "outputs": [],
   "source": [
    "count_items = sorted(count.items(), key=lambda x:x[1], reverse=True)"
   ]
  },
  {
   "cell_type": "code",
   "execution_count": 65,
   "metadata": {},
   "outputs": [
    {
     "data": {
      "text/plain": [
       "<matplotlib.collections.PathCollection at 0x177765870>"
      ]
     },
     "execution_count": 65,
     "metadata": {},
     "output_type": "execute_result"
    },
    {
     "data": {
      "image/png": "[encoded data removed]",
      "text/plain": [
       "<Figure size 432x288 with 1 Axes>"
      ]
     },
     "metadata": {
      "needs_background": "light"
     },
     "output_type": "display_data"
    }
   ],
   "source": [
    "plt.scatter(train_df.amenity_count, train_df.y)"
   ]
  },
  {
   "cell_type": "markdown",
   "metadata": {},
   "source": [
    "アメニティの数は価格に直接的な影響は与えていないように見える"
   ]
  },
  {
   "cell_type": "code",
   "execution_count": 13,
   "metadata": {},
   "outputs": [
    {
     "data": {
      "text/plain": [
       "0        {TV,\"Wireless Internet\",Kitchen,\"Free parking ...\n",
       "1        {TV,\"Cable TV\",Internet,\"Wireless Internet\",\"A...\n",
       "2        {TV,Internet,\"Wireless Internet\",Kitchen,\"Indo...\n",
       "3        {TV,\"Cable TV\",Internet,\"Wireless Internet\",\"A...\n",
       "4        {TV,Internet,\"Wireless Internet\",\"Air conditio...\n",
       "                               ...                        \n",
       "55578    {TV,\"Cable TV\",Internet,\"Wireless Internet\",\"A...\n",
       "55579    {TV,Internet,\"Wireless Internet\",\"Air conditio...\n",
       "55580    {TV,Internet,\"Wireless Internet\",Kitchen,Heati...\n",
       "55581    {TV,\"Wireless Internet\",\"Air conditioning\",Poo...\n",
       "55582    {TV,\"Cable TV\",Internet,\"Wireless Internet\",\"A...\n",
       "Name: amenities, Length: 55583, dtype: category\n",
       "Categories (51031, object): ['{\"Air conditioning\",\"Carbon monoxide detector..., '{\"Air conditioning\",\"Elevator in building\",He..., '{\"Air conditioning\",\"Fire extinguisher\",Essen..., '{\"Air conditioning\",\"Free parking on premises..., ..., '{Washer,Dryer,Internet,\"Smoke detector\",\"Wire..., '{Washer,Dryer,Internet,\"Wireless Internet\",Ki..., '{Washer,Dryer}', '{}']"
      ]
     },
     "execution_count": 13,
     "metadata": {},
     "output_type": "execute_result"
    }
   ],
   "source": [
    "train_df.amenities"
   ]
  },
  {
   "cell_type": "code",
   "execution_count": 171,
   "metadata": {},
   "outputs": [],
   "source": [
    "def mean_by_amenities(df):\n",
    "  # 重複しないアメニティのリストを作成\n",
    "  amenities_list = []\n",
    "  for amenities in df.amenities:\n",
    "    amenities_list.extend(amenities)\n",
    "\n",
    "  amenities_set = set(amenities_list)\n",
    "  amenities_set.remove('')\n",
    "\n",
    "  res = pd.DataFrame([],columns=[\"amenity\", \"exist_count\", \"exist_y_mean\",  \"not_exist_y_mean\"])\n",
    "\n",
    "  for amenity in amenities_set:\n",
    "    exist_df = df[[ amenity in amenities for amenities in df.amenities ]]\n",
    "    not_exist_df = df[[ amenity not in amenities for amenities in df.amenities ]]\n",
    "    \n",
    "    exist_y_mean = exist_df.y.mean()\n",
    "    not_exist_y_mean = not_exist_df.y.mean()\n",
    "    \n",
    "    mean_df = {\n",
    "      \"amenity\": amenity,\n",
    "      \"exist_count\": len(exist_df),\n",
    "      \"exist_y_mean\": exist_y_mean,\n",
    "      \"not_exist_y_mean\": not_exist_y_mean\n",
    "    }\n",
    "\n",
    "    res = res.append(mean_df, ignore_index=True)\n",
    "\n",
    "    del exist_df\n",
    "    del not_exist_df\n",
    "    del mean_df\n",
    "\n",
    "  return res"
   ]
  },
  {
   "cell_type": "code",
   "execution_count": 173,
   "metadata": {},
   "outputs": [
    {
     "name": "stderr",
     "output_type": "stream",
     "text": [
      "/var/folders/km/rlhv761j4rqcrksj6ch5bw_r0000gn/T/ipykernel_11669/563486265.py:26: FutureWarning: The frame.append method is deprecated and will be removed from pandas in a future version. Use pandas.concat instead.\n",
      "  res = res.append(mean_df, ignore_index=True)\n",
      "/var/folders/km/rlhv761j4rqcrksj6ch5bw_r0000gn/T/ipykernel_11669/563486265.py:26: FutureWarning: The frame.append method is deprecated and will be removed from pandas in a future version. Use pandas.concat instead.\n",
      "  res = res.append(mean_df, ignore_index=True)\n",
      "/var/folders/km/rlhv761j4rqcrksj6ch5bw_r0000gn/T/ipykernel_11669/563486265.py:26: FutureWarning: The frame.append method is deprecated and will be removed from pandas in a future version. Use pandas.concat instead.\n",
      "  res = res.append(mean_df, ignore_index=True)\n",
      "/var/folders/km/rlhv761j4rqcrksj6ch5bw_r0000gn/T/ipykernel_11669/563486265.py:26: FutureWarning: The frame.append method is deprecated and will be removed from pandas in a future version. Use pandas.concat instead.\n",
      "  res = res.append(mean_df, ignore_index=True)\n",
      "/var/folders/km/rlhv761j4rqcrksj6ch5bw_r0000gn/T/ipykernel_11669/563486265.py:26: FutureWarning: The frame.append method is deprecated and will be removed from pandas in a future version. Use pandas.concat instead.\n",
      "  res = res.append(mean_df, ignore_index=True)\n",
      "/var/folders/km/rlhv761j4rqcrksj6ch5bw_r0000gn/T/ipykernel_11669/563486265.py:26: FutureWarning: The frame.append method is deprecated and will be removed from pandas in a future version. Use pandas.concat instead.\n",
      "  res = res.append(mean_df, ignore_index=True)\n",
      "/var/folders/km/rlhv761j4rqcrksj6ch5bw_r0000gn/T/ipykernel_11669/563486265.py:26: FutureWarning: The frame.append method is deprecated and will be removed from pandas in a future version. Use pandas.concat instead.\n",
      "  res = res.append(mean_df, ignore_index=True)\n",
      "/var/folders/km/rlhv761j4rqcrksj6ch5bw_r0000gn/T/ipykernel_11669/563486265.py:26: FutureWarning: The frame.append method is deprecated and will be removed from pandas in a future version. Use pandas.concat instead.\n",
      "  res = res.append(mean_df, ignore_index=True)\n",
      "/var/folders/km/rlhv761j4rqcrksj6ch5bw_r0000gn/T/ipykernel_11669/563486265.py:26: FutureWarning: The frame.append method is deprecated and will be removed from pandas in a future version. Use pandas.concat instead.\n",
      "  res = res.append(mean_df, ignore_index=True)\n",
      "/var/folders/km/rlhv761j4rqcrksj6ch5bw_r0000gn/T/ipykernel_11669/563486265.py:26: FutureWarning: The frame.append method is deprecated and will be removed from pandas in a future version. Use pandas.concat instead.\n",
      "  res = res.append(mean_df, ignore_index=True)\n",
      "/var/folders/km/rlhv761j4rqcrksj6ch5bw_r0000gn/T/ipykernel_11669/563486265.py:26: FutureWarning: The frame.append method is deprecated and will be removed from pandas in a future version. Use pandas.concat instead.\n",
      "  res = res.append(mean_df, ignore_index=True)\n",
      "/var/folders/km/rlhv761j4rqcrksj6ch5bw_r0000gn/T/ipykernel_11669/563486265.py:26: FutureWarning: The frame.append method is deprecated and will be removed from pandas in a future version. Use pandas.concat instead.\n",
      "  res = res.append(mean_df, ignore_index=True)\n",
      "/var/folders/km/rlhv761j4rqcrksj6ch5bw_r0000gn/T/ipykernel_11669/563486265.py:26: FutureWarning: The frame.append method is deprecated and will be removed from pandas in a future version. Use pandas.concat instead.\n",
      "  res = res.append(mean_df, ignore_index=True)\n",
      "/var/folders/km/rlhv761j4rqcrksj6ch5bw_r0000gn/T/ipykernel_11669/563486265.py:26: FutureWarning: The frame.append method is deprecated and will be removed from pandas in a future version. Use pandas.concat instead.\n",
      "  res = res.append(mean_df, ignore_index=True)\n",
      "/var/folders/km/rlhv761j4rqcrksj6ch5bw_r0000gn/T/ipykernel_11669/563486265.py:26: FutureWarning: The frame.append method is deprecated and will be removed from pandas in a future version. Use pandas.concat instead.\n",
      "  res = res.append(mean_df, ignore_index=True)\n",
      "/var/folders/km/rlhv761j4rqcrksj6ch5bw_r0000gn/T/ipykernel_11669/563486265.py:26: FutureWarning: The frame.append method is deprecated and will be removed from pandas in a future version. Use pandas.concat instead.\n",
      "  res = res.append(mean_df, ignore_index=True)\n",
      "/var/folders/km/rlhv761j4rqcrksj6ch5bw_r0000gn/T/ipykernel_11669/563486265.py:26: FutureWarning: The frame.append method is deprecated and will be removed from pandas in a future version. Use pandas.concat instead.\n",
      "  res = res.append(mean_df, ignore_index=True)\n",
      "/var/folders/km/rlhv761j4rqcrksj6ch5bw_r0000gn/T/ipykernel_11669/563486265.py:26: FutureWarning: The frame.append method is deprecated and will be removed from pandas in a future version. Use pandas.concat instead.\n",
      "  res = res.append(mean_df, ignore_index=True)\n",
      "/var/folders/km/rlhv761j4rqcrksj6ch5bw_r0000gn/T/ipykernel_11669/563486265.py:26: FutureWarning: The frame.append method is deprecated and will be removed from pandas in a future version. Use pandas.concat instead.\n",
      "  res = res.append(mean_df, ignore_index=True)\n",
      "/var/folders/km/rlhv761j4rqcrksj6ch5bw_r0000gn/T/ipykernel_11669/563486265.py:26: FutureWarning: The frame.append method is deprecated and will be removed from pandas in a future version. Use pandas.concat instead.\n",
      "  res = res.append(mean_df, ignore_index=True)\n",
      "/var/folders/km/rlhv761j4rqcrksj6ch5bw_r0000gn/T/ipykernel_11669/563486265.py:26: FutureWarning: The frame.append method is deprecated and will be removed from pandas in a future version. Use pandas.concat instead.\n",
      "  res = res.append(mean_df, ignore_index=True)\n",
      "/var/folders/km/rlhv761j4rqcrksj6ch5bw_r0000gn/T/ipykernel_11669/563486265.py:26: FutureWarning: The frame.append method is deprecated and will be removed from pandas in a future version. Use pandas.concat instead.\n",
      "  res = res.append(mean_df, ignore_index=True)\n",
      "/var/folders/km/rlhv761j4rqcrksj6ch5bw_r0000gn/T/ipykernel_11669/563486265.py:26: FutureWarning: The frame.append method is deprecated and will be removed from pandas in a future version. Use pandas.concat instead.\n",
      "  res = res.append(mean_df, ignore_index=True)\n",
      "/var/folders/km/rlhv761j4rqcrksj6ch5bw_r0000gn/T/ipykernel_11669/563486265.py:26: FutureWarning: The frame.append method is deprecated and will be removed from pandas in a future version. Use pandas.concat instead.\n",
      "  res = res.append(mean_df, ignore_index=True)\n",
      "/var/folders/km/rlhv761j4rqcrksj6ch5bw_r0000gn/T/ipykernel_11669/563486265.py:26: FutureWarning: The frame.append method is deprecated and will be removed from pandas in a future version. Use pandas.concat instead.\n",
      "  res = res.append(mean_df, ignore_index=True)\n",
      "/var/folders/km/rlhv761j4rqcrksj6ch5bw_r0000gn/T/ipykernel_11669/563486265.py:26: FutureWarning: The frame.append method is deprecated and will be removed from pandas in a future version. Use pandas.concat instead.\n",
      "  res = res.append(mean_df, ignore_index=True)\n",
      "/var/folders/km/rlhv761j4rqcrksj6ch5bw_r0000gn/T/ipykernel_11669/563486265.py:26: FutureWarning: The frame.append method is deprecated and will be removed from pandas in a future version. Use pandas.concat instead.\n",
      "  res = res.append(mean_df, ignore_index=True)\n",
      "/var/folders/km/rlhv761j4rqcrksj6ch5bw_r0000gn/T/ipykernel_11669/563486265.py:26: FutureWarning: The frame.append method is deprecated and will be removed from pandas in a future version. Use pandas.concat instead.\n",
      "  res = res.append(mean_df, ignore_index=True)\n",
      "/var/folders/km/rlhv761j4rqcrksj6ch5bw_r0000gn/T/ipykernel_11669/563486265.py:26: FutureWarning: The frame.append method is deprecated and will be removed from pandas in a future version. Use pandas.concat instead.\n",
      "  res = res.append(mean_df, ignore_index=True)\n",
      "/var/folders/km/rlhv761j4rqcrksj6ch5bw_r0000gn/T/ipykernel_11669/563486265.py:26: FutureWarning: The frame.append method is deprecated and will be removed from pandas in a future version. Use pandas.concat instead.\n",
      "  res = res.append(mean_df, ignore_index=True)\n",
      "/var/folders/km/rlhv761j4rqcrksj6ch5bw_r0000gn/T/ipykernel_11669/563486265.py:26: FutureWarning: The frame.append method is deprecated and will be removed from pandas in a future version. Use pandas.concat instead.\n",
      "  res = res.append(mean_df, ignore_index=True)\n",
      "/var/folders/km/rlhv761j4rqcrksj6ch5bw_r0000gn/T/ipykernel_11669/563486265.py:26: FutureWarning: The frame.append method is deprecated and will be removed from pandas in a future version. Use pandas.concat instead.\n",
      "  res = res.append(mean_df, ignore_index=True)\n",
      "/var/folders/km/rlhv761j4rqcrksj6ch5bw_r0000gn/T/ipykernel_11669/563486265.py:26: FutureWarning: The frame.append method is deprecated and will be removed from pandas in a future version. Use pandas.concat instead.\n",
      "  res = res.append(mean_df, ignore_index=True)\n",
      "/var/folders/km/rlhv761j4rqcrksj6ch5bw_r0000gn/T/ipykernel_11669/563486265.py:26: FutureWarning: The frame.append method is deprecated and will be removed from pandas in a future version. Use pandas.concat instead.\n",
      "  res = res.append(mean_df, ignore_index=True)\n",
      "/var/folders/km/rlhv761j4rqcrksj6ch5bw_r0000gn/T/ipykernel_11669/563486265.py:26: FutureWarning: The frame.append method is deprecated and will be removed from pandas in a future version. Use pandas.concat instead.\n",
      "  res = res.append(mean_df, ignore_index=True)\n",
      "/var/folders/km/rlhv761j4rqcrksj6ch5bw_r0000gn/T/ipykernel_11669/563486265.py:26: FutureWarning: The frame.append method is deprecated and will be removed from pandas in a future version. Use pandas.concat instead.\n",
      "  res = res.append(mean_df, ignore_index=True)\n",
      "/var/folders/km/rlhv761j4rqcrksj6ch5bw_r0000gn/T/ipykernel_11669/563486265.py:26: FutureWarning: The frame.append method is deprecated and will be removed from pandas in a future version. Use pandas.concat instead.\n",
      "  res = res.append(mean_df, ignore_index=True)\n",
      "/var/folders/km/rlhv761j4rqcrksj6ch5bw_r0000gn/T/ipykernel_11669/563486265.py:26: FutureWarning: The frame.append method is deprecated and will be removed from pandas in a future version. Use pandas.concat instead.\n",
      "  res = res.append(mean_df, ignore_index=True)\n",
      "/var/folders/km/rlhv761j4rqcrksj6ch5bw_r0000gn/T/ipykernel_11669/563486265.py:26: FutureWarning: The frame.append method is deprecated and will be removed from pandas in a future version. Use pandas.concat instead.\n",
      "  res = res.append(mean_df, ignore_index=True)\n",
      "/var/folders/km/rlhv761j4rqcrksj6ch5bw_r0000gn/T/ipykernel_11669/563486265.py:26: FutureWarning: The frame.append method is deprecated and will be removed from pandas in a future version. Use pandas.concat instead.\n",
      "  res = res.append(mean_df, ignore_index=True)\n",
      "/var/folders/km/rlhv761j4rqcrksj6ch5bw_r0000gn/T/ipykernel_11669/563486265.py:26: FutureWarning: The frame.append method is deprecated and will be removed from pandas in a future version. Use pandas.concat instead.\n",
      "  res = res.append(mean_df, ignore_index=True)\n",
      "/var/folders/km/rlhv761j4rqcrksj6ch5bw_r0000gn/T/ipykernel_11669/563486265.py:26: FutureWarning: The frame.append method is deprecated and will be removed from pandas in a future version. Use pandas.concat instead.\n",
      "  res = res.append(mean_df, ignore_index=True)\n",
      "/var/folders/km/rlhv761j4rqcrksj6ch5bw_r0000gn/T/ipykernel_11669/563486265.py:26: FutureWarning: The frame.append method is deprecated and will be removed from pandas in a future version. Use pandas.concat instead.\n",
      "  res = res.append(mean_df, ignore_index=True)\n",
      "/var/folders/km/rlhv761j4rqcrksj6ch5bw_r0000gn/T/ipykernel_11669/563486265.py:26: FutureWarning: The frame.append method is deprecated and will be removed from pandas in a future version. Use pandas.concat instead.\n",
      "  res = res.append(mean_df, ignore_index=True)\n",
      "/var/folders/km/rlhv761j4rqcrksj6ch5bw_r0000gn/T/ipykernel_11669/563486265.py:26: FutureWarning: The frame.append method is deprecated and will be removed from pandas in a future version. Use pandas.concat instead.\n",
      "  res = res.append(mean_df, ignore_index=True)\n",
      "/var/folders/km/rlhv761j4rqcrksj6ch5bw_r0000gn/T/ipykernel_11669/563486265.py:26: FutureWarning: The frame.append method is deprecated and will be removed from pandas in a future version. Use pandas.concat instead.\n",
      "  res = res.append(mean_df, ignore_index=True)\n",
      "/var/folders/km/rlhv761j4rqcrksj6ch5bw_r0000gn/T/ipykernel_11669/563486265.py:26: FutureWarning: The frame.append method is deprecated and will be removed from pandas in a future version. Use pandas.concat instead.\n",
      "  res = res.append(mean_df, ignore_index=True)\n",
      "/var/folders/km/rlhv761j4rqcrksj6ch5bw_r0000gn/T/ipykernel_11669/563486265.py:26: FutureWarning: The frame.append method is deprecated and will be removed from pandas in a future version. Use pandas.concat instead.\n",
      "  res = res.append(mean_df, ignore_index=True)\n",
      "/var/folders/km/rlhv761j4rqcrksj6ch5bw_r0000gn/T/ipykernel_11669/563486265.py:26: FutureWarning: The frame.append method is deprecated and will be removed from pandas in a future version. Use pandas.concat instead.\n",
      "  res = res.append(mean_df, ignore_index=True)\n",
      "/var/folders/km/rlhv761j4rqcrksj6ch5bw_r0000gn/T/ipykernel_11669/563486265.py:26: FutureWarning: The frame.append method is deprecated and will be removed from pandas in a future version. Use pandas.concat instead.\n",
      "  res = res.append(mean_df, ignore_index=True)\n",
      "/var/folders/km/rlhv761j4rqcrksj6ch5bw_r0000gn/T/ipykernel_11669/563486265.py:26: FutureWarning: The frame.append method is deprecated and will be removed from pandas in a future version. Use pandas.concat instead.\n",
      "  res = res.append(mean_df, ignore_index=True)\n",
      "/var/folders/km/rlhv761j4rqcrksj6ch5bw_r0000gn/T/ipykernel_11669/563486265.py:26: FutureWarning: The frame.append method is deprecated and will be removed from pandas in a future version. Use pandas.concat instead.\n",
      "  res = res.append(mean_df, ignore_index=True)\n",
      "/var/folders/km/rlhv761j4rqcrksj6ch5bw_r0000gn/T/ipykernel_11669/563486265.py:26: FutureWarning: The frame.append method is deprecated and will be removed from pandas in a future version. Use pandas.concat instead.\n",
      "  res = res.append(mean_df, ignore_index=True)\n",
      "/var/folders/km/rlhv761j4rqcrksj6ch5bw_r0000gn/T/ipykernel_11669/563486265.py:26: FutureWarning: The frame.append method is deprecated and will be removed from pandas in a future version. Use pandas.concat instead.\n",
      "  res = res.append(mean_df, ignore_index=True)\n",
      "/var/folders/km/rlhv761j4rqcrksj6ch5bw_r0000gn/T/ipykernel_11669/563486265.py:26: FutureWarning: The frame.append method is deprecated and will be removed from pandas in a future version. Use pandas.concat instead.\n",
      "  res = res.append(mean_df, ignore_index=True)\n",
      "/var/folders/km/rlhv761j4rqcrksj6ch5bw_r0000gn/T/ipykernel_11669/563486265.py:26: FutureWarning: The frame.append method is deprecated and will be removed from pandas in a future version. Use pandas.concat instead.\n",
      "  res = res.append(mean_df, ignore_index=True)\n",
      "/var/folders/km/rlhv761j4rqcrksj6ch5bw_r0000gn/T/ipykernel_11669/563486265.py:26: FutureWarning: The frame.append method is deprecated and will be removed from pandas in a future version. Use pandas.concat instead.\n",
      "  res = res.append(mean_df, ignore_index=True)\n",
      "/var/folders/km/rlhv761j4rqcrksj6ch5bw_r0000gn/T/ipykernel_11669/563486265.py:26: FutureWarning: The frame.append method is deprecated and will be removed from pandas in a future version. Use pandas.concat instead.\n",
      "  res = res.append(mean_df, ignore_index=True)\n",
      "/var/folders/km/rlhv761j4rqcrksj6ch5bw_r0000gn/T/ipykernel_11669/563486265.py:26: FutureWarning: The frame.append method is deprecated and will be removed from pandas in a future version. Use pandas.concat instead.\n",
      "  res = res.append(mean_df, ignore_index=True)\n",
      "/var/folders/km/rlhv761j4rqcrksj6ch5bw_r0000gn/T/ipykernel_11669/563486265.py:26: FutureWarning: The frame.append method is deprecated and will be removed from pandas in a future version. Use pandas.concat instead.\n",
      "  res = res.append(mean_df, ignore_index=True)\n",
      "/var/folders/km/rlhv761j4rqcrksj6ch5bw_r0000gn/T/ipykernel_11669/563486265.py:26: FutureWarning: The frame.append method is deprecated and will be removed from pandas in a future version. Use pandas.concat instead.\n",
      "  res = res.append(mean_df, ignore_index=True)\n",
      "/var/folders/km/rlhv761j4rqcrksj6ch5bw_r0000gn/T/ipykernel_11669/563486265.py:26: FutureWarning: The frame.append method is deprecated and will be removed from pandas in a future version. Use pandas.concat instead.\n",
      "  res = res.append(mean_df, ignore_index=True)\n",
      "/var/folders/km/rlhv761j4rqcrksj6ch5bw_r0000gn/T/ipykernel_11669/563486265.py:26: FutureWarning: The frame.append method is deprecated and will be removed from pandas in a future version. Use pandas.concat instead.\n",
      "  res = res.append(mean_df, ignore_index=True)\n",
      "/var/folders/km/rlhv761j4rqcrksj6ch5bw_r0000gn/T/ipykernel_11669/563486265.py:26: FutureWarning: The frame.append method is deprecated and will be removed from pandas in a future version. Use pandas.concat instead.\n",
      "  res = res.append(mean_df, ignore_index=True)\n",
      "/var/folders/km/rlhv761j4rqcrksj6ch5bw_r0000gn/T/ipykernel_11669/563486265.py:26: FutureWarning: The frame.append method is deprecated and will be removed from pandas in a future version. Use pandas.concat instead.\n",
      "  res = res.append(mean_df, ignore_index=True)\n",
      "/var/folders/km/rlhv761j4rqcrksj6ch5bw_r0000gn/T/ipykernel_11669/563486265.py:26: FutureWarning: The frame.append method is deprecated and will be removed from pandas in a future version. Use pandas.concat instead.\n",
      "  res = res.append(mean_df, ignore_index=True)\n",
      "/var/folders/km/rlhv761j4rqcrksj6ch5bw_r0000gn/T/ipykernel_11669/563486265.py:26: FutureWarning: The frame.append method is deprecated and will be removed from pandas in a future version. Use pandas.concat instead.\n",
      "  res = res.append(mean_df, ignore_index=True)\n",
      "/var/folders/km/rlhv761j4rqcrksj6ch5bw_r0000gn/T/ipykernel_11669/563486265.py:26: FutureWarning: The frame.append method is deprecated and will be removed from pandas in a future version. Use pandas.concat instead.\n",
      "  res = res.append(mean_df, ignore_index=True)\n",
      "/var/folders/km/rlhv761j4rqcrksj6ch5bw_r0000gn/T/ipykernel_11669/563486265.py:26: FutureWarning: The frame.append method is deprecated and will be removed from pandas in a future version. Use pandas.concat instead.\n",
      "  res = res.append(mean_df, ignore_index=True)\n",
      "/var/folders/km/rlhv761j4rqcrksj6ch5bw_r0000gn/T/ipykernel_11669/563486265.py:26: FutureWarning: The frame.append method is deprecated and will be removed from pandas in a future version. Use pandas.concat instead.\n",
      "  res = res.append(mean_df, ignore_index=True)\n",
      "/var/folders/km/rlhv761j4rqcrksj6ch5bw_r0000gn/T/ipykernel_11669/563486265.py:26: FutureWarning: The frame.append method is deprecated and will be removed from pandas in a future version. Use pandas.concat instead.\n",
      "  res = res.append(mean_df, ignore_index=True)\n",
      "/var/folders/km/rlhv761j4rqcrksj6ch5bw_r0000gn/T/ipykernel_11669/563486265.py:26: FutureWarning: The frame.append method is deprecated and will be removed from pandas in a future version. Use pandas.concat instead.\n",
      "  res = res.append(mean_df, ignore_index=True)\n",
      "/var/folders/km/rlhv761j4rqcrksj6ch5bw_r0000gn/T/ipykernel_11669/563486265.py:26: FutureWarning: The frame.append method is deprecated and will be removed from pandas in a future version. Use pandas.concat instead.\n",
      "  res = res.append(mean_df, ignore_index=True)\n",
      "/var/folders/km/rlhv761j4rqcrksj6ch5bw_r0000gn/T/ipykernel_11669/563486265.py:26: FutureWarning: The frame.append method is deprecated and will be removed from pandas in a future version. Use pandas.concat instead.\n",
      "  res = res.append(mean_df, ignore_index=True)\n",
      "/var/folders/km/rlhv761j4rqcrksj6ch5bw_r0000gn/T/ipykernel_11669/563486265.py:26: FutureWarning: The frame.append method is deprecated and will be removed from pandas in a future version. Use pandas.concat instead.\n",
      "  res = res.append(mean_df, ignore_index=True)\n",
      "/var/folders/km/rlhv761j4rqcrksj6ch5bw_r0000gn/T/ipykernel_11669/563486265.py:26: FutureWarning: The frame.append method is deprecated and will be removed from pandas in a future version. Use pandas.concat instead.\n",
      "  res = res.append(mean_df, ignore_index=True)\n",
      "/var/folders/km/rlhv761j4rqcrksj6ch5bw_r0000gn/T/ipykernel_11669/563486265.py:26: FutureWarning: The frame.append method is deprecated and will be removed from pandas in a future version. Use pandas.concat instead.\n",
      "  res = res.append(mean_df, ignore_index=True)\n",
      "/var/folders/km/rlhv761j4rqcrksj6ch5bw_r0000gn/T/ipykernel_11669/563486265.py:26: FutureWarning: The frame.append method is deprecated and will be removed from pandas in a future version. Use pandas.concat instead.\n",
      "  res = res.append(mean_df, ignore_index=True)\n",
      "/var/folders/km/rlhv761j4rqcrksj6ch5bw_r0000gn/T/ipykernel_11669/563486265.py:26: FutureWarning: The frame.append method is deprecated and will be removed from pandas in a future version. Use pandas.concat instead.\n",
      "  res = res.append(mean_df, ignore_index=True)\n",
      "/var/folders/km/rlhv761j4rqcrksj6ch5bw_r0000gn/T/ipykernel_11669/563486265.py:26: FutureWarning: The frame.append method is deprecated and will be removed from pandas in a future version. Use pandas.concat instead.\n",
      "  res = res.append(mean_df, ignore_index=True)\n",
      "/var/folders/km/rlhv761j4rqcrksj6ch5bw_r0000gn/T/ipykernel_11669/563486265.py:26: FutureWarning: The frame.append method is deprecated and will be removed from pandas in a future version. Use pandas.concat instead.\n",
      "  res = res.append(mean_df, ignore_index=True)\n",
      "/var/folders/km/rlhv761j4rqcrksj6ch5bw_r0000gn/T/ipykernel_11669/563486265.py:26: FutureWarning: The frame.append method is deprecated and will be removed from pandas in a future version. Use pandas.concat instead.\n",
      "  res = res.append(mean_df, ignore_index=True)\n",
      "/var/folders/km/rlhv761j4rqcrksj6ch5bw_r0000gn/T/ipykernel_11669/563486265.py:26: FutureWarning: The frame.append method is deprecated and will be removed from pandas in a future version. Use pandas.concat instead.\n",
      "  res = res.append(mean_df, ignore_index=True)\n",
      "/var/folders/km/rlhv761j4rqcrksj6ch5bw_r0000gn/T/ipykernel_11669/563486265.py:26: FutureWarning: The frame.append method is deprecated and will be removed from pandas in a future version. Use pandas.concat instead.\n",
      "  res = res.append(mean_df, ignore_index=True)\n",
      "/var/folders/km/rlhv761j4rqcrksj6ch5bw_r0000gn/T/ipykernel_11669/563486265.py:26: FutureWarning: The frame.append method is deprecated and will be removed from pandas in a future version. Use pandas.concat instead.\n",
      "  res = res.append(mean_df, ignore_index=True)\n",
      "/var/folders/km/rlhv761j4rqcrksj6ch5bw_r0000gn/T/ipykernel_11669/563486265.py:26: FutureWarning: The frame.append method is deprecated and will be removed from pandas in a future version. Use pandas.concat instead.\n",
      "  res = res.append(mean_df, ignore_index=True)\n",
      "/var/folders/km/rlhv761j4rqcrksj6ch5bw_r0000gn/T/ipykernel_11669/563486265.py:26: FutureWarning: The frame.append method is deprecated and will be removed from pandas in a future version. Use pandas.concat instead.\n",
      "  res = res.append(mean_df, ignore_index=True)\n",
      "/var/folders/km/rlhv761j4rqcrksj6ch5bw_r0000gn/T/ipykernel_11669/563486265.py:26: FutureWarning: The frame.append method is deprecated and will be removed from pandas in a future version. Use pandas.concat instead.\n",
      "  res = res.append(mean_df, ignore_index=True)\n",
      "/var/folders/km/rlhv761j4rqcrksj6ch5bw_r0000gn/T/ipykernel_11669/563486265.py:26: FutureWarning: The frame.append method is deprecated and will be removed from pandas in a future version. Use pandas.concat instead.\n",
      "  res = res.append(mean_df, ignore_index=True)\n",
      "/var/folders/km/rlhv761j4rqcrksj6ch5bw_r0000gn/T/ipykernel_11669/563486265.py:26: FutureWarning: The frame.append method is deprecated and will be removed from pandas in a future version. Use pandas.concat instead.\n",
      "  res = res.append(mean_df, ignore_index=True)\n",
      "/var/folders/km/rlhv761j4rqcrksj6ch5bw_r0000gn/T/ipykernel_11669/563486265.py:26: FutureWarning: The frame.append method is deprecated and will be removed from pandas in a future version. Use pandas.concat instead.\n",
      "  res = res.append(mean_df, ignore_index=True)\n",
      "/var/folders/km/rlhv761j4rqcrksj6ch5bw_r0000gn/T/ipykernel_11669/563486265.py:26: FutureWarning: The frame.append method is deprecated and will be removed from pandas in a future version. Use pandas.concat instead.\n",
      "  res = res.append(mean_df, ignore_index=True)\n",
      "/var/folders/km/rlhv761j4rqcrksj6ch5bw_r0000gn/T/ipykernel_11669/563486265.py:26: FutureWarning: The frame.append method is deprecated and will be removed from pandas in a future version. Use pandas.concat instead.\n",
      "  res = res.append(mean_df, ignore_index=True)\n",
      "/var/folders/km/rlhv761j4rqcrksj6ch5bw_r0000gn/T/ipykernel_11669/563486265.py:26: FutureWarning: The frame.append method is deprecated and will be removed from pandas in a future version. Use pandas.concat instead.\n",
      "  res = res.append(mean_df, ignore_index=True)\n",
      "/var/folders/km/rlhv761j4rqcrksj6ch5bw_r0000gn/T/ipykernel_11669/563486265.py:26: FutureWarning: The frame.append method is deprecated and will be removed from pandas in a future version. Use pandas.concat instead.\n",
      "  res = res.append(mean_df, ignore_index=True)\n",
      "/var/folders/km/rlhv761j4rqcrksj6ch5bw_r0000gn/T/ipykernel_11669/563486265.py:26: FutureWarning: The frame.append method is deprecated and will be removed from pandas in a future version. Use pandas.concat instead.\n",
      "  res = res.append(mean_df, ignore_index=True)\n",
      "/var/folders/km/rlhv761j4rqcrksj6ch5bw_r0000gn/T/ipykernel_11669/563486265.py:26: FutureWarning: The frame.append method is deprecated and will be removed from pandas in a future version. Use pandas.concat instead.\n",
      "  res = res.append(mean_df, ignore_index=True)\n",
      "/var/folders/km/rlhv761j4rqcrksj6ch5bw_r0000gn/T/ipykernel_11669/563486265.py:26: FutureWarning: The frame.append method is deprecated and will be removed from pandas in a future version. Use pandas.concat instead.\n",
      "  res = res.append(mean_df, ignore_index=True)\n",
      "/var/folders/km/rlhv761j4rqcrksj6ch5bw_r0000gn/T/ipykernel_11669/563486265.py:26: FutureWarning: The frame.append method is deprecated and will be removed from pandas in a future version. Use pandas.concat instead.\n",
      "  res = res.append(mean_df, ignore_index=True)\n",
      "/var/folders/km/rlhv761j4rqcrksj6ch5bw_r0000gn/T/ipykernel_11669/563486265.py:26: FutureWarning: The frame.append method is deprecated and will be removed from pandas in a future version. Use pandas.concat instead.\n",
      "  res = res.append(mean_df, ignore_index=True)\n",
      "/var/folders/km/rlhv761j4rqcrksj6ch5bw_r0000gn/T/ipykernel_11669/563486265.py:26: FutureWarning: The frame.append method is deprecated and will be removed from pandas in a future version. Use pandas.concat instead.\n",
      "  res = res.append(mean_df, ignore_index=True)\n",
      "/var/folders/km/rlhv761j4rqcrksj6ch5bw_r0000gn/T/ipykernel_11669/563486265.py:26: FutureWarning: The frame.append method is deprecated and will be removed from pandas in a future version. Use pandas.concat instead.\n",
      "  res = res.append(mean_df, ignore_index=True)\n",
      "/var/folders/km/rlhv761j4rqcrksj6ch5bw_r0000gn/T/ipykernel_11669/563486265.py:26: FutureWarning: The frame.append method is deprecated and will be removed from pandas in a future version. Use pandas.concat instead.\n",
      "  res = res.append(mean_df, ignore_index=True)\n",
      "/var/folders/km/rlhv761j4rqcrksj6ch5bw_r0000gn/T/ipykernel_11669/563486265.py:26: FutureWarning: The frame.append method is deprecated and will be removed from pandas in a future version. Use pandas.concat instead.\n",
      "  res = res.append(mean_df, ignore_index=True)\n",
      "/var/folders/km/rlhv761j4rqcrksj6ch5bw_r0000gn/T/ipykernel_11669/563486265.py:26: FutureWarning: The frame.append method is deprecated and will be removed from pandas in a future version. Use pandas.concat instead.\n",
      "  res = res.append(mean_df, ignore_index=True)\n",
      "/var/folders/km/rlhv761j4rqcrksj6ch5bw_r0000gn/T/ipykernel_11669/563486265.py:26: FutureWarning: The frame.append method is deprecated and will be removed from pandas in a future version. Use pandas.concat instead.\n",
      "  res = res.append(mean_df, ignore_index=True)\n",
      "/var/folders/km/rlhv761j4rqcrksj6ch5bw_r0000gn/T/ipykernel_11669/563486265.py:26: FutureWarning: The frame.append method is deprecated and will be removed from pandas in a future version. Use pandas.concat instead.\n",
      "  res = res.append(mean_df, ignore_index=True)\n",
      "/var/folders/km/rlhv761j4rqcrksj6ch5bw_r0000gn/T/ipykernel_11669/563486265.py:26: FutureWarning: The frame.append method is deprecated and will be removed from pandas in a future version. Use pandas.concat instead.\n",
      "  res = res.append(mean_df, ignore_index=True)\n",
      "/var/folders/km/rlhv761j4rqcrksj6ch5bw_r0000gn/T/ipykernel_11669/563486265.py:26: FutureWarning: The frame.append method is deprecated and will be removed from pandas in a future version. Use pandas.concat instead.\n",
      "  res = res.append(mean_df, ignore_index=True)\n",
      "/var/folders/km/rlhv761j4rqcrksj6ch5bw_r0000gn/T/ipykernel_11669/563486265.py:26: FutureWarning: The frame.append method is deprecated and will be removed from pandas in a future version. Use pandas.concat instead.\n",
      "  res = res.append(mean_df, ignore_index=True)\n",
      "/var/folders/km/rlhv761j4rqcrksj6ch5bw_r0000gn/T/ipykernel_11669/563486265.py:26: FutureWarning: The frame.append method is deprecated and will be removed from pandas in a future version. Use pandas.concat instead.\n",
      "  res = res.append(mean_df, ignore_index=True)\n",
      "/var/folders/km/rlhv761j4rqcrksj6ch5bw_r0000gn/T/ipykernel_11669/563486265.py:26: FutureWarning: The frame.append method is deprecated and will be removed from pandas in a future version. Use pandas.concat instead.\n",
      "  res = res.append(mean_df, ignore_index=True)\n",
      "/var/folders/km/rlhv761j4rqcrksj6ch5bw_r0000gn/T/ipykernel_11669/563486265.py:26: FutureWarning: The frame.append method is deprecated and will be removed from pandas in a future version. Use pandas.concat instead.\n",
      "  res = res.append(mean_df, ignore_index=True)\n",
      "/var/folders/km/rlhv761j4rqcrksj6ch5bw_r0000gn/T/ipykernel_11669/563486265.py:26: FutureWarning: The frame.append method is deprecated and will be removed from pandas in a future version. Use pandas.concat instead.\n",
      "  res = res.append(mean_df, ignore_index=True)\n",
      "/var/folders/km/rlhv761j4rqcrksj6ch5bw_r0000gn/T/ipykernel_11669/563486265.py:26: FutureWarning: The frame.append method is deprecated and will be removed from pandas in a future version. Use pandas.concat instead.\n",
      "  res = res.append(mean_df, ignore_index=True)\n",
      "/var/folders/km/rlhv761j4rqcrksj6ch5bw_r0000gn/T/ipykernel_11669/563486265.py:26: FutureWarning: The frame.append method is deprecated and will be removed from pandas in a future version. Use pandas.concat instead.\n",
      "  res = res.append(mean_df, ignore_index=True)\n",
      "/var/folders/km/rlhv761j4rqcrksj6ch5bw_r0000gn/T/ipykernel_11669/563486265.py:26: FutureWarning: The frame.append method is deprecated and will be removed from pandas in a future version. Use pandas.concat instead.\n",
      "  res = res.append(mean_df, ignore_index=True)\n",
      "/var/folders/km/rlhv761j4rqcrksj6ch5bw_r0000gn/T/ipykernel_11669/563486265.py:26: FutureWarning: The frame.append method is deprecated and will be removed from pandas in a future version. Use pandas.concat instead.\n",
      "  res = res.append(mean_df, ignore_index=True)\n",
      "/var/folders/km/rlhv761j4rqcrksj6ch5bw_r0000gn/T/ipykernel_11669/563486265.py:26: FutureWarning: The frame.append method is deprecated and will be removed from pandas in a future version. Use pandas.concat instead.\n",
      "  res = res.append(mean_df, ignore_index=True)\n",
      "/var/folders/km/rlhv761j4rqcrksj6ch5bw_r0000gn/T/ipykernel_11669/563486265.py:26: FutureWarning: The frame.append method is deprecated and will be removed from pandas in a future version. Use pandas.concat instead.\n",
      "  res = res.append(mean_df, ignore_index=True)\n",
      "/var/folders/km/rlhv761j4rqcrksj6ch5bw_r0000gn/T/ipykernel_11669/563486265.py:26: FutureWarning: The frame.append method is deprecated and will be removed from pandas in a future version. Use pandas.concat instead.\n",
      "  res = res.append(mean_df, ignore_index=True)\n",
      "/var/folders/km/rlhv761j4rqcrksj6ch5bw_r0000gn/T/ipykernel_11669/563486265.py:26: FutureWarning: The frame.append method is deprecated and will be removed from pandas in a future version. Use pandas.concat instead.\n",
      "  res = res.append(mean_df, ignore_index=True)\n",
      "/var/folders/km/rlhv761j4rqcrksj6ch5bw_r0000gn/T/ipykernel_11669/563486265.py:26: FutureWarning: The frame.append method is deprecated and will be removed from pandas in a future version. Use pandas.concat instead.\n",
      "  res = res.append(mean_df, ignore_index=True)\n",
      "/var/folders/km/rlhv761j4rqcrksj6ch5bw_r0000gn/T/ipykernel_11669/563486265.py:26: FutureWarning: The frame.append method is deprecated and will be removed from pandas in a future version. Use pandas.concat instead.\n",
      "  res = res.append(mean_df, ignore_index=True)\n",
      "/var/folders/km/rlhv761j4rqcrksj6ch5bw_r0000gn/T/ipykernel_11669/563486265.py:26: FutureWarning: The frame.append method is deprecated and will be removed from pandas in a future version. Use pandas.concat instead.\n",
      "  res = res.append(mean_df, ignore_index=True)\n",
      "/var/folders/km/rlhv761j4rqcrksj6ch5bw_r0000gn/T/ipykernel_11669/563486265.py:26: FutureWarning: The frame.append method is deprecated and will be removed from pandas in a future version. Use pandas.concat instead.\n",
      "  res = res.append(mean_df, ignore_index=True)\n",
      "/var/folders/km/rlhv761j4rqcrksj6ch5bw_r0000gn/T/ipykernel_11669/563486265.py:26: FutureWarning: The frame.append method is deprecated and will be removed from pandas in a future version. Use pandas.concat instead.\n",
      "  res = res.append(mean_df, ignore_index=True)\n",
      "/var/folders/km/rlhv761j4rqcrksj6ch5bw_r0000gn/T/ipykernel_11669/563486265.py:26: FutureWarning: The frame.append method is deprecated and will be removed from pandas in a future version. Use pandas.concat instead.\n",
      "  res = res.append(mean_df, ignore_index=True)\n",
      "/var/folders/km/rlhv761j4rqcrksj6ch5bw_r0000gn/T/ipykernel_11669/563486265.py:26: FutureWarning: The frame.append method is deprecated and will be removed from pandas in a future version. Use pandas.concat instead.\n",
      "  res = res.append(mean_df, ignore_index=True)\n"
     ]
    }
   ],
   "source": [
    "price_mean_by_amenity = mean_by_amenities(train_df)"
   ]
  },
  {
   "cell_type": "markdown",
   "metadata": {},
   "source": [
    "#### 価格に影響がありそうなアメニティリスト\n",
    "※平均価格から20ドル程度以上乖離があり、ある程度対象設定されている件数が存在するものを対象にする\n",
    "\n",
    "##### 料金が高いアメニティ\n",
    "* \"Private entrance\"\n",
    "* \"Hair dryer\"\n",
    "* TV\n",
    "* Gym\n",
    "* \"Family/kid friendly\"\n",
    "* Dryer\n",
    "* Washer\n",
    "* \"Cable TV\"\n",
    "* \"Pets allowed\"\n",
    "* Pool\n",
    "* \"Indoor fireplace\"\n",
    "* Elevator\n",
    "\n",
    "##### 料金が安いアメニティ\n",
    "* \"Smoking allowed\"\n",
    "* \"translation missing: en.hosting_amenity_50\"\n",
    "* \"translation missing: en.hosting_amenity_49\"\n"
   ]
  },
  {
   "cell_type": "markdown",
   "metadata": {},
   "source": [
    "### 都市項目の確認"
   ]
  },
  {
   "cell_type": "code",
   "execution_count": 64,
   "metadata": {},
   "outputs": [
    {
     "data": {
      "text/plain": [
       "0             LA\n",
       "1             DC\n",
       "2            NYC\n",
       "3             SF\n",
       "4            NYC\n",
       "          ...   \n",
       "55578        NYC\n",
       "55579    Chicago\n",
       "55580         SF\n",
       "55581         LA\n",
       "55582         LA\n",
       "Name: city, Length: 55583, dtype: category\n",
       "Categories (6, object): ['Boston', 'Chicago', 'DC', 'LA', 'NYC', 'SF']"
      ]
     },
     "execution_count": 64,
     "metadata": {},
     "output_type": "execute_result"
    }
   ],
   "source": [
    "train_df.city"
   ]
  },
  {
   "cell_type": "markdown",
   "metadata": {},
   "source": [
    "アメリカの6都市が設定されている"
   ]
  },
  {
   "cell_type": "code",
   "execution_count": 63,
   "metadata": {},
   "outputs": [
    {
     "data": {
      "text/plain": [
       "0         Boston\n",
       "1             LA\n",
       "2            NYC\n",
       "3            NYC\n",
       "4             LA\n",
       "          ...   \n",
       "18523        NYC\n",
       "18524    Chicago\n",
       "18525    Chicago\n",
       "18526        NYC\n",
       "18527         LA\n",
       "Name: city, Length: 18528, dtype: category\n",
       "Categories (6, object): ['Boston', 'Chicago', 'DC', 'LA', 'NYC', 'SF']"
      ]
     },
     "execution_count": 63,
     "metadata": {},
     "output_type": "execute_result"
    }
   ],
   "source": [
    "test_df.city"
   ]
  },
  {
   "cell_type": "markdown",
   "metadata": {},
   "source": [
    "テストデータについても同様の都市のみが設定されている"
   ]
  },
  {
   "cell_type": "code",
   "execution_count": 72,
   "metadata": {},
   "outputs": [],
   "source": [
    "train_city_counter = collections.Counter(train_df.city)\n",
    "test_city_counter = collections.Counter(test_df.city)"
   ]
  },
  {
   "cell_type": "code",
   "execution_count": 74,
   "metadata": {},
   "outputs": [
    {
     "data": {
      "text/plain": [
       "dict_items([('LA', 16828), ('DC', 4259), ('NYC', 24326), ('SF', 4768), ('Chicago', 2807), ('Boston', 2595)])"
      ]
     },
     "execution_count": 74,
     "metadata": {},
     "output_type": "execute_result"
    }
   ],
   "source": [
    "train_city_counter.items()"
   ]
  },
  {
   "cell_type": "code",
   "execution_count": 75,
   "metadata": {},
   "outputs": [
    {
     "data": {
      "text/plain": [
       "dict_items([('Boston', 873), ('LA', 5625), ('NYC', 8023), ('DC', 1429), ('SF', 1666), ('Chicago', 912)])"
      ]
     },
     "execution_count": 75,
     "metadata": {},
     "output_type": "execute_result"
    }
   ],
   "source": [
    "test_city_counter.items()"
   ]
  },
  {
   "cell_type": "markdown",
   "metadata": {},
   "source": [
    "都市データの分布は学習データ、テストデータでほとんど同じ\n",
    "\n",
    "| 都市 | 学習データ件数 | 学習データ割合 | テストデータ件数 | テストデータ割合 |\n",
    "| - | - | - | - | - |\n",
    "| LA | 16828 | 30.28% | 5625 | 30.36% |\n",
    "| DC | 4259 | 7.66% | 1429 | 7.71% |\n",
    "| NYC | 24326 | 43.77% | 8023 | 43.30% |\n",
    "| SF | 4768 | 8.58% | 1666 | 8.99% |\n",
    "| Chicago | 2807 | 5.05% | 912 | 4.92% |\n",
    "| Boston | 2595 | 4.67% | 873 | 4.71% |\n",
    "| 合計 | 55583 | - | 18528 | - |"
   ]
  },
  {
   "cell_type": "code",
   "execution_count": 10,
   "metadata": {},
   "outputs": [
    {
     "data": {
      "text/plain": [
       "<AxesSubplot:xlabel='y', ylabel='Count'>"
      ]
     },
     "execution_count": 10,
     "metadata": {},
     "output_type": "execute_result"
    },
    {
     "data": {
      "image/png": "[encoded data removed]",
      "text/plain": [
       "<Figure size 432x288 with 1 Axes>"
      ]
     },
     "metadata": {
      "needs_background": "light"
     },
     "output_type": "display_data"
    }
   ],
   "source": [
    "import seaborn as sns\n",
    "sns.histplot(x=\"y\", data=train_df, bins=range(0, 2000, 50), hue=\"city\")"
   ]
  },
  {
   "cell_type": "code",
   "execution_count": 11,
   "metadata": {},
   "outputs": [],
   "source": [
    "def plot_hist_by_city(df: pd.DataFrame):\n",
    "  \"\"\"都市毎の宿泊価格ヒストグラム出力\n",
    "\n",
    "  Args:\n",
    "      df (pd.DataFrame): ロードデータ\n",
    "  \"\"\"\n",
    "  cities = df.city.unique()\n",
    "\n",
    "  for city in cities:\n",
    "    plot_data = df[df.city == city]\n",
    "    plt.hist(plot_data.y, bins=range(0, 2000, 50))\n",
    "    plt.title(city)\n",
    "    plt.show()"
   ]
  },
  {
   "cell_type": "code",
   "execution_count": 12,
   "metadata": {},
   "outputs": [
    {
     "data": {
      "image/png": "[encoded data removed]",
      "text/plain": [
       "<Figure size 432x288 with 1 Axes>"
      ]
     },
     "metadata": {
      "needs_background": "light"
     },
     "output_type": "display_data"
    },
    {
     "data": {
      "image/png": "[encoded data removed]",
      "text/plain": [
       "<Figure size 432x288 with 1 Axes>"
      ]
     },
     "metadata": {
      "needs_background": "light"
     },
     "output_type": "display_data"
    },
    {
     "data": {
      "image/png": "[encoded data removed]",
      "text/plain": [
       "<Figure size 432x288 with 1 Axes>"
      ]
     },
     "metadata": {
      "needs_background": "light"
     },
     "output_type": "display_data"
    },
    {
     "data": {
      "image/png": "[encoded data removed]",
      "text/plain": [
       "<Figure size 432x288 with 1 Axes>"
      ]
     },
     "metadata": {
      "needs_background": "light"
     },
     "output_type": "display_data"
    },
    {
     "data": {
      "image/png": "[encoded data removed]",
      "text/plain": [
       "<Figure size 432x288 with 1 Axes>"
      ]
     },
     "metadata": {
      "needs_background": "light"
     },
     "output_type": "display_data"
    },
    {
     "data": {
      "image/png": "[encoded data removed]",
      "text/plain": [
       "<Figure size 432x288 with 1 Axes>"
      ]
     },
     "metadata": {
      "needs_background": "light"
     },
     "output_type": "display_data"
    }
   ],
   "source": [
    "plot_hist_by_city(train_df)"
   ]
  },
  {
   "cell_type": "markdown",
   "metadata": {},
   "source": [
    "都市毎の価格分布の形状はほとんど同じ  \n",
    "サンフランシスコが若干、価格が高い  "
   ]
  },
  {
   "cell_type": "markdown",
   "metadata": {},
   "source": [
    "### ベッドの種類"
   ]
  },
  {
   "cell_type": "code",
   "execution_count": 13,
   "metadata": {},
   "outputs": [
    {
     "data": {
      "text/plain": [
       "0        Real Bed\n",
       "1        Real Bed\n",
       "2        Real Bed\n",
       "3        Real Bed\n",
       "4        Real Bed\n",
       "           ...   \n",
       "55578    Real Bed\n",
       "55579    Real Bed\n",
       "55580    Real Bed\n",
       "55581    Real Bed\n",
       "55582    Real Bed\n",
       "Name: bed_type, Length: 55583, dtype: category\n",
       "Categories (5, object): ['Airbed', 'Couch', 'Futon', 'Pull-out Sofa', 'Real Bed']"
      ]
     },
     "execution_count": 13,
     "metadata": {},
     "output_type": "execute_result"
    }
   ],
   "source": [
    "train_df.bed_type"
   ]
  },
  {
   "cell_type": "code",
   "execution_count": 16,
   "metadata": {},
   "outputs": [],
   "source": [
    "def plot_hist_by_bed_type(df: pd.DataFrame):\n",
    "  \"\"\"ベッドの種類毎の宿泊価格ヒストグラム出力\n",
    "\n",
    "  Args:\n",
    "      df (pd.DataFrame): ロードデータ\n",
    "  \"\"\"\n",
    "  bed_types = df.bed_type.unique()\n",
    "\n",
    "  for bed_type in bed_types:\n",
    "    plot_data = df[df.bed_type == bed_type]\n",
    "    plt.hist(plot_data.y, bins=range(0, 2000, 50))\n",
    "    plt.title(bed_type)\n",
    "    plt.show()"
   ]
  },
  {
   "cell_type": "code",
   "execution_count": 17,
   "metadata": {},
   "outputs": [
    {
     "data": {
      "image/png": "[encoded data removed]",
      "text/plain": [
       "<Figure size 432x288 with 1 Axes>"
      ]
     },
     "metadata": {
      "needs_background": "light"
     },
     "output_type": "display_data"
    },
    {
     "data": {
      "image/png": "[encoded data removed]",
      "text/plain": [
       "<Figure size 432x288 with 1 Axes>"
      ]
     },
     "metadata": {
      "needs_background": "light"
     },
     "output_type": "display_data"
    },
    {
     "data": {
      "image/png": "[encoded data removed]",
      "text/plain": [
       "<Figure size 432x288 with 1 Axes>"
      ]
     },
     "metadata": {
      "needs_background": "light"
     },
     "output_type": "display_data"
    },
    {
     "data": {
      "image/png": "[encoded data removed]",
      "text/plain": [
       "<Figure size 432x288 with 1 Axes>"
      ]
     },
     "metadata": {
      "needs_background": "light"
     },
     "output_type": "display_data"
    },
    {
     "data": {
      "image/png": "[encoded data removed]",
      "text/plain": [
       "<Figure size 432x288 with 1 Axes>"
      ]
     },
     "metadata": {
      "needs_background": "light"
     },
     "output_type": "display_data"
    }
   ],
   "source": [
    "plot_hist_by_bed_type(train_df)"
   ]
  },
  {
   "cell_type": "code",
   "execution_count": 20,
   "metadata": {},
   "outputs": [],
   "source": [
    "bed_type_counter = collections.Counter(train_df.bed_type)"
   ]
  },
  {
   "cell_type": "code",
   "execution_count": 21,
   "metadata": {},
   "outputs": [
    {
     "data": {
      "text/plain": [
       "dict_items([('Real Bed', 53989), ('Pull-out Sofa', 453), ('Airbed', 364), ('Futon', 569), ('Couch', 208)])"
      ]
     },
     "execution_count": 21,
     "metadata": {},
     "output_type": "execute_result"
    }
   ],
   "source": [
    "bed_type_counter.items()"
   ]
  },
  {
   "cell_type": "markdown",
   "metadata": {},
   "source": [
    "ベッドの物件の方が価格が高い傾向にある  \n",
    "※ヒストグラムの中心から右側(価格が高い方)の変化がなだらかであるため  \n",
    "データのほとんどがベッドの物件のため、モデルに設定しても、あまり効果が薄いと思われる  \n",
    "※やるならベッドか否かのダミー変数にする  "
   ]
  },
  {
   "cell_type": "markdown",
   "metadata": {},
   "source": [
    "### 物件の種類"
   ]
  },
  {
   "cell_type": "code",
   "execution_count": 30,
   "metadata": {},
   "outputs": [
    {
     "data": {
      "text/plain": [
       "0        Apartment\n",
       "1            House\n",
       "2        Apartment\n",
       "3        Apartment\n",
       "4        Apartment\n",
       "           ...    \n",
       "55578    Apartment\n",
       "55579    Apartment\n",
       "55580    Apartment\n",
       "55581    Townhouse\n",
       "55582    Apartment\n",
       "Name: property_type, Length: 55583, dtype: category\n",
       "Categories (34, object): ['Apartment', 'Bed & Breakfast', 'Boat', 'Boutique hotel', ..., 'Treehouse', 'Vacation home', 'Villa', 'Yurt']"
      ]
     },
     "execution_count": 30,
     "metadata": {},
     "output_type": "execute_result"
    }
   ],
   "source": [
    "train_df.property_type"
   ]
  },
  {
   "cell_type": "code",
   "execution_count": 31,
   "metadata": {},
   "outputs": [],
   "source": [
    "train_property_type_counter = collections.Counter(train_df.property_type)"
   ]
  },
  {
   "cell_type": "code",
   "execution_count": 32,
   "metadata": {},
   "outputs": [
    {
     "data": {
      "text/plain": [
       "Counter({'Apartment': 36826,\n",
       "         'House': 12326,\n",
       "         'Townhouse': 1249,\n",
       "         'Loft': 914,\n",
       "         'Cabin': 47,\n",
       "         'Condominium': 1983,\n",
       "         'Guest suite': 96,\n",
       "         'Guesthouse': 392,\n",
       "         'Other': 448,\n",
       "         'Bungalow': 281,\n",
       "         'Villa': 131,\n",
       "         'Bed & Breakfast': 349,\n",
       "         'Dorm': 112,\n",
       "         'Timeshare': 55,\n",
       "         'Camper/RV': 71,\n",
       "         'Cave': 1,\n",
       "         'Hostel': 51,\n",
       "         'Earth House': 4,\n",
       "         'In-law': 60,\n",
       "         'Serviced apartment': 16,\n",
       "         'Boat': 53,\n",
       "         'Tent': 14,\n",
       "         'Castle': 9,\n",
       "         'Boutique hotel': 50,\n",
       "         'Vacation home': 11,\n",
       "         'Hut': 7,\n",
       "         'Treehouse': 7,\n",
       "         'Yurt': 8,\n",
       "         'Chalet': 4,\n",
       "         'Island': 1,\n",
       "         'Tipi': 3,\n",
       "         'Train': 2,\n",
       "         'Parking Space': 1,\n",
       "         'Casa particular': 1})"
      ]
     },
     "execution_count": 32,
     "metadata": {},
     "output_type": "execute_result"
    }
   ],
   "source": [
    "train_property_type_counter"
   ]
  },
  {
   "cell_type": "markdown",
   "metadata": {},
   "source": [
    "### 説明\n",
    "\n",
    "物件の説明が設定されている。\n",
    "最大で1000文字まで設定されている。\n",
    "※説明が1000文字以上の場合は先頭1000文字まで設定されている\n",
    "\n",
    "ex. id=8 のデータ\n",
    "```\n",
    "Very bright & cozy private room right in the heart of North Beach- a very short walking distance from Fisherman's Wharf, Pier 39, Coit Tower, Lombard Street, Pier 33 (Alcatraz Pier), Chinatown, & cruise/ferry terminals; one block from all public transportation, including cable cars, with a relaxing, beautiful garden! Built in 1907, this house on Greenwich Street is on the grounds of the first cemetery in San Francisco. The room is comfortable & cozy & you are assured a great night's rest. The building comes with the charms of one erected over 100 years ago, so please keep that in mind. With one of the best & most relaxing gardens in all of North Beach. The pictures speak for themselves as far as describing the room. I am happy to try to accommodate anything you need. Please ask if I may do anything to make your time here more enjoyable. There are no laundry facilities on site, however, there is a laundromat & two wash & fold drop-off establishments within one block of the house. I am t\n",
    "```"
   ]
  },
  {
   "cell_type": "code",
   "execution_count": 13,
   "metadata": {},
   "outputs": [
    {
     "data": {
      "text/plain": [
       "0         379\n",
       "1         406\n",
       "2         467\n",
       "3        1000\n",
       "4        1000\n",
       "         ... \n",
       "55578    1000\n",
       "55579    1000\n",
       "55580     239\n",
       "55581     756\n",
       "55582     131\n",
       "Name: description, Length: 55583, dtype: int64"
      ]
     },
     "execution_count": 13,
     "metadata": {},
     "output_type": "execute_result"
    }
   ],
   "source": [
    "train_df.description.str.len()"
   ]
  },
  {
   "cell_type": "code",
   "execution_count": 22,
   "metadata": {},
   "outputs": [],
   "source": [
    "def plot_hist_by_description_lengh(df: pd.DataFrame):\n",
    "  \"\"\"説明文字数のヒストグラム出力\n",
    "\n",
    "  Args:\n",
    "      df (pd.DataFrame): ロードデータ\n",
    "  \"\"\"\n",
    "\n",
    "  plt.hist(df.description_length, bins=range(0, 1000, 50))\n",
    "  plt.title(\"description_length\")\n",
    "  plt.show()"
   ]
  },
  {
   "cell_type": "code",
   "execution_count": 23,
   "metadata": {},
   "outputs": [
    {
     "data": {
      "image/png": "[encoded data removed]",
      "text/plain": [
       "<Figure size 432x288 with 1 Axes>"
      ]
     },
     "metadata": {
      "needs_background": "light"
     },
     "output_type": "display_data"
    }
   ],
   "source": [
    "plot_hist_by_description_lengh(train_df)"
   ]
  },
  {
   "cell_type": "code",
   "execution_count": 19,
   "metadata": {},
   "outputs": [],
   "source": [
    "def plot_scatter_by_description_lengh(df: pd.DataFrame):\n",
    "  \"\"\"説明文字数の宿泊価格散布図出力\n",
    "\n",
    "  Args:\n",
    "      df (pd.DataFrame): ロードデータ\n",
    "  \"\"\"\n",
    "\n",
    "  plt.scatter(df.description_length, df.y)\n",
    "  plt.title(\"description_length\")\n",
    "  plt.show()"
   ]
  },
  {
   "cell_type": "code",
   "execution_count": 20,
   "metadata": {},
   "outputs": [
    {
     "data": {
      "image/png": "[encoded data removed]",
      "text/plain": [
       "<Figure size 432x288 with 1 Axes>"
      ]
     },
     "metadata": {
      "needs_background": "light"
     },
     "output_type": "display_data"
    }
   ],
   "source": [
    "plot_scatter_by_description_lengh(train_df)"
   ]
  },
  {
   "cell_type": "markdown",
   "metadata": {},
   "source": [
    "説明文の文字数と価格は直接的な関係は関係は無い様に見える"
   ]
  },
  {
   "cell_type": "markdown",
   "metadata": {},
   "source": [
    "### キャンセル料"
   ]
  },
  {
   "cell_type": "code",
   "execution_count": 24,
   "metadata": {},
   "outputs": [],
   "source": [
    "cancellation_policy_counter = collections.Counter(train_df.cancellation_policy)"
   ]
  },
  {
   "cell_type": "code",
   "execution_count": 25,
   "metadata": {},
   "outputs": [
    {
     "data": {
      "text/plain": [
       "dict_items([('flexible', 16886), ('strict', 24318), ('moderate', 14288), ('super_strict_30', 78), ('super_strict_60', 13)])"
      ]
     },
     "execution_count": 25,
     "metadata": {},
     "output_type": "execute_result"
    }
   ],
   "source": [
    "cancellation_policy_counter.items()"
   ]
  },
  {
   "cell_type": "code",
   "execution_count": 32,
   "metadata": {},
   "outputs": [],
   "source": [
    "def plot_hist_by_cancellation_policy(df: pd.DataFrame):\n",
    "  \"\"\"キャンセル料の宿泊価格ヒストグラム出力\n",
    "\n",
    "  Args:\n",
    "      df (pd.DataFrame): ロードデータ\n",
    "  \"\"\"\n",
    "  cancellation_policies = df.cancellation_policy.unique()\n",
    "\n",
    "  for cancellation_policy in cancellation_policies:\n",
    "    plot_data = df[df.cancellation_policy == cancellation_policy]\n",
    "    plt.hist(plot_data.y, bins=range(0, 2000, 50))\n",
    "    plt.title(cancellation_policy)\n",
    "    plt.show()"
   ]
  },
  {
   "cell_type": "code",
   "execution_count": 33,
   "metadata": {},
   "outputs": [
    {
     "data": {
      "image/png": "[encoded data removed]",
      "text/plain": [
       "<Figure size 432x288 with 1 Axes>"
      ]
     },
     "metadata": {
      "needs_background": "light"
     },
     "output_type": "display_data"
    },
    {
     "data": {
      "image/png": "[encoded data removed]",
      "text/plain": [
       "<Figure size 432x288 with 1 Axes>"
      ]
     },
     "metadata": {
      "needs_background": "light"
     },
     "output_type": "display_data"
    },
    {
     "data": {
      "image/png": "[encoded data removed]",
      "text/plain": [
       "<Figure size 432x288 with 1 Axes>"
      ]
     },
     "metadata": {
      "needs_background": "light"
     },
     "output_type": "display_data"
    },
    {
     "data": {
      "image/png": "[encoded data removed]",
      "text/plain": [
       "<Figure size 432x288 with 1 Axes>"
      ]
     },
     "metadata": {
      "needs_background": "light"
     },
     "output_type": "display_data"
    },
    {
     "data": {
      "image/png": "[encoded data removed]",
      "text/plain": [
       "<Figure size 432x288 with 1 Axes>"
      ]
     },
     "metadata": {
      "needs_background": "light"
     },
     "output_type": "display_data"
    }
   ],
   "source": [
    "plot_hist_by_cancellation_policy(train_df)"
   ]
  },
  {
   "cell_type": "markdown",
   "metadata": {},
   "source": [
    "おおよそ下記のような傾向が見られた。  \n",
    "```\n",
    "flexible　< strict < moderate < super_strict_30 < super_strict_60\n",
    "```  \n",
    "順序変数として扱うことができれば、良さそう。  "
   ]
  },
  {
   "cell_type": "markdown",
   "metadata": {},
   "source": [
    "### ホストの情報"
   ]
  },
  {
   "cell_type": "code",
   "execution_count": 34,
   "metadata": {},
   "outputs": [],
   "source": [
    "host_has_profile_pic_counter = collections.Counter(train_df.host_has_profile_pic)\n",
    "host_identity_verified_counter = collections.Counter(train_df.host_identity_verified)"
   ]
  },
  {
   "cell_type": "code",
   "execution_count": 35,
   "metadata": {},
   "outputs": [
    {
     "data": {
      "text/plain": [
       "Counter({'t': 55265, nan: 148, 'f': 170})"
      ]
     },
     "execution_count": 35,
     "metadata": {},
     "output_type": "execute_result"
    }
   ],
   "source": [
    "host_has_profile_pic_counter"
   ]
  },
  {
   "cell_type": "code",
   "execution_count": 36,
   "metadata": {},
   "outputs": [
    {
     "data": {
      "text/plain": [
       "Counter({'f': 18171, 't': 37264, nan: 148})"
      ]
     },
     "execution_count": 36,
     "metadata": {},
     "output_type": "execute_result"
    }
   ],
   "source": [
    "host_identity_verified_counter"
   ]
  },
  {
   "cell_type": "code",
   "execution_count": 37,
   "metadata": {},
   "outputs": [],
   "source": [
    "def plot_hist_by_host_has_profile_pic(df: pd.DataFrame):\n",
    "  \"\"\"ホストの写真有無の宿泊価格ヒストグラム出力\n",
    "\n",
    "  Args:\n",
    "      df (pd.DataFrame): ロードデータ\n",
    "  \"\"\"\n",
    "  has_host_pic_flags = df.host_has_profile_pic.unique()\n",
    "\n",
    "  for has_host_pic_flag in has_host_pic_flags:\n",
    "    plot_data = df[df.host_has_profile_pic == has_host_pic_flag]\n",
    "    plt.hist(plot_data.y, bins=range(0, 2000, 50))\n",
    "    plt.title(has_host_pic_flag)\n",
    "    plt.show()"
   ]
  },
  {
   "cell_type": "code",
   "execution_count": 39,
   "metadata": {},
   "outputs": [
    {
     "data": {
      "image/png": "[encoded data removed]",
      "text/plain": [
       "<Figure size 432x288 with 1 Axes>"
      ]
     },
     "metadata": {
      "needs_background": "light"
     },
     "output_type": "display_data"
    },
    {
     "data": {
      "image/png": "[encoded data removed]",
      "text/plain": [
       "<Figure size 432x288 with 1 Axes>"
      ]
     },
     "metadata": {
      "needs_background": "light"
     },
     "output_type": "display_data"
    },
    {
     "data": {
      "image/png": "[encoded data removed]",
      "text/plain": [
       "<Figure size 432x288 with 1 Axes>"
      ]
     },
     "metadata": {
      "needs_background": "light"
     },
     "output_type": "display_data"
    }
   ],
   "source": [
    "plot_hist_by_host_has_profile_pic(train_df)"
   ]
  },
  {
   "cell_type": "markdown",
   "metadata": {},
   "source": [
    "ホストの写真の有無は価格に影響していない様に見える"
   ]
  },
  {
   "cell_type": "code",
   "execution_count": 40,
   "metadata": {},
   "outputs": [],
   "source": [
    "def plot_hist_by_host_identity_verified(df: pd.DataFrame):\n",
    "  \"\"\"ホストの写真有無の宿泊価格ヒストグラム出力\n",
    "\n",
    "  Args:\n",
    "      df (pd.DataFrame): ロードデータ\n",
    "  \"\"\"\n",
    "  host_identity_verified_flags = df.host_identity_verified.unique()\n",
    "\n",
    "  for host_identity_verified_flag in host_identity_verified_flags:\n",
    "    plot_data = df[df.host_identity_verified == host_identity_verified_flag]\n",
    "    plt.hist(plot_data.y, bins=range(0, 2000, 50))\n",
    "    plt.title(host_identity_verified_flag)\n",
    "    plt.show()"
   ]
  },
  {
   "cell_type": "code",
   "execution_count": 41,
   "metadata": {},
   "outputs": [
    {
     "data": {
      "image/png": "[encoded data removed]",
      "text/plain": [
       "<Figure size 432x288 with 1 Axes>"
      ]
     },
     "metadata": {
      "needs_background": "light"
     },
     "output_type": "display_data"
    },
    {
     "data": {
      "image/png": "[encoded data removed]",
      "text/plain": [
       "<Figure size 432x288 with 1 Axes>"
      ]
     },
     "metadata": {
      "needs_background": "light"
     },
     "output_type": "display_data"
    },
    {
     "data": {
      "image/png": "[encoded data removed]",
      "text/plain": [
       "<Figure size 432x288 with 1 Axes>"
      ]
     },
     "metadata": {
      "needs_background": "light"
     },
     "output_type": "display_data"
    }
   ],
   "source": [
    "plot_hist_by_host_identity_verified(train_df)"
   ]
  },
  {
   "cell_type": "markdown",
   "metadata": {},
   "source": [
    "ホストの写真の有無は価格に影響していない様に見える"
   ]
  },
  {
   "cell_type": "markdown",
   "metadata": {},
   "source": [
    "### 即時予約可否"
   ]
  },
  {
   "cell_type": "code",
   "execution_count": 42,
   "metadata": {},
   "outputs": [],
   "source": [
    "instant_bookable_counter = collections.Counter(train_df.instant_bookable)"
   ]
  },
  {
   "cell_type": "code",
   "execution_count": 43,
   "metadata": {},
   "outputs": [
    {
     "data": {
      "text/plain": [
       "Counter({'f': 41034, 't': 14549})"
      ]
     },
     "execution_count": 43,
     "metadata": {},
     "output_type": "execute_result"
    }
   ],
   "source": [
    "instant_bookable_counter"
   ]
  },
  {
   "cell_type": "code",
   "execution_count": 44,
   "metadata": {},
   "outputs": [],
   "source": [
    "def plot_hist_by_instant_bookable(df: pd.DataFrame):\n",
    "  \"\"\"即時予約可否の宿泊価格ヒストグラム出力\n",
    "\n",
    "  Args:\n",
    "      df (pd.DataFrame): ロードデータ\n",
    "  \"\"\"\n",
    "  instant_bookable_flags = df.instant_bookable.unique()\n",
    "\n",
    "  for instant_bookable_flag in instant_bookable_flags:\n",
    "    plot_data = df[df.instant_bookable == instant_bookable_flag]\n",
    "    plt.hist(plot_data.y, bins=range(0, 2000, 50))\n",
    "    plt.title(instant_bookable_flag)\n",
    "    plt.show()"
   ]
  },
  {
   "cell_type": "code",
   "execution_count": 45,
   "metadata": {},
   "outputs": [
    {
     "data": {
      "image/png": "[encoded data removed]",
      "text/plain": [
       "<Figure size 432x288 with 1 Axes>"
      ]
     },
     "metadata": {
      "needs_background": "light"
     },
     "output_type": "display_data"
    },
    {
     "data": {
      "image/png": "[encoded data removed]",
      "text/plain": [
       "<Figure size 432x288 with 1 Axes>"
      ]
     },
     "metadata": {
      "needs_background": "light"
     },
     "output_type": "display_data"
    }
   ],
   "source": [
    "plot_hist_by_instant_bookable(train_df)"
   ]
  },
  {
   "cell_type": "markdown",
   "metadata": {},
   "source": [
    "即時予約の有無は価格に影響はなさそう"
   ]
  },
  {
   "cell_type": "markdown",
   "metadata": {},
   "source": [
    "### レビュー数"
   ]
  },
  {
   "cell_type": "code",
   "execution_count": 52,
   "metadata": {},
   "outputs": [],
   "source": [
    "def plot_scatter_by_number_of_reviews(df: pd.DataFrame):\n",
    "  \"\"\"レビュー数の宿泊価格散布図出力\n",
    "\n",
    "  Args:\n",
    "      df (pd.DataFrame): ロードデータ\n",
    "  \"\"\"\n",
    "\n",
    "  plt.scatter(df.number_of_reviews, df.y)\n",
    "  plt.title(\"number_of_reviews\")\n",
    "  plt.show()"
   ]
  },
  {
   "cell_type": "code",
   "execution_count": 51,
   "metadata": {},
   "outputs": [
    {
     "data": {
      "image/png": "[encoded data removed]",
      "text/plain": [
       "<Figure size 432x288 with 1 Axes>"
      ]
     },
     "metadata": {
      "needs_background": "light"
     },
     "output_type": "display_data"
    }
   ],
   "source": [
    "plot_scatter_by_number_of_reviews(train_df)"
   ]
  },
  {
   "cell_type": "markdown",
   "metadata": {},
   "source": [
    "価格が低い物件はレビュー数が多いものから少ないものまで幅広く分布しているが、  \n",
    "価格が高い物件はレビュー数が少ないはレビューが低いものがほとんど  \n",
    "⇨価格が低い物件は利用者が多く、その分レビュワーが多くなっている  \n",
    "⇨⇨価格が低いからレビュー数が多いという因果関係のため、レビュー数はモデルに組み込まない方が良さそう"
   ]
  },
  {
   "cell_type": "markdown",
   "metadata": {},
   "source": [
    "### レビュースコア"
   ]
  },
  {
   "cell_type": "code",
   "execution_count": 55,
   "metadata": {},
   "outputs": [],
   "source": [
    "def plot_scatter_by_review_scores_rating(df: pd.DataFrame):\n",
    "  \"\"\"レビュースコアの宿泊価格散布図出力\n",
    "\n",
    "  Args:\n",
    "      df (pd.DataFrame): ロードデータ\n",
    "  \"\"\"\n",
    "\n",
    "  plt.scatter(df.review_scores_rating, df.y)\n",
    "  plt.title(\"review_scores_rating\")\n",
    "  plt.show()"
   ]
  },
  {
   "cell_type": "code",
   "execution_count": 56,
   "metadata": {},
   "outputs": [
    {
     "data": {
      "image/png": "[encoded data removed]",
      "text/plain": [
       "<Figure size 432x288 with 1 Axes>"
      ]
     },
     "metadata": {
      "needs_background": "light"
     },
     "output_type": "display_data"
    }
   ],
   "source": [
    "plot_scatter_by_review_scores_rating(train_df)"
   ]
  },
  {
   "cell_type": "markdown",
   "metadata": {},
   "source": [
    "レビュースコアと価格は直接的な関係は見られなかった  \n",
    "⇨スコアは満足度を表すため、コストパフォーマンスを表す値になっていそう\n",
    "\n"
   ]
  },
  {
   "cell_type": "markdown",
   "metadata": {},
   "source": [
    "### 部屋の種類"
   ]
  },
  {
   "cell_type": "code",
   "execution_count": 57,
   "metadata": {},
   "outputs": [],
   "source": [
    "room_type_counter = collections.Counter(train_df.room_type)"
   ]
  },
  {
   "cell_type": "code",
   "execution_count": 58,
   "metadata": {},
   "outputs": [
    {
     "data": {
      "text/plain": [
       "dict_items([('Private room', 23023), ('Entire home/apt', 30939), ('Shared room', 1621)])"
      ]
     },
     "execution_count": 58,
     "metadata": {},
     "output_type": "execute_result"
    }
   ],
   "source": [
    "room_type_counter.items()"
   ]
  },
  {
   "cell_type": "code",
   "execution_count": 59,
   "metadata": {},
   "outputs": [],
   "source": [
    "def plot_hist_by_room_type(df: pd.DataFrame):\n",
    "  \"\"\"部屋の種類の宿泊価格ヒストグラム出力\n",
    "\n",
    "  Args:\n",
    "      df (pd.DataFrame): ロードデータ\n",
    "  \"\"\"\n",
    "  \n",
    "  room_types = df.room_type.unique()\n",
    "\n",
    "  for room_type in room_types:\n",
    "    plot_data = df[df.room_type == room_type]\n",
    "    plt.hist(plot_data.y, bins=range(0, 2000, 50))\n",
    "    plt.title(room_type)\n",
    "    plt.show()"
   ]
  },
  {
   "cell_type": "code",
   "execution_count": 60,
   "metadata": {},
   "outputs": [
    {
     "data": {
      "image/png": "[encoded data removed]",
      "text/plain": [
       "<Figure size 432x288 with 1 Axes>"
      ]
     },
     "metadata": {
      "needs_background": "light"
     },
     "output_type": "display_data"
    },
    {
     "data": {
      "image/png": "[encoded data removed]",
      "text/plain": [
       "<Figure size 432x288 with 1 Axes>"
      ]
     },
     "metadata": {
      "needs_background": "light"
     },
     "output_type": "display_data"
    },
    {
     "data": {
      "image/png": "[encoded data removed]",
      "text/plain": [
       "<Figure size 432x288 with 1 Axes>"
      ]
     },
     "metadata": {
      "needs_background": "light"
     },
     "output_type": "display_data"
    }
   ],
   "source": [
    "plot_hist_by_room_type(train_df)"
   ]
  },
  {
   "cell_type": "markdown",
   "metadata": {},
   "source": [
    "価格順は下記の傾向が見られた\n",
    "```\n",
    "Shared room < Private room < Entire home\n",
    "```"
   ]
  }
 ],
 "metadata": {
  "interpreter": {
   "hash": "74c7c3687703664997f19149f5445e423068aa826b97a36d943ea9f2cd8004e5"
  },
  "kernelspec": {
   "display_name": "Python 3.10.4 ('python_3.10')",
   "language": "python",
   "name": "python3"
  },
  "language_info": {
   "codemirror_mode": {
    "name": "ipython",
    "version": 3
   },
   "file_extension": ".py",
   "mimetype": "text/x-python",
   "name": "python",
   "nbconvert_exporter": "python",
   "pygments_lexer": "ipython3",
   "version": "3.10.4"
  },
  "orig_nbformat": 4
 },
 "nbformat": 4,
 "nbformat_minor": 2
}
